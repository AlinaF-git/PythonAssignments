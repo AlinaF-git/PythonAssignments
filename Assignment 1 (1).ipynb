{
 "cells": [
  {
   "cell_type": "markdown",
   "id": "489e8086-c41d-4605-adb3-d7287f1464f8",
   "metadata": {},
   "source": [
    "\n"
   ]
  },
  {
   "cell_type": "markdown",
   "id": "2ffe0423-da24-4012-b9ce-cc901902644c",
   "metadata": {},
   "source": [
    "### Variable types and printing in Python\n",
    "\n",
    "\n",
    "This Python code defines three variables: a **float** (`counter = 100.00`), an **integer** (`miles = 100`), and a **string** (`name = \"Mehvish\"`).  \n",
    "It then prints the values of all three variables using the **`print()` function**.  \n",
    "The code demonstrates how different **data types** (**float**, **integer**, and **string**) are assigned and displayed in **Python**.\n"
   ]
  },
  {
   "cell_type": "code",
   "execution_count": 2,
   "id": "0df3e0f5-99ea-43b8-a39c-ad1fc638a838",
   "metadata": {},
   "outputs": [
    {
     "name": "stdout",
     "output_type": "stream",
     "text": [
      "100.0\n",
      "100\n",
      "Mehvish\n"
     ]
    }
   ],
   "source": [
    "counter = 100.00  \n",
    "miles = 100       \n",
    "name = \"Mehvish\"\n",
    "\n",
    "print(counter)\n",
    "print(miles)\n",
    "print(name)\n"
   ]
  },
  {
   "cell_type": "markdown",
   "id": "50e66b42-b1bc-4f64-a83d-f16b1202eb96",
   "metadata": {},
   "source": [
    "### Using whole numbers in Python\n",
    "\n",
    "The number `2` is a whole number (called an **integer**) in Python. It does not have a decimal point. We use whole numbers for counting and basic math in Python programs.\n"
   ]
  },
  {
   "cell_type": "code",
   "execution_count": 3,
   "id": "e17cfac0-3c59-49a0-aa1c-547592131775",
   "metadata": {},
   "outputs": [
    {
     "data": {
      "text/plain": [
       "2"
      ]
     },
     "execution_count": 3,
     "metadata": {},
     "output_type": "execute_result"
    }
   ],
   "source": [
    "2 "
   ]
  },
  {
   "cell_type": "markdown",
   "id": "4f8e7887-4c25-4ffd-bee9-fe861c553a56",
   "metadata": {},
   "source": [
    "### Adding whole numbers in Python\n",
    "\n",
    "The expression `2 + 3` adds two whole numbers. These are called **integers** in Python. The result is also a whole number. We use this to do basic math like addition in Python programs.\n"
   ]
  },
  {
   "cell_type": "code",
   "execution_count": 4,
   "id": "017001e3-3946-4495-80e9-8e11c59c509c",
   "metadata": {},
   "outputs": [
    {
     "data": {
      "text/plain": [
       "5"
      ]
     },
     "execution_count": 4,
     "metadata": {},
     "output_type": "execute_result"
    }
   ],
   "source": [
    "2+3"
   ]
  },
  {
   "cell_type": "markdown",
   "id": "c3683706-72bf-4bb4-9c65-dae22732bfbc",
   "metadata": {},
   "source": [
    "### Adding decimal numbers\n",
    "\n",
    "The expression `2.3 + 5.5` adds two decimal numbers. Decimal numbers have a dot. In Python, they are called floats. We use them for things like money, weight, or length.\n"
   ]
  },
  {
   "cell_type": "code",
   "execution_count": 5,
   "id": "dd3b6288-fa3e-4d66-ad52-38305b561cd3",
   "metadata": {},
   "outputs": [
    {
     "data": {
      "text/plain": [
       "7.8"
      ]
     },
     "execution_count": 5,
     "metadata": {},
     "output_type": "execute_result"
    }
   ],
   "source": [
    "2.3+5.5"
   ]
  },
  {
   "cell_type": "markdown",
   "id": "180a35ac-b8ae-4572-8e2e-924d9fe67a24",
   "metadata": {},
   "source": [
    "### Exponent in Python\n",
    "\n",
    "`2**2` means 2 raised to the power of 2. It is called an **exponent** in Python. This gives the result `4`. We use this when we want to multiply a number by itself.\n"
   ]
  },
  {
   "cell_type": "code",
   "execution_count": 6,
   "id": "9da991cf-90fd-4e0a-bc4f-77668c905499",
   "metadata": {},
   "outputs": [
    {
     "data": {
      "text/plain": [
       "4"
      ]
     },
     "execution_count": 6,
     "metadata": {},
     "output_type": "execute_result"
    }
   ],
   "source": [
    "2**2"
   ]
  },
  {
   "cell_type": "markdown",
   "id": "af26482f-5500-4126-a9d8-b1cd2c97f4a1",
   "metadata": {},
   "source": [
    "### Storing and printing strings\n",
    "\n",
    "In this code, `'Mehvish'` and `\"COMSATS\"` are both strings. A string is a group of letters or text.  \n",
    "We store them in variables `name` and `university`, then use `print()` to show both on the screen.\n"
   ]
  },
  {
   "cell_type": "code",
   "execution_count": 9,
   "id": "0e1ab866-f7bb-4583-b944-360a08ae8006",
   "metadata": {},
   "outputs": [
    {
     "name": "stdout",
     "output_type": "stream",
     "text": [
      "Mehvish COMSATS\n"
     ]
    }
   ],
   "source": [
    "name = 'Mehvish'\n",
    "university = \"COMSATS\"\n",
    "print(name,university)"
   ]
  },
  {
   "cell_type": "markdown",
   "id": "1cdaa541-afef-4ab8-9a1d-917b4a17edf1",
   "metadata": {},
   "source": [
    "### Accessing characters in a string\n",
    "\n",
    "The string `'Hello World'` is saved in a variable.  \n",
    "- `stringVariable[0]` gives the first letter: `H`  \n",
    "- `stringVariable[1:5]` gives part of the string: `ello`\n",
    "\n",
    "This shows how to get letters using index numbers.\n"
   ]
  },
  {
   "cell_type": "code",
   "execution_count": 10,
   "id": "36d04ec5-9820-4a34-9d49-edabe4a72440",
   "metadata": {},
   "outputs": [
    {
     "name": "stdout",
     "output_type": "stream",
     "text": [
      "stringVariable[0]: H\n",
      "stringVariable[1:5]: ello\n"
     ]
    }
   ],
   "source": [
    "stringVariable = 'Hello World'\n",
    "print(\"stringVariable[0]:\", stringVariable[0])\n",
    "print(\"stringVariable[1:5]:\", stringVariable[1:5])\n"
   ]
  },
  {
   "cell_type": "markdown",
   "id": "0b20d412-8586-4fbb-8e42-acd7f882ab15",
   "metadata": {},
   "source": [
    "### Changing part of a string\n",
    "\n",
    "The string `\"Hello World\"` is saved in a variable.  \n",
    "Then part of it is replaced using **slicing** and the **`+` operator**.  \n",
    "- `stringVariable[:6]` gets **\"Hello \"**  \n",
    "- **\"Python\"** is added after it\n",
    "\n",
    "The final result is: **`Hello Python`**\n"
   ]
  },
  {
   "cell_type": "code",
   "execution_count": 12,
   "id": "771c0bb5-31f6-4cff-917e-3e4c194ab390",
   "metadata": {},
   "outputs": [
    {
     "name": "stdout",
     "output_type": "stream",
     "text": [
      "Updated string:  Hello Python\n"
     ]
    }
   ],
   "source": [
    "stringVariable = \"Hello World\"\n",
    "stringVariable = stringVariable[:6] + \"Python\"\n",
    "print(\"Updated string: \", stringVariable)"
   ]
  },
  {
   "cell_type": "markdown",
   "id": "6a7d42f6-8fe1-4e12-b2c9-9c95c26f4c27",
   "metadata": {},
   "source": [
    "### Deleting a string\n",
    "\n",
    "A string is saved in a variable and printed.  \n",
    "Then the variable is **deleted** using `del`.  \n",
    "If we try to use it again, Python gives an **error** because it’s gone.\n"
   ]
  },
  {
   "cell_type": "code",
   "execution_count": 14,
   "id": "eec7149f-9268-401d-9e17-0ed78e218f20",
   "metadata": {},
   "outputs": [
    {
     "name": "stdout",
     "output_type": "stream",
     "text": [
      "Hello World\n"
     ]
    },
    {
     "ename": "NameError",
     "evalue": "name 'stringVariable' is not defined",
     "output_type": "error",
     "traceback": [
      "\u001b[1;31m---------------------------------------------------------------------------\u001b[0m",
      "\u001b[1;31mNameError\u001b[0m                                 Traceback (most recent call last)",
      "Cell \u001b[1;32mIn[14], line 4\u001b[0m\n\u001b[0;32m      2\u001b[0m \u001b[38;5;28mprint\u001b[39m (stringVariable)\n\u001b[0;32m      3\u001b[0m \u001b[38;5;28;01mdel\u001b[39;00m stringVariable\n\u001b[1;32m----> 4\u001b[0m \u001b[38;5;28mprint\u001b[39m (stringVariable)\n",
      "\u001b[1;31mNameError\u001b[0m: name 'stringVariable' is not defined"
     ]
    }
   ],
   "source": [
    "stringVariable = \"Hello World\"\n",
    "print (stringVariable)\n",
    "del stringVariable\n",
    "print (stringVariable)"
   ]
  },
  {
   "cell_type": "markdown",
   "id": "e193a890-bd99-4b90-9035-c93a8122dc5e",
   "metadata": {},
   "source": [
    "### • **String Special Operators**\n",
    "\n",
    "### Joining two strings in Python\n",
    "\n",
    "The string `\"Hello\"` is saved in a variable.  \n",
    "Then `\"Python\"` is added to it using the **`+` operator** inside the `print()` function.\n",
    "\n",
    "This joins both strings and prints: **HelloPython**\n"
   ]
  },
  {
   "cell_type": "code",
   "execution_count": 16,
   "id": "e443bba8-eeb7-43d8-86cb-4503851a91ee",
   "metadata": {},
   "outputs": [
    {
     "name": "stdout",
     "output_type": "stream",
     "text": [
      "HelloPython\n"
     ]
    }
   ],
   "source": [
    "variable = \"Hello\"\n",
    "print(variable+\"Python\")"
   ]
  },
  {
   "cell_type": "markdown",
   "id": "086611fb-28f0-498b-b4e0-52e6c75e797f",
   "metadata": {},
   "source": [
    "\n",
    "### Repeating a string in Python\n",
    "\n",
    "The string `\"Hello\"` is stored in a variable.  \n",
    "Then `print(variable * 3)` repeats the string **three times**.\n",
    "\n",
    "It prints: **HelloHelloHello**\n"
   ]
  },
  {
   "cell_type": "code",
   "execution_count": 18,
   "id": "82840e1d-fecd-4db1-a16d-83b1193e6f58",
   "metadata": {},
   "outputs": [
    {
     "name": "stdout",
     "output_type": "stream",
     "text": [
      "HelloHelloHello\n"
     ]
    }
   ],
   "source": [
    "variable = \"Hello\"\n",
    "print(variable*3)"
   ]
  },
  {
   "cell_type": "markdown",
   "id": "6eeea50d-4bc6-43b7-adf9-fd2dd28aace1",
   "metadata": {},
   "source": [
    "\n",
    "### Using [ ] to get one letter from a string\n",
    "\n",
    "We saved the word `\"Hello\"` in a variable.  \n",
    "Then we used `[1]` to get the letter at **index 1**.\n",
    "\n",
    "In Python, counting starts from 0:\n",
    "\n",
    "- H = 0  \n",
    "- e = 1  \n",
    "- l = 2  \n",
    "- l = 3  \n",
    "- o = 4  \n",
    "\n",
    "So `variable[1]` gives us: **e**\n"
   ]
  },
  {
   "cell_type": "code",
   "execution_count": 19,
   "id": "850565c5-b00a-4fed-828c-c608bb9fa58b",
   "metadata": {},
   "outputs": [
    {
     "name": "stdout",
     "output_type": "stream",
     "text": [
      "e\n"
     ]
    }
   ],
   "source": [
    "variable = \"Hello\"\n",
    "print(variable[1])\n"
   ]
  },
  {
   "cell_type": "markdown",
   "id": "7f907d0c-57f2-4034-bdf1-7db8f93dc046",
   "metadata": {},
   "source": [
    "### Using [:] to get part of a string\n",
    "\n",
    "The string `\"Hello\"` is saved in a variable.  \n",
    "`variable[1:3]` gives the letters from index 1 to 2 (3 is not included).  \n",
    "\n",
    "So it prints: **el**\n"
   ]
  },
  {
   "cell_type": "code",
   "execution_count": 21,
   "id": "119cd0dd-d480-4a04-bc8b-97c18eca4d9c",
   "metadata": {},
   "outputs": [
    {
     "name": "stdout",
     "output_type": "stream",
     "text": [
      "el\n"
     ]
    }
   ],
   "source": [
    "variable = \"Hello\"\n",
    "print(variable[1:3])\n"
   ]
  },
  {
   "cell_type": "markdown",
   "id": "1acc5ebf-4ac6-4e20-a1d3-b5be86f4a915",
   "metadata": {},
   "source": [
    "### Using `in` to check a letter\n",
    "\n",
    "This code checks if **'H'** is inside the word **\"Hello\"**.\n",
    "\n",
    "It prints: **True**\n"
   ]
  },
  {
   "cell_type": "code",
   "execution_count": 23,
   "id": "93fc9e90-aefd-4d3d-96b2-bfc129a8e585",
   "metadata": {},
   "outputs": [
    {
     "name": "stdout",
     "output_type": "stream",
     "text": [
      "True\n"
     ]
    }
   ],
   "source": [
    "variable = \"Hello\"\n",
    "print('H' in variable)"
   ]
  },
  {
   "cell_type": "markdown",
   "id": "23c0a186-062b-4221-869f-809f01c7fb9f",
   "metadata": {},
   "source": [
    "### Using `not in` to check if a letter is missing\n",
    "\n",
    "The string `\"Hello\"` is saved in a variable.  \n",
    "This code checks if **'G'** is **not** in the string.\n",
    "\n",
    "It prints: **True** (because 'G' is not in \"Hello\")"
   ]
  },
  {
   "cell_type": "code",
   "execution_count": 24,
   "id": "be7bd28b-f226-4584-b68c-a2a2d4814ab6",
   "metadata": {},
   "outputs": [
    {
     "name": "stdout",
     "output_type": "stream",
     "text": [
      "True\n"
     ]
    }
   ],
   "source": [
    "variable = \"Hello\"\n",
    "print('G' not in variable)"
   ]
  },
  {
   "cell_type": "markdown",
   "id": "92a351cc-bf63-4f46-bbc4-0486ffaf13ca",
   "metadata": {},
   "source": [
    "### • **String Formatting Operator**\n",
    "\n",
    "** \"My name is %s and age is %d kg!\"**\n",
    "- `%s` is used to insert a **string** (like a name: \"Zara\")  \n",
    "- `%d` is used to insert an **integer number** (like age: 21)\n",
    "\n",
    "This line adds a name and number into the string using `%s` and `%d`.  \n",
    "It prints: **My name is Zara and age is 21 kg!**\n"
   ]
  },
  {
   "cell_type": "code",
   "execution_count": 25,
   "id": "f4dc3b2a-a8c5-4277-9e05-493ef6138247",
   "metadata": {},
   "outputs": [
    {
     "name": "stdout",
     "output_type": "stream",
     "text": [
      "My name is Zara and age is 21 kg!\n"
     ]
    }
   ],
   "source": [
    "print (\"My name is %s and age is %d kg!\" % (\"Zara\",21))"
   ]
  },
  {
   "cell_type": "markdown",
   "id": "eae81536-cff0-4747-9fa3-6b9e798de12f",
   "metadata": {},
   "source": [
    "### • **Creating and Showing a List**\n",
    "\n",
    "**list1 = ['Mehvish', '1880']**\n",
    "\n",
    "This line makes a list with two things: a name and a number (both as text).  \n",
    "`print(list1)` shows the full list.\n"
   ]
  },
  {
   "cell_type": "code",
   "execution_count": 27,
   "id": "efb90c3d-e788-49ad-ae5a-aea90196fd57",
   "metadata": {},
   "outputs": [
    {
     "name": "stdout",
     "output_type": "stream",
     "text": [
      "['Mehvish', '1880']\n"
     ]
    }
   ],
   "source": [
    "list1 = ['Mehvish','1880']\n",
    "print(list1)"
   ]
  },
  {
   "cell_type": "markdown",
   "id": "c65d3df8-890a-4a2f-b811-145d04c19c6c",
   "metadata": {},
   "source": [
    "### Accessing Items in a List\n",
    "\n",
    "**list1 = ['physics', 'chemistry', 1997, 2000]**  \n",
    "**list2 = [1, 2, 3, 4, 5, 6, 7]**\n",
    "\n",
    "- `list1[0]` shows the **first item** in list1 → **physics**\n",
    "- `list2[1:5]` shows items from index 1 to 4 → **[2, 3, 4, 5]**"
   ]
  },
  {
   "cell_type": "code",
   "execution_count": 28,
   "id": "0e7f04f4-16f5-4c3a-8061-6696badd577f",
   "metadata": {},
   "outputs": [
    {
     "name": "stdout",
     "output_type": "stream",
     "text": [
      "list1[0]:  physics\n",
      "list2[1:5]:  [2, 3, 4, 5]\n"
     ]
    }
   ],
   "source": [
    "list1 = ['physics', 'chemistry', 1997, 2000];\n",
    "list2 = [1, 2, 3, 4, 5, 6, 7 ];\n",
    "print (\"list1[0]: \", list1[0])\n",
    "print (\"list2[1:5]: \", list2[1:5])"
   ]
  },
  {
   "cell_type": "markdown",
   "id": "18703f57-5eba-4628-b911-8249ee35230a",
   "metadata": {},
   "source": [
    "### Updating and Adding Items in a List\n",
    "\n",
    "**list1 = ['physics', 'chemistry', 1997, 2000]**\n",
    "\n",
    "- `list1[1] = \"computer science\"` changes the **2nd item** to `\"computer science\"`\n",
    "- `list1.append('Computer Science')` adds a **new item** to the **end** of the list\n",
    "\n"
   ]
  },
  {
   "cell_type": "code",
   "execution_count": 29,
   "id": "8387f619-60b4-4b43-a5a4-8ed0a08fe53d",
   "metadata": {},
   "outputs": [
    {
     "name": "stdout",
     "output_type": "stream",
     "text": [
      "['physics', 'computer science', 1997, 2000]\n",
      "['physics', 'computer science', 1997, 2000, 'Computer Science']\n"
     ]
    }
   ],
   "source": [
    "list1 = ['physics', 'chemistry', 1997, 2000];\n",
    "list1[1] = \"computer science\"\n",
    "print(list1)\n",
    "list1.append('Computer Science')\n",
    "print(list1)"
   ]
  },
  {
   "cell_type": "code",
   "execution_count": null,
   "id": "e0af0691-ac79-42d5-963a-a8f0671284ef",
   "metadata": {},
   "outputs": [],
   "source": []
  },
  {
   "cell_type": "markdown",
   "id": "e8054c4e-0ae0-4f72-ad94-9ae257ce9ce9",
   "metadata": {},
   "source": [
    "### Deleting an Item from a List\n",
    "\n",
    "**• list1 = ['physics', 'chemistry', 1997, 2000]**\n",
    "\n",
    "- This list has 4 items.  \n",
    "- `del list1[2]` means: remove the item at index **2** (which is **1997**)."
   ]
  },
  {
   "cell_type": "code",
   "execution_count": 30,
   "id": "c17deb5c-d03d-496b-910a-0f1271193da9",
   "metadata": {},
   "outputs": [
    {
     "name": "stdout",
     "output_type": "stream",
     "text": [
      "['physics', 'chemistry', 1997, 2000]\n",
      "After deleting value at index 2 : \n",
      "['physics', 'chemistry', 2000]\n"
     ]
    }
   ],
   "source": [
    "list1 = ['physics', 'chemistry', 1997, 2000];\n",
    "print (list1)\n",
    "del list1[2];\n",
    "print (\"After deleting value at index 2 : \")\n",
    "print (list1)\n"
   ]
  },
  {
   "cell_type": "markdown",
   "id": "d0c35f64-c67c-461f-83b5-3d8045be11c0",
   "metadata": {},
   "source": [
    "### Removing a Specific Value from a List\n",
    "\n",
    "**• list1 = ['physics', 'chemistry', 1997, 2000]**\n",
    "\n",
    "- This list has 4 items.  \n",
    "- `list1.remove('chemistry')` deletes the **value `'chemistry'`** from the list (not by index, but by name).\n"
   ]
  },
  {
   "cell_type": "code",
   "execution_count": 31,
   "id": "e7d069a4-b1f3-43c5-b333-1bc428431c69",
   "metadata": {},
   "outputs": [
    {
     "name": "stdout",
     "output_type": "stream",
     "text": [
      "['physics', 'chemistry', 1997, 2000]\n",
      "After deleting value at index 2 : \n",
      "['physics', 1997, 2000]\n"
     ]
    }
   ],
   "source": [
    " list1 = ['physics', 'chemistry', 1997, 2000];\n",
    "print (list1)\n",
    "list1.remove('chemistry')\n",
    "print (\"After deleting value at index 2 : \")\n",
    "print (list1)"
   ]
  },
  {
   "cell_type": "markdown",
   "id": "48731019-5365-416f-89ab-0e485830e63c",
   "metadata": {},
   "source": [
    "### • **Dictionaries**\n",
    "\n",
    "#### Showing a value from the dictionary using a key\n",
    "\n",
    "**• dict = {'Name': \"Mehvish\", 'Depart': \"BCS\", 'Batch': 2014}**\n",
    "\n",
    "- This is a **dictionary** that stores data using **key-value pairs**.\n",
    "- `'Name'`, `'Depart'`, and `'Batch'` are the **keys**.\n",
    "- `\"Mehvish\"`, `\"BCS\"`, and `2014` are the **values**.\n",
    "\n",
    "`print(dict['Name'])` shows the value for the key `'Name'` → **Mehvish**\n"
   ]
  },
  {
   "cell_type": "code",
   "execution_count": 33,
   "id": "78c2e0bb-b67a-4f9b-a7e6-33e7547c8c90",
   "metadata": {},
   "outputs": [
    {
     "name": "stdout",
     "output_type": "stream",
     "text": [
      "Mehvish\n"
     ]
    }
   ],
   "source": [
    "dict = {'Name':\"Mehvish\", 'Depart': \"BCS\", 'Batch': 2014}\n",
    "print (dict['Name'])\n"
   ]
  },
  {
   "cell_type": "markdown",
   "id": "1a86650f-ff6c-4b12-8061-4a325ed0bd41",
   "metadata": {},
   "source": [
    "#### Updating and Adding Values in a Dictionary\n",
    "\n",
    "- A dictionary named `dict` is created with 3 key-value pairs:\n",
    "  `'Name'`, `'Depart'`, and `'Batch'`.\n",
    "\n",
    "- `dict['Batch'] = \"SP14\"`  \n",
    "  -This **updates** the value of the key `'Batch'` from `2014` to `\"SP14\"`.\n",
    "\n",
    "- `dict['University'] = \"COMSATS\"`  \n",
    "  - This **adds** a new key `'University'` with the value `\"COMSATS\"`."
   ]
  },
  {
   "cell_type": "code",
   "execution_count": 35,
   "id": "233182e0-f9a9-40d2-b798-77f0612824ee",
   "metadata": {},
   "outputs": [
    {
     "name": "stdout",
     "output_type": "stream",
     "text": [
      "{'Name': 'Mehvish', 'Depart': 'BCS', 'Batch': 2014}\n",
      "{'Name': 'Mehvish', 'Depart': 'BCS', 'Batch': 'SP14'}\n",
      "{'Name': 'Mehvish', 'Depart': 'BCS', 'Batch': 'SP14', 'University': 'COMSATS'}\n"
     ]
    }
   ],
   "source": [
    "dict = {'Name':\"Mehvish\", 'Depart': \"BCS\", 'Batch': 2014}\n",
    "print (dict)\n",
    "dict['Batch'] = \"SP14\"\n",
    "print (dict)\n",
    "dict['University'] = \"COMSATS\"\n",
    "print(dict)"
   ]
  },
  {
   "cell_type": "markdown",
   "id": "bd7ed0c0-5ce5-4083-8496-01a178e6ac22",
   "metadata": {},
   "source": [
    "#### Deleting a Key from a Dictionary\n",
    "\n",
    "- A dictionary `dict` is created with keys: `'Name'`, `'Depart'`, and `'Batch'`.\n",
    "- `del dict['Batch']` removes the key `'Batch'` and its value from the dictionary."
   ]
  },
  {
   "cell_type": "code",
   "execution_count": 36,
   "id": "8510d7bc-f909-4152-9963-03557bb7eed3",
   "metadata": {},
   "outputs": [
    {
     "name": "stdout",
     "output_type": "stream",
     "text": [
      "{'Name': 'Mehvish', 'Depart': 'BCS', 'Batch': 2014}\n",
      "{'Name': 'Mehvish', 'Depart': 'BCS'}\n"
     ]
    }
   ],
   "source": [
    "dict = {'Name':\"Mehvish\", 'Depart': \"BCS\", 'Batch': 2014}\n",
    "print (dict)\n",
    "del dict['Batch']\n",
    "print (dict)"
   ]
  },
  {
   "cell_type": "markdown",
   "id": "0213dbc2-c2b2-4a77-b251-fca3f2f53667",
   "metadata": {},
   "source": [
    "#### Clearing All Items from a Dictionary\n",
    "\n",
    "- A dictionary `dict` is created with keys: `'Name'`, `'Depart'`, and `'Batch'`.\n",
    "- `dict.clear()` removes **all key-value pairs** from the dictionary."
   ]
  },
  {
   "cell_type": "code",
   "execution_count": 37,
   "id": "d6a20e18-ad2f-40e4-a866-da09712dd9dd",
   "metadata": {},
   "outputs": [
    {
     "name": "stdout",
     "output_type": "stream",
     "text": [
      "{}\n"
     ]
    }
   ],
   "source": [
    "dict = {'Name':\"Mehvish\", 'Depart': \"BCS\", 'Batch': 2014}\n",
    "dict.clear()\n",
    "print (dict)"
   ]
  },
  {
   "cell_type": "markdown",
   "id": "bdf2bb14-530c-4115-bfef-6246067b1b30",
   "metadata": {},
   "source": [
    "### • **Tuples**\n",
    "\n",
    "#### Getting values from a tuple\n",
    "\n",
    "- A tuple is created with 4 items.\n",
    "- `tup[1]` shows the second item → `'98'`\n",
    "- `tup[1:3]` shows a slice → `('98', 'C programming')`"
   ]
  },
  {
   "cell_type": "code",
   "execution_count": 38,
   "id": "9a287108-9036-47d1-a81e-1d26060d3517",
   "metadata": {},
   "outputs": [
    {
     "name": "stdout",
     "output_type": "stream",
     "text": [
      "('Math', '98', 'C programming', '99')\n",
      "98\n",
      "('98', 'C programming')\n"
     ]
    }
   ],
   "source": [
    "tup = ('Math','98', 'C programming', '99')\n",
    "print (tup)\n",
    "print(tup[1])\n",
    "print(tup[1:3])\n"
   ]
  },
  {
   "cell_type": "markdown",
   "id": "2d1c4fa3-39c0-4671-874d-51cdf9bf8e97",
   "metadata": {},
   "source": [
    "#### Joining two tuples to make a new one\n",
    "\n",
    "We made two tuples:\n",
    "\n",
    "- `tup1 = (12, 34.56)` → has a number and a decimal  \n",
    "- `tup2 = ('abc', 'xyz')` → has two text values\n",
    "\n",
    "Tuples **can’t be changed**.  \n",
    "So we **can’t write** `tup1[0] = 100` (this gives an error)\n",
    "\n",
    "Instead, we **join** both using `+` like this:  \n",
    "`tup3 = tup1 + tup2`\n"
   ]
  },
  {
   "cell_type": "code",
   "execution_count": 2,
   "id": "283c6880-d9cf-4a7c-8ba4-2d2c87ddc103",
   "metadata": {},
   "outputs": [
    {
     "name": "stdout",
     "output_type": "stream",
     "text": [
      "(12, 34.56, 'abc', 'xyz')\n"
     ]
    }
   ],
   "source": [
    " tup1 = (12, 34.56);\n",
    " tup2 = ('abc', 'xyz');\n",
    "tup3 = tup1 + tup2; \n",
    "print (tup3);"
   ]
  },
  {
   "cell_type": "markdown",
   "id": "ad4d150c-b938-477b-b248-942566c6e1c6",
   "metadata": {},
   "source": [
    "#### Deleting the whole tuple\n",
    "\n",
    "- A tuple `tup` is made with 4 items.\n",
    "- `del tup` removes the **entire tuple** from memory.\n",
    "- After that, if we try to print it, Python gives an **error** because `tup` no longer exists.\n"
   ]
  },
  {
   "cell_type": "code",
   "execution_count": 2,
   "id": "88438851-0b89-4f56-a901-104e66d89ccb",
   "metadata": {},
   "outputs": [
    {
     "name": "stdout",
     "output_type": "stream",
     "text": [
      "('physics', 'chemistry', 1997, 2000)\n",
      "After deleting tup:\n"
     ]
    },
    {
     "ename": "NameError",
     "evalue": "name 'tup' is not defined",
     "output_type": "error",
     "traceback": [
      "\u001b[1;31m---------------------------------------------------------------------------\u001b[0m",
      "\u001b[1;31mNameError\u001b[0m                                 Traceback (most recent call last)",
      "Cell \u001b[1;32mIn[2], line 7\u001b[0m\n\u001b[0;32m      4\u001b[0m \u001b[38;5;28;01mdel\u001b[39;00m tup\n\u001b[0;32m      5\u001b[0m \u001b[38;5;28mprint\u001b[39m(\u001b[38;5;124m\"\u001b[39m\u001b[38;5;124mAfter deleting tup:\u001b[39m\u001b[38;5;124m\"\u001b[39m)\n\u001b[1;32m----> 7\u001b[0m \u001b[38;5;28mprint\u001b[39m(tup)\n",
      "\u001b[1;31mNameError\u001b[0m: name 'tup' is not defined"
     ]
    }
   ],
   "source": [
    "tup = ('physics', 'chemistry', 1997, 2000)\n",
    "print(tup)\n",
    "\n",
    "del tup\n",
    "print(\"After deleting tup:\")\n",
    "\n",
    "print(tup)  "
   ]
  },
  {
   "cell_type": "markdown",
   "id": "c4eaec76-30ea-4df5-a0fd-2df571688359",
   "metadata": {},
   "source": [
    "###   Convert List to Set\n",
    "- Convert a list to a set  \n",
    "- Create sets with different data types  \n",
    "- Add single and multiple values  \n",
    "- Remove values using `discard()` and `remove()`  \n",
    "- Understand how sets work in Python\n"
   ]
  },
  {
   "cell_type": "code",
   "execution_count": 4,
   "id": "11abee1f-8f6e-41bc-ba9b-8130971939b5",
   "metadata": {},
   "outputs": [
    {
     "name": "stdout",
     "output_type": "stream",
     "text": [
      "<class 'list'>\n",
      "{1, 2, 3, 4, 5}\n",
      "{1, 2, 3}\n",
      "{1, 1.2, 2, 3, 4, 5, 'Hello', 'D', 'C'}\n"
     ]
    },
    {
     "ename": "KeyError",
     "evalue": "'G'",
     "output_type": "error",
     "traceback": [
      "\u001b[1;31m---------------------------------------------------------------------------\u001b[0m",
      "\u001b[1;31mKeyError\u001b[0m                                  Traceback (most recent call last)",
      "Cell \u001b[1;32mIn[4], line 14\u001b[0m\n\u001b[0;32m     12\u001b[0m \u001b[38;5;28mprint\u001b[39m (my_set) \n\u001b[0;32m     13\u001b[0m my_set\u001b[38;5;241m.\u001b[39mdiscard(\u001b[38;5;124m'\u001b[39m\u001b[38;5;124mG\u001b[39m\u001b[38;5;124m'\u001b[39m)  \n\u001b[1;32m---> 14\u001b[0m my_set\u001b[38;5;241m.\u001b[39mremove(\u001b[38;5;124m'\u001b[39m\u001b[38;5;124mG\u001b[39m\u001b[38;5;124m'\u001b[39m)\n",
      "\u001b[1;31mKeyError\u001b[0m: 'G'"
     ]
    }
   ],
   "source": [
    "list1 = [1,2,3,4,5] \n",
    "print (type(list1)) \n",
    "my_set = set(list1) \n",
    "print(my_set) \n",
    "(type(my_set))  \n",
    "my_set = {1,2,3} \n",
    "print (my_set) \n",
    "print \n",
    "my_set = {1,\"Hello\", 1.2,'C'} \n",
    "my_set.add('D') \n",
    "my_set.update(list1) \n",
    "print (my_set) \n",
    "my_set.discard('G')  \n",
    "my_set.remove('G') "
   ]
  },
  {
   "cell_type": "markdown",
   "id": "5cc1a1e9-914f-44e7-9805-b040b4d2f734",
   "metadata": {},
   "source": [
    "### • **Comparison Operator in Python**\n",
    "###  Checking If One Number Is Less Than Another\n",
    "\n",
    "- This checks if **1 is less than 3**.\n",
    "- Since 1 is smaller than 3, the result is:"
   ]
  },
  {
   "cell_type": "code",
   "execution_count": 5,
   "id": "7f69a11e-5c38-40e9-96c2-35dc4b9fc3f0",
   "metadata": {},
   "outputs": [
    {
     "data": {
      "text/plain": [
       "True"
      ]
     },
     "execution_count": 5,
     "metadata": {},
     "output_type": "execute_result"
    }
   ],
   "source": [
    "1<3"
   ]
  },
  {
   "cell_type": "markdown",
   "id": "26f4776a-9fcb-48c7-a4bd-bd9655dd3034",
   "metadata": {},
   "source": [
    "###  Checking If a Number Is Less Than or Equal To Another\n",
    "\n",
    "- This checks if **15 is less than or equal to 23**.\n",
    "- Since 15 **is** less than 23, the result will be **true**\n",
    "\n",
    "\n",
    "\n"
   ]
  },
  {
   "cell_type": "code",
   "execution_count": 6,
   "id": "7e1a6c78-34af-411f-afd5-768698700026",
   "metadata": {},
   "outputs": [
    {
     "data": {
      "text/plain": [
       "True"
      ]
     },
     "execution_count": 6,
     "metadata": {},
     "output_type": "execute_result"
    }
   ],
   "source": [
    "15 <= 23"
   ]
  },
  {
   "cell_type": "markdown",
   "id": "1a70a8d1-da5c-42ee-867b-adf14c2393ac",
   "metadata": {},
   "source": [
    "### Checking If Two Strings Are Equal\n",
    "- This compares two strings: `'Mehvish'` and `\"Zeenat\"`\n",
    "- It checks if **both strings are exactly the same**\n",
    "- Since the strings are **different**, the result will be **False**\n"
   ]
  },
  {
   "cell_type": "code",
   "execution_count": 7,
   "id": "a9d0462b-8fa3-40ac-b813-60b813145ce9",
   "metadata": {},
   "outputs": [
    {
     "data": {
      "text/plain": [
       "False"
      ]
     },
     "execution_count": 7,
     "metadata": {},
     "output_type": "execute_result"
    }
   ],
   "source": [
    "'Alina' == \"Alina"
   ]
  },
  {
   "cell_type": "markdown",
   "id": "984757be-5b65-4fe2-9ed2-23aa7e7da2fa",
   "metadata": {},
   "source": [
    "### Checking If Two Strings Are Not Equal\n",
    "\n",
    "- This checks if the two strings are **not equal**\n",
    "- Since both strings are **exactly the same**, the result will be **False**\n",
    "\n"
   ]
  },
  {
   "cell_type": "code",
   "execution_count": 8,
   "id": "72dc6e10-8735-4b01-ab2d-f5773f24e203",
   "metadata": {},
   "outputs": [
    {
     "data": {
      "text/plain": [
       "False"
      ]
     },
     "execution_count": 8,
     "metadata": {},
     "output_type": "execute_result"
    }
   ],
   "source": [
    " \"Alina\" != \"Alina\""
   ]
  },
  {
   "cell_type": "markdown",
   "id": "24a6c060-8c8b-4b98-afcd-daca9bf1ee7a",
   "metadata": {},
   "source": [
    "### Using the OR Logical Operator\n",
    "- This code uses the **`or`** logical operator.\n",
    "- It checks if **at least one condition is True**.\n",
    "Breakdown:\n",
    "- `(1 == 1)` → `True`  \n",
    "- `(5 > 2)` → `True`\n",
    "\n",
    "Since **both are True**, and `or` needs **only one True**\n",
    "\n"
   ]
  },
  {
   "cell_type": "code",
   "execution_count": 9,
   "id": "1e9e8d42-7ef7-4fc0-a904-1fd4a10cd2bc",
   "metadata": {},
   "outputs": [
    {
     "data": {
      "text/plain": [
       "True"
      ]
     },
     "execution_count": 9,
     "metadata": {},
     "output_type": "execute_result"
    }
   ],
   "source": [
    "(1==1)or(5>2)"
   ]
  },
  {
   "cell_type": "markdown",
   "id": "a8df9dbc-c63f-4deb-aeab-b1bb67c6a075",
   "metadata": {},
   "source": [
    "### Using the AND Logical Operator\n",
    "- This code uses the **`and`** logical operator.\n",
    "- `and` only returns `True` if **both conditions** are `True`.\n",
    "\n",
    "Breakdown:\n",
    "- `(1 < 2)` → `True`  \n",
    "- `(2 < 1)` → `False`\n",
    "\n",
    "Since **one condition is False**"
   ]
  },
  {
   "cell_type": "code",
   "execution_count": 10,
   "id": "8e873884-3128-47ce-afc2-448eb2c3382d",
   "metadata": {},
   "outputs": [
    {
     "data": {
      "text/plain": [
       "False"
      ]
     },
     "execution_count": 10,
     "metadata": {},
     "output_type": "execute_result"
    }
   ],
   "source": [
    "(1<2)and(2<1)"
   ]
  },
  {
   "cell_type": "markdown",
   "id": "23485981-49dd-4c1d-8655-cd46a7ad810b",
   "metadata": {},
   "source": [
    "### • **If-Else Statements**\n",
    "### Even or Odd Check Using % Operator\n",
    "\n",
    "- `%` finds the **remainder** after division.\n",
    "- == is a comparison operator used to check if two values are equal.\n",
    "- If `number % 2 == 0`, the number is **Even**.\n",
    "- Else, it's **Odd**."
   ]
  },
  {
   "cell_type": "code",
   "execution_count": 11,
   "id": "3da40b61-9d36-456e-b5d2-78f80368a3a6",
   "metadata": {},
   "outputs": [
    {
     "name": "stdout",
     "output_type": "stream",
     "text": [
      "Odd\n"
     ]
    }
   ],
   "source": [
    "if 25 % 2 == 0:\n",
    "    print('Even')\n",
    "else:\n",
    "    print('Odd')\n"
   ]
  },
  {
   "cell_type": "markdown",
   "id": "15ca24a9-f281-4a5b-96b0-98c85df0ccd1",
   "metadata": {},
   "source": [
    "### Factorial Using a For Loop in Python\n",
    "\n",
    "This code calculates the **factorial** of a number using a `for` loop.\n",
    "\n",
    "- `fact = 1` → initial value\n",
    "- `N = 5` → we want factorial of 5\n",
    "- `range(1, N+1)` → loop runs from 1 to 5\n",
    "- In each loop: `fact *= i` means `fact = fact * i`\n",
    "\n",
    "So, it calculates:\n",
    "\n",
    "`1 × 2 × 3 × 4 × 5 = 120`\n"
   ]
  },
  {
   "cell_type": "code",
   "execution_count": 13,
   "id": "95e98078-03dd-4aec-9297-234d7ce8a8d0",
   "metadata": {},
   "outputs": [
    {
     "name": "stdout",
     "output_type": "stream",
     "text": [
      "120\n"
     ]
    }
   ],
   "source": [
    "fact = 1\n",
    "N = 5\n",
    "for i in range(1, 1+N): \n",
    "    fact *= i \n",
    "print(fact)\n"
   ]
  },
  {
   "cell_type": "markdown",
   "id": "731f495d-f41d-4570-8f49-936e04390472",
   "metadata": {},
   "source": [
    "### Counting Using a While Loop \n",
    "This Python code uses a `while` loop to **print numbers from 1 to 10**.\n",
    "\n",
    "- It starts with `a = 0`\n",
    "- The loop runs **while `a` is less than 10**\n",
    "- Each time, it **adds 1 to `a`** and prints it\n",
    "- Final output shows numbers from **1 to 10**"
   ]
  },
  {
   "cell_type": "code",
   "execution_count": 14,
   "id": "d8aaa243-dbd1-48fc-bf7b-7e4a97e44b2e",
   "metadata": {},
   "outputs": [
    {
     "name": "stdout",
     "output_type": "stream",
     "text": [
      "1\n",
      "2\n",
      "3\n",
      "4\n",
      "5\n",
      "6\n",
      "7\n",
      "8\n",
      "9\n",
      "10\n"
     ]
    }
   ],
   "source": [
    "a = 0\n",
    "while a < 10:\n",
    "    a = a + 1\n",
    "    print(a)\n"
   ]
  },
  {
   "cell_type": "markdown",
   "id": "6e8233be-07fb-41c4-8912-137f2d891b56",
   "metadata": {},
   "source": [
    "### • **Functions**\n",
    "###  Printing a Message Using a Function\n",
    "This code defines a function that takes a message (string) and prints it.\n",
    "\n",
    "- A function named `printme` is created using `def`\n",
    "- It takes one input (a string)\n",
    "- When the function is called, it prints that string\n"
   ]
  },
  {
   "cell_type": "code",
   "execution_count": 18,
   "id": "c0199d2b-82fa-46ab-ad79-2efdf30fda27",
   "metadata": {},
   "outputs": [
    {
     "name": "stdout",
     "output_type": "stream",
     "text": [
      "I'm first call to user defined function!\n"
     ]
    }
   ],
   "source": [
    "def printme(str):\n",
    "\n",
    "    print(str)\n",
    "    return\n",
    "printme(\"I'm first call to user defined function!\")\n"
   ]
  },
  {
   "cell_type": "markdown",
   "id": "99378281-62e6-4625-bdfa-5039588b4017",
   "metadata": {},
   "source": [
    "###  Returns the square of a number\n",
    "\n",
    "- A function is created that takes one number (`x`)\n",
    "- It returns `x` multiplied by itself (x²)\n",
    "- When `f(8)` is called, it calculates `8 × 8 = 64`\n"
   ]
  },
  {
   "cell_type": "code",
   "execution_count": 19,
   "id": "bd92016c-4ce9-4334-bbc5-80bfb09c0691",
   "metadata": {},
   "outputs": [
    {
     "name": "stdout",
     "output_type": "stream",
     "text": [
      "64\n"
     ]
    }
   ],
   "source": [
    "def f(x):\n",
    "    return x**2\n",
    "\n",
    "print(f(8))\n"
   ]
  },
  {
   "cell_type": "markdown",
   "id": "695edfb4-b38c-4761-9495-897143e92020",
   "metadata": {},
   "source": [
    "### Multiplies a number by 3 using a lambda function\n",
    "\n",
    "lambda is a shortcut way to write a small function in just one line.\n",
    "- It takes a number and returns that number × 3\n",
    "- When `10` is given, it returns `30`\n"
   ]
  },
  {
   "cell_type": "code",
   "execution_count": 22,
   "id": "d230b58f-8556-4953-b3a0-1c0878621984",
   "metadata": {},
   "outputs": [
    {
     "data": {
      "text/plain": [
       "30"
      ]
     },
     "execution_count": 22,
     "metadata": {},
     "output_type": "execute_result"
    }
   ],
   "source": [
    "times3 = lambda var:var*3 \n",
    "times3(10) \n"
   ]
  },
  {
   "cell_type": "markdown",
   "id": "303cfffe-396d-4b3b-a79b-f723962f4ac0",
   "metadata": {},
   "source": [
    "###  Length of each word in a sentence\n",
    "\n",
    "- The sentence is split into words  \n",
    "- Then a lambda function with `map()` is used to count each word's length  \n",
    "- The result is a list of word lengths\n"
   ]
  },
  {
   "cell_type": "code",
   "execution_count": 23,
   "id": "bb6bbee6-8cc4-4c5f-9636-5f01b48edf29",
   "metadata": {},
   "outputs": [
    {
     "name": "stdout",
     "output_type": "stream",
     "text": [
      "['It', 'is', 'raining', 'cats', 'and', 'dogs']\n"
     ]
    },
    {
     "data": {
      "text/plain": [
       "[2, 2, 7, 4, 3, 4]"
      ]
     },
     "execution_count": 23,
     "metadata": {},
     "output_type": "execute_result"
    }
   ],
   "source": [
    "sentence = 'It is raining cats and dogs'\n",
    "words = sentence.split()\n",
    "print(words)\n",
    "\n",
    "lengths = map(lambda word: len(word), words)\n",
    "list(lengths)\n"
   ]
  },
  {
   "cell_type": "markdown",
   "id": "d5d08a9d-0f01-44fe-b74a-e3191fac1204",
   "metadata": {},
   "source": [
    "### • **Filter()** \n",
    "###  Filters and returns only odd numbers from a list\n",
    "\n",
    "- A list of Fibonacci numbers is given\n",
    "- `filter()` is used with a `lambda` function\n",
    "- The lambda checks: `x % 2` (means: number is odd)\n",
    "- It keeps only the **odd numbers** in the list\n"
   ]
  },
  {
   "cell_type": "code",
   "execution_count": 28,
   "id": "8762b7dc-925b-45fd-a9a6-2cec9701a8dd",
   "metadata": {},
   "outputs": [
    {
     "name": "stdout",
     "output_type": "stream",
     "text": [
      "[1, 1, 3, 5, 13, 21, 55]\n"
     ]
    }
   ],
   "source": [
    "fib = [0, 1, 1, 2, 3, 5, 8, 13, 21, 34, 55]\n",
    "result1 = filter(lambda x: x % 2, fib)\n",
    "print(list(result1))\n"
   ]
  },
  {
   "cell_type": "markdown",
   "id": "f131a934-73a7-45bb-a0d4-5fd50c472097",
   "metadata": {},
   "source": [
    "###  Filters and returns only even numbers from a list\n",
    "\n",
    "- A list of Fibonacci numbers is given  \n",
    "- A **filter** with `lambda` is used to check if a number is even (`x % 2 == 0`)  \n",
    "- It returns a list of only the even numbers\n"
   ]
  },
  {
   "cell_type": "code",
   "execution_count": 29,
   "id": "50753397-bce8-4382-8d18-a0efc7a88ead",
   "metadata": {},
   "outputs": [
    {
     "data": {
      "text/plain": [
       "[0, 2, 8, 34]"
      ]
     },
     "execution_count": 29,
     "metadata": {},
     "output_type": "execute_result"
    }
   ],
   "source": [
    "fib = [0,1,1,2,3,5,8,13,21,34,55] \n",
    "result2 = filter(lambda x: x % 2 == 0, fib) \n",
    "list (result2) "
   ]
  },
  {
   "cell_type": "markdown",
   "id": "fbd83ceb-74b2-40a8-9dee-89e9de65ff16",
   "metadata": {},
   "source": [
    "### • **File I/O**\n",
    "### Taking Input from the User\n",
    "\n",
    "\n",
    "This code takes user input and prints it.\n",
    "\n",
    "- The `input()` function asks the user to **enter their name**\n",
    "- Whatever the user types is saved in the variable `string`\n",
    "- `print(string)` shows that name on the screen\n",
    "\n"
   ]
  },
  {
   "cell_type": "code",
   "execution_count": 31,
   "id": "9a53726c-d2e5-415f-93be-35c713fe0776",
   "metadata": {},
   "outputs": [
    {
     "name": "stdin",
     "output_type": "stream",
     "text": [
      "Enter your name:  Alina\n"
     ]
    },
    {
     "name": "stdout",
     "output_type": "stream",
     "text": [
      "Alina\n"
     ]
    }
   ],
   "source": [
    "name = input(\"Enter your name: \")\n",
    "print(name)\n"
   ]
  },
  {
   "cell_type": "markdown",
   "id": "97f94417-2ee7-4fb2-8bd4-f2c12fc3a38d",
   "metadata": {},
   "source": [
    " ### Creating and Writing to a Text File \n",
    "This code **creates** a file named **file.txt**, **writes** two lines into it (**Name** and **Department**), then **reads** and **prints** the content using **Python**.\n"
   ]
  },
  {
   "cell_type": "code",
   "execution_count": 12,
   "id": "f7d32351-c449-419c-94e4-02b7f39c0635",
   "metadata": {},
   "outputs": [],
   "source": [
    "fileOpen = open(\"file.txt\", \"w\")\n",
    "fileOpen.write(\"Name: Mehvish Ashiq\\nDepartment: BSCS\")\n",
    "fileOpen.close()\n"
   ]
  },
  {
   "cell_type": "code",
   "execution_count": 10,
   "id": "438d7218-c707-4c87-9440-47a817daa2c5",
   "metadata": {},
   "outputs": [
    {
     "name": "stdout",
     "output_type": "stream",
     "text": [
      "['.ipynb_checkpoints', 'Assignment 1.ipynb', 'file.txt']\n"
     ]
    }
   ],
   "source": [
    "import os\n",
    "print(os.listdir())\n"
   ]
  },
  {
   "cell_type": "markdown",
   "id": "1ed4a141-f3a2-4541-abda-2121821f17e6",
   "metadata": {},
   "source": [
    "### Reading from a File in Python\n",
    "This code opens a file, reads its content, and then closes it.\n",
    "\n",
    "- `open(\"file.txt\", \"r+\")` opens the file in **read and write mode**\n",
    "- `read()` reads the entire content of the file  \n",
    "  (you can use `read(12)` to read only the first 12 characters)\n",
    "- `print(str)` displays the content\n",
    "- `close()` closes the file after reading"
   ]
  },
  {
   "cell_type": "code",
   "execution_count": 11,
   "id": "f8eef376-6eef-4773-833b-047a7d65d3c1",
   "metadata": {},
   "outputs": [
    {
     "name": "stdout",
     "output_type": "stream",
     "text": [
      "Name: Mehvish Ashiq\n",
      "Department: BSCS\n"
     ]
    }
   ],
   "source": [
    "fileOpen = open(\"file.txt\", \"r+\")\n",
    "str = fileOpen.read()\n",
    "print(str)\n",
    "fileOpen.close()\n"
   ]
  },
  {
   "cell_type": "markdown",
   "id": "60fdcc4c-583e-4501-aa3c-7f69e3647544",
   "metadata": {},
   "source": [
    "### Appending and Reading from a File\n",
    "\n",
    "This code **opens** a file named **file.txt** in **append mode** to **add new text** (\"Information Technology Lahore\") at the end of the file.  \n",
    "Then it **reopens** the same file in **read mode** and **prints all the content** from the start.  \n",
    "It uses **a+** to write at the end and **r+** to read from the beginning.  \n",
    "Finally, it **closes** the file after both operations.\n",
    "\n"
   ]
  },
  {
   "cell_type": "code",
   "execution_count": 14,
   "id": "848b6df7-efc7-4d55-89e0-ee9cc04a710e",
   "metadata": {},
   "outputs": [
    {
     "name": "stdout",
     "output_type": "stream",
     "text": [
      "Name: Mehvish Ashiq\n",
      "Department: BSCS Information Technology Lahore\n"
     ]
    }
   ],
   "source": [
    "fileOpen = open(\"file.txt\", \"a+\")\n",
    "fileOpen.write(\" Information Technology Lahore\")\n",
    "fileOpen.close()\n",
    "\n",
    "fileOpen = open(\"file.txt\", \"r+\")\n",
    "string = fileOpen.read() \n",
    "print(string)\n",
    "\n",
    "fileOpen.close()\n"
   ]
  },
  {
   "cell_type": "markdown",
   "id": "cfe22fc5-6b46-48ad-9833-b32f59e2b186",
   "metadata": {},
   "source": [
    "### Reading and Seeking in a File\n",
    "\n",
    "This code works with a file using different file handling functions:\n",
    "\n",
    "- `open(\"file.txt\", \"r+\")`: Opens the file for reading and writing\n",
    "- `read(10)`: Reads the first 10 characters from the file\n",
    "- `tell()`: Tells the current position of the pointer\n",
    "- `seek(0, 0)`: Moves the pointer back to the beginning of the file\n",
    "- The file is then read again and finally closed\n",
    "\n",
    "It helps us understand how to control **where** to read in a file using `seek()` and `tell()`.\n"
   ]
  },
  {
   "cell_type": "code",
   "execution_count": 45,
   "id": "11210b41-3abb-460e-8c14-b603c69e088d",
   "metadata": {},
   "outputs": [
    {
     "name": "stdout",
     "output_type": "stream",
     "text": [
      "Read String is:\n",
      " Name: Mehv\n",
      "Current file position:\n",
      " 10\n",
      "Again read String is:\n",
      " Name: Mehv\n"
     ]
    }
   ],
   "source": [
    "\n",
    "fo = open(\"file.txt\", \"r+\")\n",
    "str = fo.read(10)\n",
    "print(\"Read String is:\\n\", str)\n",
    "position = fo.tell()\n",
    "print(\"Current file position:\\n\", position)\n",
    "fo.seek(0, 0)\n",
    "\n",
    "str = fo.read(10)\n",
    "print(\"Again read String is:\\n\", str)\n",
    "fo.close()\n"
   ]
  },
  {
   "cell_type": "markdown",
   "id": "5813d898-854e-44c2-bb26-c0936d7cfa94",
   "metadata": {},
   "source": [
    "##  Removing a File in Python\n",
    "os.remove(\"newfile.txt\")\n",
    "→ This command deletes the file named newfile.txt from the current working directory.\n",
    "→ If the file does not exist, Python will raise a FileNotFoundError."
   ]
  },
  {
   "cell_type": "code",
   "execution_count": 71,
   "id": "1e8bc3dd-c551-4175-9b46-fd28bed3a0a7",
   "metadata": {},
   "outputs": [],
   "source": [
    "#remove file \n",
    "os.remove(\"newfile.txt\") "
   ]
  },
  {
   "cell_type": "markdown",
   "id": "8bd004b9-762f-4df8-aac3-cd5a903ea1af",
   "metadata": {},
   "source": [
    "## • **Pandas Introduction**\n",
    "### **Imports**\n",
    "• `import pandas as pd` → Imports the **Pandas** library with the alias **pd**, used for **data analysis** and **manipulation**.\n",
    "\n",
    "• `import numpy as np` → Imports the **NumPy** library with the alias **np**, useful for **numerical operations** like generating **random numbers**.\n",
    "\n",
    "• `import matplotlib.pyplot as plt` → Imports **Matplotlib’s** plotting module, used for creating **graphs/plots** (optional here).\n",
    "\n",
    "• `np.random.randn(5)` → Generates **5 random numbers** from a **standard normal distribution** (mean = 0, std = 1).\n",
    "\n",
    "• `pd.Series(...)` → Creates a **Pandas Series**, which is like a **one-dimensional labeled array**.\n",
    "\n",
    "• `index=['a', 'b', 'c', 'd', 'e']` → Assigns **custom index labels** from `'a'` to `'e'` to each element of the **Series**.\n"
   ]
  },
  {
   "cell_type": "code",
   "execution_count": 74,
   "id": "32cec3d1-2873-434b-b0a7-c54c6b2e641e",
   "metadata": {},
   "outputs": [
    {
     "name": "stdout",
     "output_type": "stream",
     "text": [
      "Generated Series:\n",
      "a   -0.546771\n",
      "b    0.448762\n",
      "c   -0.557022\n",
      "d   -1.531334\n",
      "e   -1.147446\n",
      "dtype: float64\n"
     ]
    }
   ],
   "source": [
    "import pandas as pd\n",
    "import numpy as np\n",
    "import matplotlib.pyplot as plt\n",
    "s = pd.Series(np.random.randn(5), index=['a', 'b', 'c', 'd', 'e'])\n",
    "print(\"Generated Series:\")\n",
    "print(s)\n"
   ]
  },
  {
   "cell_type": "markdown",
   "id": "bb9b8a32-d32c-4982-b6ab-4b325c9e3261",
   "metadata": {},
   "source": [
    "## Easy Explanation of `s.index`\n",
    "\n",
    "• `s.index` shows the **labels** (like a, b, c...) that are used to identify each value in the Series.\n",
    "\n",
    "• These labels are called the **index**.\n",
    "\n",
    "• It also tells you what **type of data** the labels are (like text or numbers).\n",
    "\n",
    "• `print(s.index)` will display those labels on the screen.\n",
    "\n",
    "• Helpful when you want to **see or check** the positions (index) of your data.\n"
   ]
  },
  {
   "cell_type": "code",
   "execution_count": 75,
   "id": "f8537171-4423-439d-848a-527b8262b267",
   "metadata": {},
   "outputs": [
    {
     "data": {
      "text/plain": [
       "Index(['a', 'b', 'c', 'd', 'e'], dtype='object')"
      ]
     },
     "execution_count": 75,
     "metadata": {},
     "output_type": "execute_result"
    }
   ],
   "source": [
    "\n",
    "s.index "
   ]
  },
  {
   "cell_type": "markdown",
   "id": "45fb55fb-21d6-4f1b-80ac-59bc5368038a",
   "metadata": {},
   "source": [
    "## Easy Explanation of `pd.Series(np.random.randn(5))`\n",
    "\n",
    "• This creates a **Pandas Series** with **5 random values**.\n",
    "\n",
    "• We did **not give any index**, so Python will **automatically add numbers** as index: `0, 1, 2, 3, 4`.\n",
    "\n",
    "• These numbers are called the **default index**.\n",
    "\n",
    "• The values in the Series are created using `np.random.randn(5)`, which gives **5 random numbers** from a normal distribution.\n",
    "\n",
    "• This is useful when you only care about the values, not the labels.\n"
   ]
  },
  {
   "cell_type": "code",
   "execution_count": 78,
   "id": "928e60e9-47fc-4d33-bcad-01046cf6dcb5",
   "metadata": {},
   "outputs": [
    {
     "data": {
      "text/plain": [
       "0    0.502244\n",
       "1   -0.519058\n",
       "2    2.171957\n",
       "3   -0.339530\n",
       "4    0.520845\n",
       "dtype: float64"
      ]
     },
     "execution_count": 78,
     "metadata": {},
     "output_type": "execute_result"
    }
   ],
   "source": [
    "pd.Series(np.random.randn(5)) "
   ]
  },
  {
   "cell_type": "markdown",
   "id": "b91bb7af-f74d-4a71-86eb-a555ec70dffa",
   "metadata": {},
   "source": [
    "##   Creating a Series from a Dictionary\n",
    "\n",
    "• `d = {'a': 0., 'b': 1., 'c': 2.}` → This is a simple **Python dictionary** with keys (`a`, `b`, `c`) and values (`0.0`, `1.0`, `2.0`).\n",
    "\n",
    "• `pd.Series(d)` → This creates a **Pandas Series** from the dictionary.\n",
    "\n",
    "• The **keys** of the dictionary become the **index** of the Series.\n",
    "\n",
    "• The **values** of the dictionary become the **data** of the Series.\n",
    "\n",
    "• This is a quick way to turn structured data into a labeled Series.\n"
   ]
  },
  {
   "cell_type": "code",
   "execution_count": 81,
   "id": "d580f3db-9c47-4f12-b121-05c32200392b",
   "metadata": {},
   "outputs": [
    {
     "name": "stdout",
     "output_type": "stream",
     "text": [
      "a    0.0\n",
      "b    1.0\n",
      "c    2.0\n",
      "dtype: float64\n"
     ]
    }
   ],
   "source": [
    "import pandas as pd\n",
    "d = {'a': 0., 'b': 1., 'c': 2.}  \n",
    "s = pd.Series(d)\n",
    "print(s)\n"
   ]
  },
  {
   "cell_type": "markdown",
   "id": "d5a818e1-5e3d-4c4d-878e-ecb7c3fbf039",
   "metadata": {},
   "source": [
    "#  Creating a Pandas Series from a Dictionary (with Custom Index)\n",
    "\n",
    "We first make a **dictionary** with some key-value pairs:\n",
    "\n",
    "d = {'a': 0., 'b': 1., 'c': 2.}\n",
    "\n",
    "Now we create a **Series** using this dictionary and give our own **index**:\n",
    "pd.Series(d, index=['b', 'c', 'd', 'a'])\n",
    " The keys **'b'**, **'c'**, and **'a'** are found in the dictionary, so their values are shown.\n",
    " The key **'d'** is not found, so Pandas puts **NaN** (missing value) for it.\n",
    " The values appear in the same order as the **custom index** we gave.\n"
   ]
  },
  {
   "cell_type": "code",
   "execution_count": 83,
   "id": "83543bda-9215-4d3a-9b6f-a903bed72501",
   "metadata": {},
   "outputs": [
    {
     "data": {
      "text/plain": [
       "b    1.0\n",
       "c    2.0\n",
       "d    NaN\n",
       "a    0.0\n",
       "dtype: float64"
      ]
     },
     "execution_count": 83,
     "metadata": {},
     "output_type": "execute_result"
    }
   ],
   "source": [
    "\n",
    "pd.Series(d, index=['b', 'c', 'd', 'a'])"
   ]
  },
  {
   "cell_type": "markdown",
   "id": "1f0c5f6b-b52e-40a7-859f-c616fd49e08d",
   "metadata": {},
   "source": [
    "# Creating a Pandas Series with a Scalar Value\n",
    "\n",
    "In the following example, a **single value (scalar)** is given as data:\n",
    "\n",
    "pd.Series(5., index=['a', 'b', 'c', 'd', 'e'])\n",
    "\n",
    "• Since the value is a **scalar (5.0)** and the **index has 5 labels**,  \n",
    "  Pandas will **repeat the value** to match the length of the **index**.\n",
    "\n",
    "• The result is that every index label gets the same value (5.0).\n"
   ]
  },
  {
   "cell_type": "code",
   "execution_count": 87,
   "id": "d2eae887-8211-454b-91b5-28f2f8db7a2f",
   "metadata": {},
   "outputs": [
    {
     "data": {
      "text/plain": [
       "a    5.0\n",
       "b    5.0\n",
       "c    5.0\n",
       "d    5.0\n",
       "e    5.0\n",
       "dtype: float64"
      ]
     },
     "execution_count": 87,
     "metadata": {},
     "output_type": "execute_result"
    }
   ],
   "source": [
    "pd.Series(5., index=['a', 'b', 'c', 'd', 'e'])\n"
   ]
  },
  {
   "cell_type": "markdown",
   "id": "a3d6ee72-959e-4c34-bf8b-9ebba7f7030c",
   "metadata": {},
   "source": [
    "#  Accessing a Single Value from Series (Like ndarray)\n",
    " **s[0]** accesses the first value in the Series using its position.\n",
    "Even though the Series has custom labels (like 'a', 'b', etc.), you can still access values by position numbers — just like an array.\n",
    " This is similar to how we access items in a NumPy array or Python list."
   ]
  },
  {
   "cell_type": "code",
   "execution_count": 95,
   "id": "dd957053-9152-43a7-9cd9-2c64cf6c157a",
   "metadata": {},
   "outputs": [
    {
     "name": "stdout",
     "output_type": "stream",
     "text": [
      "-0.4099336125957855\n"
     ]
    }
   ],
   "source": [
    "print(s.iloc[0]) \n"
   ]
  },
  {
   "cell_type": "markdown",
   "id": "c04586d0-50ba-479e-ba5c-ec37cf1404ec",
   "metadata": {},
   "source": [
    "#  Accessing a Range of Values in a Series (Slicing)\n",
    " This returns the **first 5 elements** in the Series.\n",
    " s[:5] uses **slicing** — just like Python lists or NumPy arrays.\n",
    " Even though the Series has custom index labels, slicing works based on **position** here.\n",
    " This is useful when you want to select a portion of the Series.\n"
   ]
  },
  {
   "cell_type": "code",
   "execution_count": 97,
   "id": "9a85472b-effb-4433-9be7-4e45f7dda112",
   "metadata": {},
   "outputs": [
    {
     "name": "stdout",
     "output_type": "stream",
     "text": [
      "a   -0.142493\n",
      "b    1.277842\n",
      "c    1.084928\n",
      "d    0.728022\n",
      "e   -1.161700\n",
      "dtype: float64\n"
     ]
    }
   ],
   "source": [
    "\n",
    "print(s[:5])\n"
   ]
  },
  {
   "cell_type": "markdown",
   "id": "c44e504e-22ca-4b67-972a-a38656032b53",
   "metadata": {},
   "source": [
    "#  Values Greater than Median\n",
    "**s.median()** returns the middle value (median) from the Series.\n",
    "s > s.median() checks which values are greater than the median → gives a True/False mask.\n",
    " s[...] applies that mask and returns only values where the condition is True. This is called boolean indexing or filtering."
   ]
  },
  {
   "cell_type": "code",
   "execution_count": 98,
   "id": "97550197-ce7e-4914-bf3d-4bf993615947",
   "metadata": {},
   "outputs": [
    {
     "name": "stdout",
     "output_type": "stream",
     "text": [
      "b    1.277842\n",
      "c    1.084928\n",
      "dtype: float64\n"
     ]
    }
   ],
   "source": [
    "\n",
    "print(s[s > s.median()])\n"
   ]
  },
  {
   "cell_type": "markdown",
   "id": "bb50369f-80b3-4a19-9bd8-1422f9561a27",
   "metadata": {},
   "source": [
    "# Accessing Specific Indexes in a Series\n",
    "\n",
    "This code returns **specific values** from a **Series** using index positions `4`, `3`, and `1`.  \n",
    "For example, if the Series is `['a', 'b', 'c', 'd', 'e']`, it will return the values **e**, **d**, and **b**.\n"
   ]
  },
  {
   "cell_type": "code",
   "execution_count": 28,
   "id": "5f193d1e-9b9e-40ba-b9e2-0d3d768cd96d",
   "metadata": {},
   "outputs": [
    {
     "name": "stdout",
     "output_type": "stream",
     "text": [
      "4    e\n",
      "3    d\n",
      "1    b\n",
      "dtype: object\n"
     ]
    }
   ],
   "source": [
    "print(s[[4, 3, 1]])"
   ]
  },
  {
   "cell_type": "markdown",
   "id": "ccac3cfc-520b-49a0-aa16-8c5ec567b237",
   "metadata": {},
   "source": [
    "#  Applying Exponential Function in Python using `np.exp(s)`\n",
    "\n",
    "The function `np.exp(s)` applies the **exponential function** to every element of the Series `s`.\n",
    "\n",
    "This means:  \n",
    "It calculates **e^x** (Euler’s number raised to the power x) for each value in the Series.  \n",
    "Where **e ≈ 2.718** (a mathematical constant).\n"
   ]
  },
  {
   "cell_type": "code",
   "execution_count": 35,
   "id": "9dc59544-d438-4425-a696-9fbaa23ee24a",
   "metadata": {},
   "outputs": [
    {
     "name": "stdout",
     "output_type": "stream",
     "text": [
      "a    0.663650\n",
      "b    0.826959\n",
      "c    0.360595\n",
      "d    2.585710\n",
      "e    0.453845\n",
      "dtype: float64\n"
     ]
    }
   ],
   "source": [
    "\n",
    "print(np.exp(s))\n"
   ]
  },
  {
   "cell_type": "markdown",
   "id": "f47303fe-3da4-4245-8cef-dc205afc1c00",
   "metadata": {},
   "source": [
    "#  Accessing a Value by Index Label in a Pandas Series\n",
    "\n",
    "The expression `s['a']` retrieves the **value associated with index label `'a'`** in the Pandas Series `s`."
   ]
  },
  {
   "cell_type": "markdown",
   "id": "ca89a0af-15ce-4e8e-9d4d-b8959f75bcab",
   "metadata": {},
   "source": [
    "print(s['a'])\n"
   ]
  },
  {
   "cell_type": "markdown",
   "id": "9a870ce2-260c-4e32-99d2-d2e3db9706db",
   "metadata": {},
   "source": [
    "#  Updating a Value in a Series Using Index Label\n",
    "\n",
    "This code **updates** the value at index `'e'` in a Pandas Series.\n"
   ]
  },
  {
   "cell_type": "code",
   "execution_count": 39,
   "id": "d0c7908d-24f4-41ea-af1d-812c287298af",
   "metadata": {},
   "outputs": [
    {
     "name": "stdout",
     "output_type": "stream",
     "text": [
      "a    -0.409934\n",
      "b    -0.188738\n",
      "c    -1.018550\n",
      "d     0.950447\n",
      "e    12.000000\n",
      "dtype: float64\n"
     ]
    }
   ],
   "source": [
    "\n",
    "s['e'] = 12.0\n",
    "print(s)\n"
   ]
  },
  {
   "cell_type": "markdown",
   "id": "3acc2a4e-e30c-41f5-bd6d-ca4c103b5174",
   "metadata": {},
   "source": [
    "#  Checking if an Index Label Exists in a Series\n",
    "\n",
    "The expression `'e' in s` checks if `'e'` is present in the **index labels** of the Series `s`."
   ]
  },
  {
   "cell_type": "code",
   "execution_count": 42,
   "id": "09c2f728-d560-4546-a902-5d9bdd57e081",
   "metadata": {},
   "outputs": [
    {
     "name": "stdout",
     "output_type": "stream",
     "text": [
      "True\n"
     ]
    }
   ],
   "source": [
    "print('e' in s)\n"
   ]
  },
  {
   "cell_type": "markdown",
   "id": "c4eb45b3-d735-4255-b439-ba2aebe9a76a",
   "metadata": {},
   "source": [
    "#  Accessing Missing Labels in a Pandas Series\n",
    "\n",
    "###  Direct Access (`s['f']`):\n",
    "If you try to access a label that **does not exist** in the Series using `s['f']`,  \n",
    "Python will raise a **KeyError**.\n",
    "The method `s.get('f', np.nan)` tries to **access the value at index `'f'`**.  \n",
    "If the label `'f'` **does not exist**, it **does not raise an error** — instead, it returns the **default value**: `np.nan`.\n",
    "\n"
   ]
  },
  {
   "cell_type": "code",
   "execution_count": 44,
   "id": "52dc47ba-5101-4a73-a581-2563c7e6fdc3",
   "metadata": {},
   "outputs": [
    {
     "name": "stdout",
     "output_type": "stream",
     "text": [
      "None\n",
      "nan\n"
     ]
    }
   ],
   "source": [
    "\n",
    "print(s.get('f'))          \n",
    "print(s.get('f', np.nan))\n"
   ]
  },
  {
   "cell_type": "markdown",
   "id": "4de13392-ffa1-42d9-87b8-20968913c4a1",
   "metadata": {},
   "source": [
    "##  Adding Two Series by Index\n",
    "\n",
    "- S and s are pandas Series with the *same index labels* ('a' to 'e').\n",
    "- When doing **S + s**, pandas adds values with *matching index labels*.\n",
    "- No loops needed — it's a *vectorized operation*.\n",
    "- Output is a new Series with the same indexes and summed values.\n",
    "\n",
    "### Key Point:\n",
    "pandas matches **labels** (not positions) when doing operations like addition."
   ]
  },
  {
   "cell_type": "code",
   "execution_count": 46,
   "id": "67d89b9a-dbc4-47b0-9374-fd2c5b9b415c",
   "metadata": {},
   "outputs": [
    {
     "name": "stdout",
     "output_type": "stream",
     "text": [
      "a    -0.819867\n",
      "b    -0.377477\n",
      "c    -2.037099\n",
      "d     1.900894\n",
      "e    24.000000\n",
      "dtype: float64\n"
     ]
    }
   ],
   "source": [
    "result = S + s\n",
    "print(result)"
   ]
  },
  {
   "cell_type": "markdown",
   "id": "02d3ebd5-43af-4e1e-8245-d7168d20604e",
   "metadata": {},
   "source": [
    "#  Multiplying Each Value in a Series: `s * 2`\n",
    "The expression `s * 2` multiplies **each element** of the Series `s` by `2`.  \n",
    "This is an example of a **vectorized operation** in Pandas.\n"
   ]
  },
  {
   "cell_type": "code",
   "execution_count": 48,
   "id": "418c2921-43f8-4a19-8074-06247dc6442e",
   "metadata": {},
   "outputs": [
    {
     "name": "stdout",
     "output_type": "stream",
     "text": [
      "a    -0.819867\n",
      "b    -0.377476\n",
      "c    -2.037099\n",
      "d     1.900894\n",
      "e    24.000000\n",
      "dtype: float64\n"
     ]
    }
   ],
   "source": [
    "result = s * 2\n",
    "print(result)\n"
   ]
  },
  {
   "cell_type": "markdown",
   "id": "5a9df9ea-dbbf-4a6a-a2f5-b6d20cfde57d",
   "metadata": {},
   "source": [
    "# Creating a Random Series with a Custom Name\n",
    "The code creates a Pandas Series with:\n",
    "- **5 random numbers** from a standard normal distribution (mean = 0, std = 1)\n",
    "- An optional **name** assigned to the Series → `'something'`"
   ]
  },
  {
   "cell_type": "code",
   "execution_count": 49,
   "id": "6eb93cae-507f-4732-b1c4-a0b170a50e24",
   "metadata": {},
   "outputs": [
    {
     "name": "stdout",
     "output_type": "stream",
     "text": [
      "0    0.295371\n",
      "1   -0.183793\n",
      "2   -1.152553\n",
      "3   -0.141074\n",
      "4    1.319445\n",
      "Name: something, dtype: float64\n"
     ]
    }
   ],
   "source": [
    "s = pd.Series(np.random.randn(5), name='something')\n",
    "print(s)\n"
   ]
  },
  {
   "cell_type": "markdown",
   "id": "c9d37564-ca32-4021-ba97-2d9711ff3bcd",
   "metadata": {},
   "source": [
    "#  Getting the Name of a  Series using `s.name`\n",
    "\n",
    "The code `s.name` returns the **name** given to the Series."
   ]
  },
  {
   "cell_type": "code",
   "execution_count": 50,
   "id": "3a59d36c-fdc3-47f0-b5f9-5b688997259d",
   "metadata": {},
   "outputs": [
    {
     "data": {
      "text/plain": [
       "'something'"
      ]
     },
     "execution_count": 50,
     "metadata": {},
     "output_type": "execute_result"
    }
   ],
   "source": [
    " s.name"
   ]
  },
  {
   "cell_type": "markdown",
   "id": "968fdece-0a8c-4b9d-adc4-44211bef3aae",
   "metadata": {},
   "source": [
    "# Renaming the Name of a Series\n",
    "This line changes the name of the Series **s** and stores it in a new Series called **s2**.\n",
    "\n",
    "The original Series s remains unchanged.\n",
    "\n",
    "Only the name of ***s2** is updated.\n",
    "\n",
    "\n"
   ]
  },
  {
   "cell_type": "code",
   "execution_count": 52,
   "id": "f0082bbf-3c35-4d34-8be0-8f9cdbc20df6",
   "metadata": {},
   "outputs": [
    {
     "data": {
      "text/plain": [
       "'different'"
      ]
     },
     "execution_count": 52,
     "metadata": {},
     "output_type": "execute_result"
    }
   ],
   "source": [
    " \n",
    "s2 = s.rename(\"different\") \n",
    "s2.name "
   ]
  },
  {
   "cell_type": "markdown",
   "id": "fcddd128-a12d-47a9-9f13-e7cc3e075f2b",
   "metadata": {},
   "source": [
    "## Creating a DataFrame from a Dictionary of Series\n",
    "\n",
    "- **`import pandas as pd`** → Imports the **Pandas library** for data handling.\n",
    "\n",
    "- A **dictionary `d`** is created with two **Series**:\n",
    "  - **'one'** → values `[1.0, 2.0, 3.0]`, index `['a', 'b', 'c']`\n",
    "  - **'two'** → values `[1.0, 2.0, 3.0, 4.0]`, index `['a', 'b', 'c', 'd']`\n",
    "\n",
    "- **`pd.DataFrame(d)`** → Converts the dictionary into a **DataFrame**:\n",
    "  - **Column names** come from the dictionary keys: `'one'`, `'two'`\n",
    "  - **Row labels** are taken from the **combined indexes**\n",
    "\n",
    "- **`print(df)`** → Displays the final **table** with rows and columns.  \n",
    "  If any value is **missing**, **`NaN`** is shown.\n"
   ]
  },
  {
   "cell_type": "code",
   "execution_count": 55,
   "id": "38dfdf94-fdd9-4298-bc7b-1c1c7e2a0282",
   "metadata": {},
   "outputs": [
    {
     "name": "stdout",
     "output_type": "stream",
     "text": [
      "   one  two\n",
      "a  1.0  1.0\n",
      "b  2.0  2.0\n",
      "c  3.0  3.0\n",
      "d  NaN  4.0\n"
     ]
    }
   ],
   "source": [
    "d = {\n",
    "    'one': pd.Series([1.0, 2.0, 3.0], index=['a', 'b', 'c']),\n",
    "    'two': pd.Series([1.0, 2.0, 3.0, 4.0], index=['a', 'b', 'c', 'd'])\n",
    "}\n",
    "\n",
    "df = pd.DataFrame(d)\n",
    "print(df)\n"
   ]
  },
  {
   "cell_type": "markdown",
   "id": "9cfa7d07-f104-48d9-9ee2-6903b626ad83",
   "metadata": {},
   "source": [
    "### 📘 Constructing a DataFrame with Custom Row Labels\n",
    "- This creates a **DataFrame** from the dictionary `d`.\n",
    "- It only includes the **rows labeled** `'d'`, `'b'`, and `'a'`, in that specific order.\n",
    "- If data is **missing for a label** (like `'d'` in column `'one'`), it shows **`NaN` (Not a Number)**.\n"
   ]
  },
  {
   "cell_type": "code",
   "execution_count": 4,
   "id": "25251aef-4326-4c04-872e-11cbb9f5c334",
   "metadata": {},
   "outputs": [
    {
     "data": {
      "text/html": [
       "<div>\n",
       "<style scoped>\n",
       "    .dataframe tbody tr th:only-of-type {\n",
       "        vertical-align: middle;\n",
       "    }\n",
       "\n",
       "    .dataframe tbody tr th {\n",
       "        vertical-align: top;\n",
       "    }\n",
       "\n",
       "    .dataframe thead th {\n",
       "        text-align: right;\n",
       "    }\n",
       "</style>\n",
       "<table border=\"1\" class=\"dataframe\">\n",
       "  <thead>\n",
       "    <tr style=\"text-align: right;\">\n",
       "      <th></th>\n",
       "      <th>one</th>\n",
       "      <th>two</th>\n",
       "    </tr>\n",
       "  </thead>\n",
       "  <tbody>\n",
       "    <tr>\n",
       "      <th>d</th>\n",
       "      <td>NaN</td>\n",
       "      <td>4.0</td>\n",
       "    </tr>\n",
       "    <tr>\n",
       "      <th>b</th>\n",
       "      <td>2.0</td>\n",
       "      <td>2.0</td>\n",
       "    </tr>\n",
       "    <tr>\n",
       "      <th>a</th>\n",
       "      <td>1.0</td>\n",
       "      <td>1.0</td>\n",
       "    </tr>\n",
       "  </tbody>\n",
       "</table>\n",
       "</div>"
      ],
      "text/plain": [
       "   one  two\n",
       "d  NaN  4.0\n",
       "b  2.0  2.0\n",
       "a  1.0  1.0"
      ]
     },
     "execution_count": 4,
     "metadata": {},
     "output_type": "execute_result"
    }
   ],
   "source": [
    "pd.DataFrame(d, index=['d', 'b', 'a'])"
   ]
  },
  {
   "cell_type": "markdown",
   "id": "54333c58-516b-4bab-8f3c-2289fa2ad86b",
   "metadata": {},
   "source": [
    "##  Creating a DataFrame with Specific Rows and Columns\n",
    "- This line creates a **DataFrame** using the dictionary `d`.\n",
    "- It selects only the **rows** labeled `'d'`, `'b'`, and `'a'`.\n",
    "- It includes only the **columns** `'two'` and `'three'`.\n",
    "- Column `'three'` does **not exist** in the original data, so all its values will be **NaN**."
   ]
  },
  {
   "cell_type": "code",
   "execution_count": 7,
   "id": "c099ba4e-8ab8-4a8c-ba20-b3d70fd1004a",
   "metadata": {},
   "outputs": [
    {
     "data": {
      "text/html": [
       "<div>\n",
       "<style scoped>\n",
       "    .dataframe tbody tr th:only-of-type {\n",
       "        vertical-align: middle;\n",
       "    }\n",
       "\n",
       "    .dataframe tbody tr th {\n",
       "        vertical-align: top;\n",
       "    }\n",
       "\n",
       "    .dataframe thead th {\n",
       "        text-align: right;\n",
       "    }\n",
       "</style>\n",
       "<table border=\"1\" class=\"dataframe\">\n",
       "  <thead>\n",
       "    <tr style=\"text-align: right;\">\n",
       "      <th></th>\n",
       "      <th>two</th>\n",
       "      <th>three</th>\n",
       "    </tr>\n",
       "  </thead>\n",
       "  <tbody>\n",
       "    <tr>\n",
       "      <th>d</th>\n",
       "      <td>4.0</td>\n",
       "      <td>NaN</td>\n",
       "    </tr>\n",
       "    <tr>\n",
       "      <th>b</th>\n",
       "      <td>2.0</td>\n",
       "      <td>NaN</td>\n",
       "    </tr>\n",
       "    <tr>\n",
       "      <th>a</th>\n",
       "      <td>1.0</td>\n",
       "      <td>NaN</td>\n",
       "    </tr>\n",
       "  </tbody>\n",
       "</table>\n",
       "</div>"
      ],
      "text/plain": [
       "   two three\n",
       "d  4.0   NaN\n",
       "b  2.0   NaN\n",
       "a  1.0   NaN"
      ]
     },
     "execution_count": 7,
     "metadata": {},
     "output_type": "execute_result"
    }
   ],
   "source": [
    "pd.DataFrame(d, index=['d', 'b', 'a'], columns=['two', 'three'])\n"
   ]
  },
  {
   "cell_type": "markdown",
   "id": "3da6e9af-0d21-4c5d-a3b5-926920487888",
   "metadata": {},
   "source": [
    "## Viewing Column Names in a DataFrame \n",
    "- `df.columns` returns the **column labels** of the DataFrame `df`.\n",
    "- It shows all the column names as an **Index object**.\n",
    "- Useful when you want to check which columns are available in the DataFrame."
   ]
  },
  {
   "cell_type": "code",
   "execution_count": 8,
   "id": "6f9180ff-45e6-4273-ad0a-20a0a3c9823e",
   "metadata": {},
   "outputs": [
    {
     "data": {
      "text/plain": [
       "Index(['one', 'two'], dtype='object')"
      ]
     },
     "execution_count": 8,
     "metadata": {},
     "output_type": "execute_result"
    }
   ],
   "source": [
    " df.columns"
   ]
  },
  {
   "cell_type": "markdown",
   "id": "28b1a988-33de-452a-885a-3d7c34f7e34b",
   "metadata": {},
   "source": [
    "## Creating a DataFrame from a Dictionary of Equal-Length ndarrays\n",
    "- A dictionary `d` is created with two keys: `'one'` and `'two'`, each containing a list of 4 float values.\n",
    "- Since all lists (ndarrays) are of the **same length**, a DataFrame can be created without issues.\n",
    "- No **row labels (index)** are provided, so pandas will use the default: `0, 1, 2, 3`.\n",
    "- Column labels will be taken from the dictionary keys."
   ]
  },
  {
   "cell_type": "code",
   "execution_count": 10,
   "id": "461e3a8b-daa8-42c7-9907-94d1d9cdced7",
   "metadata": {},
   "outputs": [
    {
     "data": {
      "text/html": [
       "<div>\n",
       "<style scoped>\n",
       "    .dataframe tbody tr th:only-of-type {\n",
       "        vertical-align: middle;\n",
       "    }\n",
       "\n",
       "    .dataframe tbody tr th {\n",
       "        vertical-align: top;\n",
       "    }\n",
       "\n",
       "    .dataframe thead th {\n",
       "        text-align: right;\n",
       "    }\n",
       "</style>\n",
       "<table border=\"1\" class=\"dataframe\">\n",
       "  <thead>\n",
       "    <tr style=\"text-align: right;\">\n",
       "      <th></th>\n",
       "      <th>one</th>\n",
       "      <th>two</th>\n",
       "    </tr>\n",
       "  </thead>\n",
       "  <tbody>\n",
       "    <tr>\n",
       "      <th>0</th>\n",
       "      <td>1.0</td>\n",
       "      <td>4.0</td>\n",
       "    </tr>\n",
       "    <tr>\n",
       "      <th>1</th>\n",
       "      <td>2.0</td>\n",
       "      <td>3.0</td>\n",
       "    </tr>\n",
       "    <tr>\n",
       "      <th>2</th>\n",
       "      <td>3.0</td>\n",
       "      <td>2.0</td>\n",
       "    </tr>\n",
       "    <tr>\n",
       "      <th>3</th>\n",
       "      <td>4.0</td>\n",
       "      <td>1.0</td>\n",
       "    </tr>\n",
       "  </tbody>\n",
       "</table>\n",
       "</div>"
      ],
      "text/plain": [
       "   one  two\n",
       "0  1.0  4.0\n",
       "1  2.0  3.0\n",
       "2  3.0  2.0\n",
       "3  4.0  1.0"
      ]
     },
     "execution_count": 10,
     "metadata": {},
     "output_type": "execute_result"
    }
   ],
   "source": [
    "d = { \n",
    "    'one': [1., 2., 3., 4.],\n",
    "    'two': [4., 3., 2., 1.]\n",
    "}\n",
    "\n",
    "pd.DataFrame(d)\n"
   ]
  },
  {
   "cell_type": "markdown",
   "id": "96b7b38f-8468-4ec0-b443-20b83dd8a185",
   "metadata": {},
   "source": [
    "## Creating a DataFrame with Custom Row Labels (Index)\n",
    "- A dictionary `d` has two keys (`'one'` and `'two'`) with lists of 4 float values each.\n",
    "- Custom **row labels (index)** are given: `'a'`, `'b'`, `'c'`, `'d'`.\n",
    "- The number of row labels **must match** the number of elements in each array.\n",
    "- Column labels are automatically taken from the dictionary keys."
   ]
  },
  {
   "cell_type": "code",
   "execution_count": 13,
   "id": "2cfc4fda-3cef-4055-bbc0-202f36fabc98",
   "metadata": {},
   "outputs": [
    {
     "name": "stdout",
     "output_type": "stream",
     "text": [
      "   one  two\n",
      "a  1.0  4.0\n",
      "b  2.0  3.0\n",
      "c  3.0  2.0\n",
      "d  4.0  1.0\n"
     ]
    }
   ],
   "source": [
    "df = pd.DataFrame(d, index=['a', 'b', 'c', 'd'])\n",
    "print(df)"
   ]
  },
  {
   "cell_type": "markdown",
   "id": "9f2290bd-3a56-485f-a599-82d398c45e98",
   "metadata": {},
   "source": [
    "##  Constructing a DataFrame from a List of Dictionaries\n",
    "- The list `data2` contains two dictionaries.\n",
    "- Each dictionary represents a **row**.\n",
    "- Keys in the dictionaries become **column names**.\n",
    "- If a column (like `'c'`) is missing in any row, it shows **NaN** (missing value).\n"
   ]
  },
  {
   "cell_type": "code",
   "execution_count": 14,
   "id": "f93c7f26-48a2-4563-82b9-7f6a69eef4b6",
   "metadata": {},
   "outputs": [
    {
     "name": "stdout",
     "output_type": "stream",
     "text": [
      "   a   b     c\n",
      "0  1   2   NaN\n",
      "1  5  10  20.0\n"
     ]
    }
   ],
   "source": [
    "data2 = [{'a': 1, 'b': 2}, {'a': 5, 'b': 10, 'c': 20}]\n",
    "df = pd.DataFrame(data2)\n",
    "print(df)\n"
   ]
  },
  {
   "cell_type": "markdown",
   "id": "8f5dbda4-e7a9-4f7b-b54b-72a247f88ec7",
   "metadata": {},
   "source": [
    "##  Passing List of Dicts as Data with Custom Row Labels\n",
    "\n",
    " - The list **`data2`** contains two dictionaries.\n",
    " - Each dictionary becomes a row in the DataFrame.\n",
    " - Keys in the dictionaries become the column names.\n",
    " - **`index=['first', 'second']`** sets custom row labels.\n",
    " - If a key is missing in any row (like 'c' in the first), it will show NaN.\n"
   ]
  },
  {
   "cell_type": "code",
   "execution_count": 15,
   "id": "0c53efa1-c28b-4d86-9b7d-e954346ff2e1",
   "metadata": {},
   "outputs": [
    {
     "name": "stdout",
     "output_type": "stream",
     "text": [
      "        a   b     c\n",
      "first   1   2   NaN\n",
      "second  5  10  20.0\n"
     ]
    }
   ],
   "source": [
    "data2 = [{'a': 1, 'b': 2}, {'a': 5, 'b': 10, 'c': 20}]\n",
    "df = pd.DataFrame(data2, index=['first', 'second'])\n",
    "print(df)\n"
   ]
  },
  {
   "cell_type": "markdown",
   "id": "404fdc39-0ae1-4798-a7a6-572265720f19",
   "metadata": {},
   "source": [
    "##  Passing List of Dicts as Data and Specifying Column Labels\n",
    "- `data2` is a list of dictionaries; each dict becomes a row.\n",
    "- We specify columns manually using **`columns=['a', 'b']`**.\n",
    "- Only the specified columns will appear in the DataFrame.\n",
    "- Column `**c'** is ignored because it is not listed.\n"
   ]
  },
  {
   "cell_type": "code",
   "execution_count": 16,
   "id": "b55e6c7b-aa57-4cee-a2d6-97157fb4766e",
   "metadata": {},
   "outputs": [
    {
     "name": "stdout",
     "output_type": "stream",
     "text": [
      "   a   b\n",
      "0  1   2\n",
      "1  5  10\n"
     ]
    }
   ],
   "source": [
    "data2 = [{'a': 1, 'b': 2}, {'a': 5, 'b': 10, 'c': 20}]\n",
    "df = pd.DataFrame(data2, columns=['a', 'b'])\n",
    "print(df)\n"
   ]
  },
  {
   "cell_type": "markdown",
   "id": "a1d3a188-d2ee-438e-a60e-5f068515bf49",
   "metadata": {},
   "source": [
    "##  DataFrame with Tuples as Row and Column Labels\n",
    "\n",
    "\n",
    " - Tuple keys in the outer dict become column labels (MultiIndex).\n",
    " - Tuple keys in the inner dict become row labels (MultiIndex).\n",
    " - Missing values are shown as NaN.\n"
   ]
  },
  {
   "cell_type": "code",
   "execution_count": 18,
   "id": "fa7e1e25-1b73-4ccb-8475-685461eb7d17",
   "metadata": {},
   "outputs": [
    {
     "name": "stdout",
     "output_type": "stream",
     "text": [
      "       a              b      \n",
      "       b    a    c    a     b\n",
      "A B  1.0  4.0  5.0  8.0  10.0\n",
      "  C  2.0  3.0  6.0  7.0   NaN\n",
      "  D  NaN  NaN  NaN  NaN   9.0\n"
     ]
    }
   ],
   "source": [
    "\n",
    "df = pd.DataFrame({\n",
    "    ('a', 'b'): {('A', 'B'): 1, ('A', 'C'): 2},\n",
    "    ('a', 'a'): {('A', 'C'): 3, ('A', 'B'): 4},\n",
    "    ('a', 'c'): {('A', 'B'): 5, ('A', 'C'): 6},\n",
    "    ('b', 'a'): {('A', 'C'): 7, ('A', 'B'): 8},\n",
    "    ('b', 'b'): {('A', 'D'): 9, ('A', 'B'): 10}\n",
    "})\n",
    "\n",
    "print(df)\n"
   ]
  },
  {
   "cell_type": "markdown",
   "id": "c6e965d7-6357-4c9c-90b4-63f3235bd27d",
   "metadata": {},
   "source": [
    "## Structured NumPy Array with Named Fields\n",
    "\n",
    " - This creates an array with **2 rows (elements)**.\n",
    "- Each row has **3 fields**:\n",
    "    • **'A'** → **32-bit integer** (`i4`)  \n",
    "    • **'B'** → **32-bit float** (`f4`)  \n",
    "    • **'C'** → **string** of up to **10 ASCII characters** (`a10`)\n",
    "- All values are initialized to **zero or empty**.\n",
    "- The output shows two records like **(0, 0.0, b'')**, meaning:\n",
    "    • **Integer** `0`  \n",
    "    • **Float** `0.0`  \n",
    "    • **Empty byte string** (`b''`)\n"
   ]
  },
  {
   "cell_type": "code",
   "execution_count": 20,
   "id": "e61e7136-815c-4175-8c21-cbf986565032",
   "metadata": {},
   "outputs": [
    {
     "name": "stdout",
     "output_type": "stream",
     "text": [
      "[(0, 0., b'') (0, 0., b'')]\n"
     ]
    },
    {
     "name": "stderr",
     "output_type": "stream",
     "text": [
      "C:\\Users\\HS TRADER\\AppData\\Local\\Temp\\ipykernel_10372\\2198409554.py:1: DeprecationWarning: Data type alias 'a' was deprecated in NumPy 2.0. Use the 'S' alias instead.\n",
      "  data = np.zeros((2,), dtype=[('A', 'i4'), ('B', 'f4'), ('C', 'a10')])\n"
     ]
    }
   ],
   "source": [
    "data = np.zeros((2,), dtype=[('A', 'i4'), ('B', 'f4'), ('C', 'a10')])\n",
    "print(data)\n"
   ]
  },
  {
   "cell_type": "markdown",
   "id": "018c23a8-1033-4c82-ae29-8f76c07d4623",
   "metadata": {},
   "source": [
    "## Convert Structured NumPy Array to DataFrame (with Index Column)\n",
    "\n",
    "\n",
    " - Creates a **structured NumPy array** with fields: **'A'**, **'B'**, **'C'**\n",
    "- **'A'** → **32-bit integer** (`i4`)\n",
    " - **'B'** → **32-bit float** (`f4`)\n",
    " - **'C'** → **fixed-length ASCII string** (`a10`)\n",
    " - Uses **from_records()** to convert array to a **DataFrame**\n"
   ]
  },
  {
   "cell_type": "code",
   "execution_count": 21,
   "id": "4e94e05e-3fc9-41ed-a124-4771cf4f7006",
   "metadata": {},
   "outputs": [
    {
     "data": {
      "text/html": [
       "<div>\n",
       "<style scoped>\n",
       "    .dataframe tbody tr th:only-of-type {\n",
       "        vertical-align: middle;\n",
       "    }\n",
       "\n",
       "    .dataframe tbody tr th {\n",
       "        vertical-align: top;\n",
       "    }\n",
       "\n",
       "    .dataframe thead th {\n",
       "        text-align: right;\n",
       "    }\n",
       "</style>\n",
       "<table border=\"1\" class=\"dataframe\">\n",
       "  <thead>\n",
       "    <tr style=\"text-align: right;\">\n",
       "      <th></th>\n",
       "      <th>A</th>\n",
       "      <th>B</th>\n",
       "    </tr>\n",
       "    <tr>\n",
       "      <th>C</th>\n",
       "      <th></th>\n",
       "      <th></th>\n",
       "    </tr>\n",
       "  </thead>\n",
       "  <tbody>\n",
       "    <tr>\n",
       "      <th>b''</th>\n",
       "      <td>0</td>\n",
       "      <td>0.0</td>\n",
       "    </tr>\n",
       "    <tr>\n",
       "      <th>b''</th>\n",
       "      <td>0</td>\n",
       "      <td>0.0</td>\n",
       "    </tr>\n",
       "  </tbody>\n",
       "</table>\n",
       "</div>"
      ],
      "text/plain": [
       "     A    B\n",
       "C          \n",
       "b''  0  0.0\n",
       "b''  0  0.0"
      ]
     },
     "execution_count": 21,
     "metadata": {},
     "output_type": "execute_result"
    }
   ],
   "source": [
    "pd.DataFrame.from_records(data, index='C') "
   ]
  },
  {
   "cell_type": "markdown",
   "id": "c903148a-3d14-4655-91af-d955381748b5",
   "metadata": {},
   "source": [
    "## Creating DataFrame Using `from_items()` Method\n",
    "\n",
    "\n",
    " - The method **from_items()** was used to create a **DataFrame** from a list of **(key, value)** pairs.\n",
    "- Each **key** becomes a **column name** (`'A'`, `'B'`).\n",
    " - Each **value list** becomes the **column data**.\n",
    " - The row labels (index) are automatically set to **0, 1, 2**.\n"
   ]
  },
  {
   "cell_type": "code",
   "execution_count": 23,
   "id": "8fd0371b-8e7e-4cb4-ba77-4c9fd7f69825",
   "metadata": {},
   "outputs": [
    {
     "name": "stdout",
     "output_type": "stream",
     "text": [
      "   A  B\n",
      "0  1  4\n",
      "1  2  5\n",
      "2  3  6\n"
     ]
    }
   ],
   "source": [
    "df = pd.DataFrame({'A': [1, 2, 3], 'B': [4, 5, 6]})\n",
    "print(df)\n"
   ]
  },
  {
   "cell_type": "markdown",
   "id": "5f842f46-eb2f-4c34-bb72-ba2ff8fad9e5",
   "metadata": {},
   "source": [
    "##  DataFrame from Row-Wise Values with Custom Column Names\n",
    "\n",
    "- Creates a DataFrame from **(key, list)** pairs.\n",
    " - `orient='index'` makes **keys as row labels** (index).\n",
    " - Each list becomes a **row**.\n",
    " - `columns=['one', 'two', 'three']` sets **custom column names**.\n",
    " -  `from_items()` is **removed** in latest pandas versions.\n",
    "   Use `from_dict(..., orient='index')` instead.\n"
   ]
  },
  {
   "cell_type": "code",
   "execution_count": 26,
   "id": "289ce004-37fd-43d3-9138-6e6ce7cb3f1d",
   "metadata": {},
   "outputs": [
    {
     "name": "stdout",
     "output_type": "stream",
     "text": [
      "   one  two  three\n",
      "A    1    2      3\n",
      "B    4    5      6\n"
     ]
    }
   ],
   "source": [
    "df = pd.DataFrame.from_dict(\n",
    "    {'A': [1, 2, 3], 'B': [4, 5, 6]},\n",
    "    orient='index',\n",
    "    columns=['one', 'two', 'three']\n",
    ")\n",
    "\n",
    "print(df)\n"
   ]
  },
  {
   "cell_type": "markdown",
   "id": "aab25d76-8c9d-4d53-998e-e8b74beb2cda",
   "metadata": {},
   "source": [
    "## Accessing a Single Column from a DataFrame\n",
    "\n",
    " - `df['one']` returns the **column named 'one'** from the DataFrame.\n",
    " - The result is a **Series** containing all values under that column.\n",
    " - The **index** remains the same (in this case: 'A' and 'B').\n"
   ]
  },
  {
   "cell_type": "code",
   "execution_count": 31,
   "id": "5ab6cac1-38b5-431d-b1d1-356b117490c5",
   "metadata": {},
   "outputs": [
    {
     "name": "stdout",
     "output_type": "stream",
     "text": [
      "a    1.0\n",
      "b    2.0\n",
      "c    3.0\n",
      "d    NaN\n",
      "Name: one, dtype: float64\n"
     ]
    }
   ],
   "source": [
    "\n",
    "print(df['one'])\n"
   ]
  },
  {
   "cell_type": "markdown",
   "id": "4fdd3fab-c6cc-4d29-8b16-f4f862e38e0f",
   "metadata": {},
   "source": [
    "#  Adding New Columns in DataFrame\n",
    "\n",
    "- **`df['three'] = df['one'] * df['two']`**  \n",
    "   Adds a new column called **three** by multiplying columns **'one'** and **'two'**\n",
    "\n",
    "- **`df['flag'] = df['one'] > 2`**  \n",
    "   Adds a column called **flag**  \n",
    "   Puts **True** if value in **'one' > 2**,\n"
   ]
  },
  {
   "cell_type": "code",
   "execution_count": 32,
   "id": "09662d0a-5a55-455a-bbd1-301a0405256d",
   "metadata": {},
   "outputs": [
    {
     "name": "stdout",
     "output_type": "stream",
     "text": [
      "   one  two  three   flag\n",
      "a  1.0  1.0    1.0  False\n",
      "b  2.0  2.0    4.0  False\n",
      "c  3.0  3.0    9.0   True\n",
      "d  NaN  4.0    NaN  False\n"
     ]
    }
   ],
   "source": [
    "df['three'] = df['one'] * df['two']\n",
    "df['flag'] = df['one'] > 2\n",
    "print(df)\n"
   ]
  },
  {
   "cell_type": "markdown",
   "id": "61ea85d2-e37c-4347-bba1-5b6938e06106",
   "metadata": {},
   "source": [
    "#  Deleting Columns from a DataFrame\n",
    "\n",
    "- **`del df['two']`**  \n",
    "   **Deletes** the column named **'two'** permanently from the DataFrame.\n",
    "\n",
    "- **`three = df.pop('three')`**  \n",
    "   **Removes** the column **'three'** from DataFrame  \n",
    "   And **stores** it separately in the variable **`three`**\n",
    "\n",
    "- **`df`**  \n",
    "   Shows the updated DataFrame after columns are removed.\n"
   ]
  },
  {
   "cell_type": "code",
   "execution_count": 38,
   "id": "b2e7facf-fbff-489c-b0e2-793b70912852",
   "metadata": {},
   "outputs": [
    {
     "data": {
      "text/html": [
       "<div>\n",
       "<style scoped>\n",
       "    .dataframe tbody tr th:only-of-type {\n",
       "        vertical-align: middle;\n",
       "    }\n",
       "\n",
       "    .dataframe tbody tr th {\n",
       "        vertical-align: top;\n",
       "    }\n",
       "\n",
       "    .dataframe thead th {\n",
       "        text-align: right;\n",
       "    }\n",
       "</style>\n",
       "<table border=\"1\" class=\"dataframe\">\n",
       "  <thead>\n",
       "    <tr style=\"text-align: right;\">\n",
       "      <th></th>\n",
       "      <th>one</th>\n",
       "      <th>flag</th>\n",
       "    </tr>\n",
       "  </thead>\n",
       "  <tbody>\n",
       "    <tr>\n",
       "      <th>a</th>\n",
       "      <td>1.0</td>\n",
       "      <td>False</td>\n",
       "    </tr>\n",
       "    <tr>\n",
       "      <th>b</th>\n",
       "      <td>2.0</td>\n",
       "      <td>False</td>\n",
       "    </tr>\n",
       "    <tr>\n",
       "      <th>c</th>\n",
       "      <td>3.0</td>\n",
       "      <td>True</td>\n",
       "    </tr>\n",
       "    <tr>\n",
       "      <th>d</th>\n",
       "      <td>NaN</td>\n",
       "      <td>False</td>\n",
       "    </tr>\n",
       "  </tbody>\n",
       "</table>\n",
       "</div>"
      ],
      "text/plain": [
       "   one   flag\n",
       "a  1.0  False\n",
       "b  2.0  False\n",
       "c  3.0   True\n",
       "d  NaN  False"
      ]
     },
     "execution_count": 38,
     "metadata": {},
     "output_type": "execute_result"
    }
   ],
   "source": [
    "if 'two' in df.columns:\n",
    "    del df['two'] \n",
    "\n",
    "if 'three' in df.columns:\n",
    "    three = df.pop('three')\n",
    "\n",
    "df\n"
   ]
  },
  {
   "cell_type": "markdown",
   "id": "5d8a8ed5-1a8d-4046-b1b4-a0cafec59ae9",
   "metadata": {},
   "source": [
    "#  Adding a Column with a Default Value\n",
    "\n",
    "- **`df['foo'] = 'bar'`**  \n",
    "  Adds a new column called **'foo'** to the DataFrame  \n",
    "   Fills **each row** in that column with the value **'bar'**\n",
    "\n",
    "- **`df`**  \n",
    "   Shows the **updated DataFrame**\n"
   ]
  },
  {
   "cell_type": "code",
   "execution_count": 39,
   "id": "076c7d68-e58c-47c6-ab3a-fd2fd3b05864",
   "metadata": {},
   "outputs": [
    {
     "data": {
      "text/html": [
       "<div>\n",
       "<style scoped>\n",
       "    .dataframe tbody tr th:only-of-type {\n",
       "        vertical-align: middle;\n",
       "    }\n",
       "\n",
       "    .dataframe tbody tr th {\n",
       "        vertical-align: top;\n",
       "    }\n",
       "\n",
       "    .dataframe thead th {\n",
       "        text-align: right;\n",
       "    }\n",
       "</style>\n",
       "<table border=\"1\" class=\"dataframe\">\n",
       "  <thead>\n",
       "    <tr style=\"text-align: right;\">\n",
       "      <th></th>\n",
       "      <th>one</th>\n",
       "      <th>flag</th>\n",
       "      <th>foo</th>\n",
       "    </tr>\n",
       "  </thead>\n",
       "  <tbody>\n",
       "    <tr>\n",
       "      <th>a</th>\n",
       "      <td>1.0</td>\n",
       "      <td>False</td>\n",
       "      <td>bar</td>\n",
       "    </tr>\n",
       "    <tr>\n",
       "      <th>b</th>\n",
       "      <td>2.0</td>\n",
       "      <td>False</td>\n",
       "      <td>bar</td>\n",
       "    </tr>\n",
       "    <tr>\n",
       "      <th>c</th>\n",
       "      <td>3.0</td>\n",
       "      <td>True</td>\n",
       "      <td>bar</td>\n",
       "    </tr>\n",
       "    <tr>\n",
       "      <th>d</th>\n",
       "      <td>NaN</td>\n",
       "      <td>False</td>\n",
       "      <td>bar</td>\n",
       "    </tr>\n",
       "  </tbody>\n",
       "</table>\n",
       "</div>"
      ],
      "text/plain": [
       "   one   flag  foo\n",
       "a  1.0  False  bar\n",
       "b  2.0  False  bar\n",
       "c  3.0   True  bar\n",
       "d  NaN  False  bar"
      ]
     },
     "execution_count": 39,
     "metadata": {},
     "output_type": "execute_result"
    }
   ],
   "source": [
    "df['foo'] = 'bar'   # Adds a new column named 'foo' with value 'bar' in every row\n",
    "df                  # Show the updated DataFrame\n"
   ]
  },
  {
   "cell_type": "markdown",
   "id": "93c23b73-87d8-4923-8198-72abf3f9e67a",
   "metadata": {},
   "source": [
    "#  Creating a Partial Copy of a Column\n",
    "\n",
    "- **`df['one'][:2]`**  \n",
    "   This selects only the **first 2 values** from the column **'one'**\n",
    "\n",
    "- **`df['one_trunc'] = ...`**  \n",
    "  Creates a new column called **'one_trunc'** and fills it with the **partial data** from `'one'`\n",
    "\n",
    "- **`df`**  \n",
    "  Shows the updated DataFrame with the new column\n",
    "\n",
    "Rows not in the first 2 will show **NaN** in `'one_trunc'`\n"
   ]
  },
  {
   "cell_type": "code",
   "execution_count": 40,
   "id": "f6454237-1850-404f-95b7-3475c93916c3",
   "metadata": {},
   "outputs": [
    {
     "data": {
      "text/html": [
       "<div>\n",
       "<style scoped>\n",
       "    .dataframe tbody tr th:only-of-type {\n",
       "        vertical-align: middle;\n",
       "    }\n",
       "\n",
       "    .dataframe tbody tr th {\n",
       "        vertical-align: top;\n",
       "    }\n",
       "\n",
       "    .dataframe thead th {\n",
       "        text-align: right;\n",
       "    }\n",
       "</style>\n",
       "<table border=\"1\" class=\"dataframe\">\n",
       "  <thead>\n",
       "    <tr style=\"text-align: right;\">\n",
       "      <th></th>\n",
       "      <th>one</th>\n",
       "      <th>flag</th>\n",
       "      <th>foo</th>\n",
       "      <th>one_trunc</th>\n",
       "    </tr>\n",
       "  </thead>\n",
       "  <tbody>\n",
       "    <tr>\n",
       "      <th>a</th>\n",
       "      <td>1.0</td>\n",
       "      <td>False</td>\n",
       "      <td>bar</td>\n",
       "      <td>1.0</td>\n",
       "    </tr>\n",
       "    <tr>\n",
       "      <th>b</th>\n",
       "      <td>2.0</td>\n",
       "      <td>False</td>\n",
       "      <td>bar</td>\n",
       "      <td>2.0</td>\n",
       "    </tr>\n",
       "    <tr>\n",
       "      <th>c</th>\n",
       "      <td>3.0</td>\n",
       "      <td>True</td>\n",
       "      <td>bar</td>\n",
       "      <td>NaN</td>\n",
       "    </tr>\n",
       "    <tr>\n",
       "      <th>d</th>\n",
       "      <td>NaN</td>\n",
       "      <td>False</td>\n",
       "      <td>bar</td>\n",
       "      <td>NaN</td>\n",
       "    </tr>\n",
       "  </tbody>\n",
       "</table>\n",
       "</div>"
      ],
      "text/plain": [
       "   one   flag  foo  one_trunc\n",
       "a  1.0  False  bar        1.0\n",
       "b  2.0  False  bar        2.0\n",
       "c  3.0   True  bar        NaN\n",
       "d  NaN  False  bar        NaN"
      ]
     },
     "execution_count": 40,
     "metadata": {},
     "output_type": "execute_result"
    }
   ],
   "source": [
    "df['one_trunc'] = df['one'][:2]  \n",
    "df                              "
   ]
  },
  {
   "cell_type": "markdown",
   "id": "8c2971bf-dba3-4f12-9679-56fd55f90e38",
   "metadata": {},
   "source": [
    "# Inserting a Column at a Specific Position in a DataFrame\n",
    "\n",
    "\n",
    "• **First argument**: index where new column will be inserted.  \n",
    "• **Second argument**: label or title of a new column.  \n",
    "• **Third argument**: it will create a column at specified position.  \n",
    "\n"
   ]
  },
  {
   "cell_type": "code",
   "execution_count": 44,
   "id": "9c1a3991-9638-4a47-b23b-92833cf6b691",
   "metadata": {},
   "outputs": [
    {
     "name": "stdout",
     "output_type": "stream",
     "text": [
      "   one  bar2   flag  foo  one_trunc\n",
      "a  1.0   1.0  False  bar        1.0\n",
      "b  2.0   2.0  False  bar        2.0\n",
      "c  3.0   3.0   True  bar        NaN\n",
      "d  NaN   NaN  False  bar        NaN\n"
     ]
    }
   ],
   "source": [
    "import pandas as pd\n",
    "import numpy as np\n",
    "df = pd.DataFrame({\n",
    "    'one': [1.0, 2.0, 3.0, np.nan],\n",
    "    'flag': [False, False, True, False],\n",
    "    'foo': ['bar', 'bar', 'bar', 'bar'],\n",
    "    'one_trunc': [1.0, 2.0, np.nan, np.nan]\n",
    "}, index=['a', 'b', 'c', 'd'])\n",
    "\n",
    "df.insert(1, 'bar2', df['one'])\n",
    "print(df)\n"
   ]
  },
  {
   "cell_type": "markdown",
   "id": "f6bb6c8d-97ec-4ce8-8b5e-9bfbb25c2104",
   "metadata": {},
   "source": [
    "##  Accessing a Specific Row using `loc[]`\n",
    " Returns all **column labels** and their **values** for row with **label 'b'**.\n",
    "Output is a **Series** representing that one row\n"
   ]
  },
  {
   "cell_type": "code",
   "execution_count": 4,
   "id": "6551814c-92a0-4251-b65c-a04716a469f6",
   "metadata": {},
   "outputs": [
    {
     "name": "stdout",
     "output_type": "stream",
     "text": [
      "one            2.0\n",
      "bar2           2.0\n",
      "flag         False\n",
      "foo            bar\n",
      "one_trunc      2.0\n",
      "Name: b, dtype: object\n"
     ]
    }
   ],
   "source": [
    "\n",
    "print(df.loc['b']) "
   ]
  },
  {
   "cell_type": "markdown",
   "id": "5b475463-6529-4ed2-b073-99b4da8724bf",
   "metadata": {},
   "source": [
    "# Accessing a Row by Position\n",
    "\n",
    "- **`df.iloc[2]`**  \n",
    "  Returns the **third row** (since Python indexing starts from **0**)  \n",
    "  Output is a **Series** showing all **column names** and their **values** for that row\n",
    "\n"
   ]
  },
  {
   "cell_type": "code",
   "execution_count": 7,
   "id": "c4e403b4-2a0d-4c78-b041-9df512ab9501",
   "metadata": {},
   "outputs": [
    {
     "data": {
      "text/plain": [
       "one           3.0\n",
       "bar2          3.0\n",
       "flag         True\n",
       "foo           bar\n",
       "one_trunc     NaN\n",
       "Name: c, dtype: object"
      ]
     },
     "execution_count": 7,
     "metadata": {},
     "output_type": "execute_result"
    }
   ],
   "source": [
    "df.iloc[2]           "
   ]
  },
  {
   "cell_type": "markdown",
   "id": "1f5b532b-c6f8-4a02-9f0c-98f10fce0de1",
   "metadata": {},
   "source": [
    "# Adding Two DataFrames with Matching Column Labels\n",
    "\n",
    "- **`df`**  \n",
    "  A DataFrame of shape **(10, 4)** with columns **['A', 'B', 'C', 'D']**\n",
    "\n",
    "- **`df2`**  \n",
    "  A smaller DataFrame of shape **(7, 3)** with columns **['A', 'B', 'C']**\n",
    "\n",
    "- **`df + df2`**  \n",
    "  Adds the values of **matching column labels** and **matching row indices**\n",
    "\n",
    "- **Missing rows or columns**  \n",
    "  If a label doesn't exist in either DataFrame (like column `'D'` in `df2`), the result will show **NaN** for those positions\n",
    "\n",
    "- **Shape of result**  \n",
    "  The final DataFrame will have the **same shape as the larger DataFrame (`df`)**, but values will only be added where labels **and indices match**\n"
   ]
  },
  {
   "cell_type": "code",
   "execution_count": 17,
   "id": "a560c1fb-e155-48ef-aa9e-0f5c96cd6204",
   "metadata": {},
   "outputs": [
    {
     "data": {
      "text/html": [
       "<div>\n",
       "<style scoped>\n",
       "    .dataframe tbody tr th:only-of-type {\n",
       "        vertical-align: middle;\n",
       "    }\n",
       "\n",
       "    .dataframe tbody tr th {\n",
       "        vertical-align: top;\n",
       "    }\n",
       "\n",
       "    .dataframe thead th {\n",
       "        text-align: right;\n",
       "    }\n",
       "</style>\n",
       "<table border=\"1\" class=\"dataframe\">\n",
       "  <thead>\n",
       "    <tr style=\"text-align: right;\">\n",
       "      <th></th>\n",
       "      <th>A</th>\n",
       "      <th>B</th>\n",
       "      <th>C</th>\n",
       "      <th>D</th>\n",
       "    </tr>\n",
       "  </thead>\n",
       "  <tbody>\n",
       "    <tr>\n",
       "      <th>0</th>\n",
       "      <td>-2.300408</td>\n",
       "      <td>0.383741</td>\n",
       "      <td>0.504073</td>\n",
       "      <td>NaN</td>\n",
       "    </tr>\n",
       "    <tr>\n",
       "      <th>1</th>\n",
       "      <td>0.382949</td>\n",
       "      <td>0.967817</td>\n",
       "      <td>2.178833</td>\n",
       "      <td>NaN</td>\n",
       "    </tr>\n",
       "    <tr>\n",
       "      <th>2</th>\n",
       "      <td>0.946209</td>\n",
       "      <td>-0.574069</td>\n",
       "      <td>-0.306703</td>\n",
       "      <td>NaN</td>\n",
       "    </tr>\n",
       "    <tr>\n",
       "      <th>3</th>\n",
       "      <td>-1.430467</td>\n",
       "      <td>-1.384627</td>\n",
       "      <td>-1.460952</td>\n",
       "      <td>NaN</td>\n",
       "    </tr>\n",
       "    <tr>\n",
       "      <th>4</th>\n",
       "      <td>-1.217231</td>\n",
       "      <td>3.559253</td>\n",
       "      <td>1.627862</td>\n",
       "      <td>NaN</td>\n",
       "    </tr>\n",
       "    <tr>\n",
       "      <th>5</th>\n",
       "      <td>1.101384</td>\n",
       "      <td>1.903089</td>\n",
       "      <td>0.822147</td>\n",
       "      <td>NaN</td>\n",
       "    </tr>\n",
       "    <tr>\n",
       "      <th>6</th>\n",
       "      <td>-1.510120</td>\n",
       "      <td>-0.878849</td>\n",
       "      <td>0.788121</td>\n",
       "      <td>NaN</td>\n",
       "    </tr>\n",
       "    <tr>\n",
       "      <th>7</th>\n",
       "      <td>NaN</td>\n",
       "      <td>NaN</td>\n",
       "      <td>NaN</td>\n",
       "      <td>NaN</td>\n",
       "    </tr>\n",
       "    <tr>\n",
       "      <th>8</th>\n",
       "      <td>NaN</td>\n",
       "      <td>NaN</td>\n",
       "      <td>NaN</td>\n",
       "      <td>NaN</td>\n",
       "    </tr>\n",
       "    <tr>\n",
       "      <th>9</th>\n",
       "      <td>NaN</td>\n",
       "      <td>NaN</td>\n",
       "      <td>NaN</td>\n",
       "      <td>NaN</td>\n",
       "    </tr>\n",
       "  </tbody>\n",
       "</table>\n",
       "</div>"
      ],
      "text/plain": [
       "          A         B         C   D\n",
       "0 -2.300408  0.383741  0.504073 NaN\n",
       "1  0.382949  0.967817  2.178833 NaN\n",
       "2  0.946209 -0.574069 -0.306703 NaN\n",
       "3 -1.430467 -1.384627 -1.460952 NaN\n",
       "4 -1.217231  3.559253  1.627862 NaN\n",
       "5  1.101384  1.903089  0.822147 NaN\n",
       "6 -1.510120 -0.878849  0.788121 NaN\n",
       "7       NaN       NaN       NaN NaN\n",
       "8       NaN       NaN       NaN NaN\n",
       "9       NaN       NaN       NaN NaN"
      ]
     },
     "execution_count": 17,
     "metadata": {},
     "output_type": "execute_result"
    }
   ],
   "source": [
    "import pandas as pd\n",
    "import numpy as np\n",
    "df = pd.DataFrame(np.random.randn(10, 4), columns=['A', 'B', 'C', 'D'])\n",
    "df2 = pd.DataFrame(np.random.randn(7, 3), columns=['A', 'B', 'C'])\n",
    "\n",
    "df + df2\n"
   ]
  },
  {
   "cell_type": "markdown",
   "id": "cce4302f-4455-499e-965c-17fc1258ce8a",
   "metadata": {},
   "source": [
    "# Subtracting the First Row from the Entire DataFrame\n",
    "\n",
    "- **`df`**  \n",
    "  A DataFrame containing numeric values (e.g. from `np.random.randn()`)\n",
    "\n",
    "- **`df.iloc[0]`**  \n",
    "  Returns the **first row** as a Series (shape: 1 × n)\n",
    "\n",
    "- **`df - df.iloc[0]`**  \n",
    "  Performs **element-wise subtraction** of the **first row** from **each row** in the DataFrame\n",
    "- ✅ Result  \n",
    "  First row becomes **all 0s**, and other rows show the **difference** from the first row\n"
   ]
  },
  {
   "cell_type": "code",
   "execution_count": 18,
   "id": "871e93e8-c989-4dfb-a3e7-12f6b183d2da",
   "metadata": {},
   "outputs": [
    {
     "data": {
      "text/html": [
       "<div>\n",
       "<style scoped>\n",
       "    .dataframe tbody tr th:only-of-type {\n",
       "        vertical-align: middle;\n",
       "    }\n",
       "\n",
       "    .dataframe tbody tr th {\n",
       "        vertical-align: top;\n",
       "    }\n",
       "\n",
       "    .dataframe thead th {\n",
       "        text-align: right;\n",
       "    }\n",
       "</style>\n",
       "<table border=\"1\" class=\"dataframe\">\n",
       "  <thead>\n",
       "    <tr style=\"text-align: right;\">\n",
       "      <th></th>\n",
       "      <th>A</th>\n",
       "      <th>B</th>\n",
       "      <th>C</th>\n",
       "      <th>D</th>\n",
       "    </tr>\n",
       "  </thead>\n",
       "  <tbody>\n",
       "    <tr>\n",
       "      <th>0</th>\n",
       "      <td>0.000000</td>\n",
       "      <td>0.000000</td>\n",
       "      <td>0.000000</td>\n",
       "      <td>0.000000</td>\n",
       "    </tr>\n",
       "    <tr>\n",
       "      <th>1</th>\n",
       "      <td>1.722538</td>\n",
       "      <td>0.393105</td>\n",
       "      <td>0.274777</td>\n",
       "      <td>-3.043081</td>\n",
       "    </tr>\n",
       "    <tr>\n",
       "      <th>2</th>\n",
       "      <td>2.647890</td>\n",
       "      <td>0.440075</td>\n",
       "      <td>-1.081565</td>\n",
       "      <td>0.517709</td>\n",
       "    </tr>\n",
       "    <tr>\n",
       "      <th>3</th>\n",
       "      <td>0.966992</td>\n",
       "      <td>1.181645</td>\n",
       "      <td>-2.175084</td>\n",
       "      <td>-3.175184</td>\n",
       "    </tr>\n",
       "    <tr>\n",
       "      <th>4</th>\n",
       "      <td>0.584473</td>\n",
       "      <td>1.009325</td>\n",
       "      <td>0.458866</td>\n",
       "      <td>-1.206055</td>\n",
       "    </tr>\n",
       "    <tr>\n",
       "      <th>5</th>\n",
       "      <td>2.722879</td>\n",
       "      <td>1.998786</td>\n",
       "      <td>0.165161</td>\n",
       "      <td>-2.202645</td>\n",
       "    </tr>\n",
       "    <tr>\n",
       "      <th>6</th>\n",
       "      <td>0.237998</td>\n",
       "      <td>-0.050620</td>\n",
       "      <td>0.136938</td>\n",
       "      <td>-1.569688</td>\n",
       "    </tr>\n",
       "    <tr>\n",
       "      <th>7</th>\n",
       "      <td>1.309078</td>\n",
       "      <td>0.985853</td>\n",
       "      <td>-1.674390</td>\n",
       "      <td>-0.518806</td>\n",
       "    </tr>\n",
       "    <tr>\n",
       "      <th>8</th>\n",
       "      <td>1.221420</td>\n",
       "      <td>-0.395353</td>\n",
       "      <td>-0.277823</td>\n",
       "      <td>-3.423848</td>\n",
       "    </tr>\n",
       "    <tr>\n",
       "      <th>9</th>\n",
       "      <td>1.267944</td>\n",
       "      <td>0.660534</td>\n",
       "      <td>-0.788816</td>\n",
       "      <td>-2.563887</td>\n",
       "    </tr>\n",
       "  </tbody>\n",
       "</table>\n",
       "</div>"
      ],
      "text/plain": [
       "          A         B         C         D\n",
       "0  0.000000  0.000000  0.000000  0.000000\n",
       "1  1.722538  0.393105  0.274777 -3.043081\n",
       "2  2.647890  0.440075 -1.081565  0.517709\n",
       "3  0.966992  1.181645 -2.175084 -3.175184\n",
       "4  0.584473  1.009325  0.458866 -1.206055\n",
       "5  2.722879  1.998786  0.165161 -2.202645\n",
       "6  0.237998 -0.050620  0.136938 -1.569688\n",
       "7  1.309078  0.985853 -1.674390 -0.518806\n",
       "8  1.221420 -0.395353 -0.277823 -3.423848\n",
       "9  1.267944  0.660534 -0.788816 -2.563887"
      ]
     },
     "execution_count": 18,
     "metadata": {},
     "output_type": "execute_result"
    }
   ],
   "source": [
    "df - df.iloc[0]\n"
   ]
  },
  {
   "cell_type": "markdown",
   "id": "1f1c33db-e0fe-4d71-9c9e-384564297bf2",
   "metadata": {},
   "source": [
    "# Applying Arithmetic Operations to the Entire DataFrame\n",
    "\n",
    "- **`df * 5`**  \n",
    "  Multiplies **every numeric value** in the DataFrame by **5**\n",
    "\n",
    "- **`+ 2`**  \n",
    "  After multiplication, adds **2** to **every value**\n",
    "\n",
    "-  Final Expression: **`df * 5 + 2`**  \n",
    "  First multiplies, then adds → i.e. performs the operation:  \n",
    "  **`(original_value × 5) + 2`**\n",
    "\n",
    "-  Operation is **element-wise**  \n",
    "  Applies to **each cell** in the DataFrame individually\n",
    "\n",
    "\n"
   ]
  },
  {
   "cell_type": "code",
   "execution_count": 19,
   "id": "a3625bfe-e09e-490b-aca6-d4a7075a33de",
   "metadata": {},
   "outputs": [
    {
     "data": {
      "text/html": [
       "<div>\n",
       "<style scoped>\n",
       "    .dataframe tbody tr th:only-of-type {\n",
       "        vertical-align: middle;\n",
       "    }\n",
       "\n",
       "    .dataframe tbody tr th {\n",
       "        vertical-align: top;\n",
       "    }\n",
       "\n",
       "    .dataframe thead th {\n",
       "        text-align: right;\n",
       "    }\n",
       "</style>\n",
       "<table border=\"1\" class=\"dataframe\">\n",
       "  <thead>\n",
       "    <tr style=\"text-align: right;\">\n",
       "      <th></th>\n",
       "      <th>A</th>\n",
       "      <th>B</th>\n",
       "      <th>C</th>\n",
       "      <th>D</th>\n",
       "    </tr>\n",
       "  </thead>\n",
       "  <tbody>\n",
       "    <tr>\n",
       "      <th>0</th>\n",
       "      <td>-6.885219</td>\n",
       "      <td>0.682472</td>\n",
       "      <td>8.165887</td>\n",
       "      <td>10.257041</td>\n",
       "    </tr>\n",
       "    <tr>\n",
       "      <th>1</th>\n",
       "      <td>1.727474</td>\n",
       "      <td>2.647995</td>\n",
       "      <td>9.539771</td>\n",
       "      <td>-4.958362</td>\n",
       "    </tr>\n",
       "    <tr>\n",
       "      <th>2</th>\n",
       "      <td>6.354231</td>\n",
       "      <td>2.882848</td>\n",
       "      <td>2.758062</td>\n",
       "      <td>12.845585</td>\n",
       "    </tr>\n",
       "    <tr>\n",
       "      <th>3</th>\n",
       "      <td>-2.050257</td>\n",
       "      <td>6.590699</td>\n",
       "      <td>-2.709531</td>\n",
       "      <td>-5.618879</td>\n",
       "    </tr>\n",
       "    <tr>\n",
       "      <th>4</th>\n",
       "      <td>-3.962856</td>\n",
       "      <td>5.729096</td>\n",
       "      <td>10.460219</td>\n",
       "      <td>4.226766</td>\n",
       "    </tr>\n",
       "    <tr>\n",
       "      <th>5</th>\n",
       "      <td>6.729177</td>\n",
       "      <td>10.676400</td>\n",
       "      <td>8.991693</td>\n",
       "      <td>-0.756184</td>\n",
       "    </tr>\n",
       "    <tr>\n",
       "      <th>6</th>\n",
       "      <td>-5.695228</td>\n",
       "      <td>0.429372</td>\n",
       "      <td>8.850580</td>\n",
       "      <td>2.408600</td>\n",
       "    </tr>\n",
       "    <tr>\n",
       "      <th>7</th>\n",
       "      <td>-0.339827</td>\n",
       "      <td>5.611737</td>\n",
       "      <td>-0.206061</td>\n",
       "      <td>7.663012</td>\n",
       "    </tr>\n",
       "    <tr>\n",
       "      <th>8</th>\n",
       "      <td>-0.778118</td>\n",
       "      <td>-1.294294</td>\n",
       "      <td>6.776775</td>\n",
       "      <td>-6.862200</td>\n",
       "    </tr>\n",
       "    <tr>\n",
       "      <th>9</th>\n",
       "      <td>-0.545499</td>\n",
       "      <td>3.985142</td>\n",
       "      <td>4.221805</td>\n",
       "      <td>-2.562395</td>\n",
       "    </tr>\n",
       "  </tbody>\n",
       "</table>\n",
       "</div>"
      ],
      "text/plain": [
       "          A          B          C          D\n",
       "0 -6.885219   0.682472   8.165887  10.257041\n",
       "1  1.727474   2.647995   9.539771  -4.958362\n",
       "2  6.354231   2.882848   2.758062  12.845585\n",
       "3 -2.050257   6.590699  -2.709531  -5.618879\n",
       "4 -3.962856   5.729096  10.460219   4.226766\n",
       "5  6.729177  10.676400   8.991693  -0.756184\n",
       "6 -5.695228   0.429372   8.850580   2.408600\n",
       "7 -0.339827   5.611737  -0.206061   7.663012\n",
       "8 -0.778118  -1.294294   6.776775  -6.862200\n",
       "9 -0.545499   3.985142   4.221805  -2.562395"
      ]
     },
     "execution_count": 19,
     "metadata": {},
     "output_type": "execute_result"
    }
   ],
   "source": [
    " df*5+2"
   ]
  },
  {
   "cell_type": "markdown",
   "id": "b6a2414b-db94-4b14-afec-6dd1f4fce69e",
   "metadata": {},
   "source": [
    "#  Element-wise Reciprocal of a DataFrame Using `1 / df`\n",
    "\n",
    "- **`1 / df`** means:  \n",
    "  Take each number in the DataFrame and **divide 1 by that number**\n",
    "\n",
    "- This happens **for every cell** in the table — one by one  \n",
    "  (this is called an **element-wise operation**)\n",
    "\n",
    "- If any value is **0**, the result will be **infinity (`inf`)**\n",
    "\n",
    "- If any value is **NaN (missing or empty)**, the result will also be **NaN**"
   ]
  },
  {
   "cell_type": "code",
   "execution_count": 20,
   "id": "69b59bb4-2428-4be9-93a1-6f3c59470f48",
   "metadata": {},
   "outputs": [
    {
     "data": {
      "text/html": [
       "<div>\n",
       "<style scoped>\n",
       "    .dataframe tbody tr th:only-of-type {\n",
       "        vertical-align: middle;\n",
       "    }\n",
       "\n",
       "    .dataframe tbody tr th {\n",
       "        vertical-align: top;\n",
       "    }\n",
       "\n",
       "    .dataframe thead th {\n",
       "        text-align: right;\n",
       "    }\n",
       "</style>\n",
       "<table border=\"1\" class=\"dataframe\">\n",
       "  <thead>\n",
       "    <tr style=\"text-align: right;\">\n",
       "      <th></th>\n",
       "      <th>A</th>\n",
       "      <th>B</th>\n",
       "      <th>C</th>\n",
       "      <th>D</th>\n",
       "    </tr>\n",
       "  </thead>\n",
       "  <tbody>\n",
       "    <tr>\n",
       "      <th>0</th>\n",
       "      <td>-0.562732</td>\n",
       "      <td>-3.794986</td>\n",
       "      <td>0.810913</td>\n",
       "      <td>0.605544</td>\n",
       "    </tr>\n",
       "    <tr>\n",
       "      <th>1</th>\n",
       "      <td>-18.346844</td>\n",
       "      <td>7.716111</td>\n",
       "      <td>0.663150</td>\n",
       "      <td>-0.718560</td>\n",
       "    </tr>\n",
       "    <tr>\n",
       "      <th>2</th>\n",
       "      <td>1.148309</td>\n",
       "      <td>5.663490</td>\n",
       "      <td>6.595770</td>\n",
       "      <td>0.461017</td>\n",
       "    </tr>\n",
       "    <tr>\n",
       "      <th>3</th>\n",
       "      <td>-1.234490</td>\n",
       "      <td>1.089159</td>\n",
       "      <td>-1.061677</td>\n",
       "      <td>-0.656264</td>\n",
       "    </tr>\n",
       "    <tr>\n",
       "      <th>4</th>\n",
       "      <td>-0.838524</td>\n",
       "      <td>1.340807</td>\n",
       "      <td>0.591001</td>\n",
       "      <td>2.245409</td>\n",
       "    </tr>\n",
       "    <tr>\n",
       "      <th>5</th>\n",
       "      <td>1.057266</td>\n",
       "      <td>0.576276</td>\n",
       "      <td>0.715134</td>\n",
       "      <td>-1.814103</td>\n",
       "    </tr>\n",
       "    <tr>\n",
       "      <th>6</th>\n",
       "      <td>-0.649753</td>\n",
       "      <td>-3.183441</td>\n",
       "      <td>0.729865</td>\n",
       "      <td>12.236902</td>\n",
       "    </tr>\n",
       "    <tr>\n",
       "      <th>7</th>\n",
       "      <td>-2.136910</td>\n",
       "      <td>1.384375</td>\n",
       "      <td>-2.266483</td>\n",
       "      <td>0.882922</td>\n",
       "    </tr>\n",
       "    <tr>\n",
       "      <th>8</th>\n",
       "      <td>-1.799779</td>\n",
       "      <td>-1.517776</td>\n",
       "      <td>1.046731</td>\n",
       "      <td>-0.564194</td>\n",
       "    </tr>\n",
       "    <tr>\n",
       "      <th>9</th>\n",
       "      <td>-1.964252</td>\n",
       "      <td>2.518712</td>\n",
       "      <td>2.250422</td>\n",
       "      <td>-1.095916</td>\n",
       "    </tr>\n",
       "  </tbody>\n",
       "</table>\n",
       "</div>"
      ],
      "text/plain": [
       "           A         B         C          D\n",
       "0  -0.562732 -3.794986  0.810913   0.605544\n",
       "1 -18.346844  7.716111  0.663150  -0.718560\n",
       "2   1.148309  5.663490  6.595770   0.461017\n",
       "3  -1.234490  1.089159 -1.061677  -0.656264\n",
       "4  -0.838524  1.340807  0.591001   2.245409\n",
       "5   1.057266  0.576276  0.715134  -1.814103\n",
       "6  -0.649753 -3.183441  0.729865  12.236902\n",
       "7  -2.136910  1.384375 -2.266483   0.882922\n",
       "8  -1.799779 -1.517776  1.046731  -0.564194\n",
       "9  -1.964252  2.518712  2.250422  -1.095916"
      ]
     },
     "execution_count": 20,
     "metadata": {},
     "output_type": "execute_result"
    }
   ],
   "source": [
    "1 / df "
   ]
  },
  {
   "cell_type": "markdown",
   "id": "da4fb01c-3e59-4f03-9d41-f864883c2125",
   "metadata": {},
   "source": [
    "#  Raising All Values in a DataFrame to Power 4 Using `df ** 4`\n",
    "\n",
    "\n",
    "\n",
    "- This code takes **every number** in the DataFrame `df`  \n",
    "- And **raises it to the power of 4**  \n",
    "- In other words: it does **`value × value × value × value`**\n",
    "\n",
    "- It works on **each cell separately** (element-wise operation)\n",
    "\n",
    "- This only works if the DataFrame has **numeric values**  \n",
    "  (it will give error if the column has text)"
   ]
  },
  {
   "cell_type": "code",
   "execution_count": 21,
   "id": "5a4c9384-3e49-4f47-9e5a-7462e5ecdc25",
   "metadata": {},
   "outputs": [
    {
     "data": {
      "text/html": [
       "<div>\n",
       "<style scoped>\n",
       "    .dataframe tbody tr th:only-of-type {\n",
       "        vertical-align: middle;\n",
       "    }\n",
       "\n",
       "    .dataframe tbody tr th {\n",
       "        vertical-align: top;\n",
       "    }\n",
       "\n",
       "    .dataframe thead th {\n",
       "        text-align: right;\n",
       "    }\n",
       "</style>\n",
       "<table border=\"1\" class=\"dataframe\">\n",
       "  <thead>\n",
       "    <tr style=\"text-align: right;\">\n",
       "      <th></th>\n",
       "      <th>A</th>\n",
       "      <th>B</th>\n",
       "      <th>C</th>\n",
       "      <th>D</th>\n",
       "    </tr>\n",
       "  </thead>\n",
       "  <tbody>\n",
       "    <tr>\n",
       "      <th>0</th>\n",
       "      <td>9.972234</td>\n",
       "      <td>0.004821</td>\n",
       "      <td>2.312610</td>\n",
       "      <td>7.437340</td>\n",
       "    </tr>\n",
       "    <tr>\n",
       "      <th>1</th>\n",
       "      <td>0.000009</td>\n",
       "      <td>0.000282</td>\n",
       "      <td>5.170738</td>\n",
       "      <td>3.751010</td>\n",
       "    </tr>\n",
       "    <tr>\n",
       "      <th>2</th>\n",
       "      <td>0.575130</td>\n",
       "      <td>0.000972</td>\n",
       "      <td>0.000528</td>\n",
       "      <td>22.137674</td>\n",
       "    </tr>\n",
       "    <tr>\n",
       "      <th>3</th>\n",
       "      <td>0.430576</td>\n",
       "      <td>0.710616</td>\n",
       "      <td>0.787101</td>\n",
       "      <td>5.391187</td>\n",
       "    </tr>\n",
       "    <tr>\n",
       "      <th>4</th>\n",
       "      <td>2.022726</td>\n",
       "      <td>0.309410</td>\n",
       "      <td>8.196840</td>\n",
       "      <td>0.039339</td>\n",
       "    </tr>\n",
       "    <tr>\n",
       "      <th>5</th>\n",
       "      <td>0.800317</td>\n",
       "      <td>9.067306</td>\n",
       "      <td>3.823396</td>\n",
       "      <td>0.092332</td>\n",
       "    </tr>\n",
       "    <tr>\n",
       "      <th>6</th>\n",
       "      <td>5.610557</td>\n",
       "      <td>0.009737</td>\n",
       "      <td>3.523946</td>\n",
       "      <td>0.000045</td>\n",
       "    </tr>\n",
       "    <tr>\n",
       "      <th>7</th>\n",
       "      <td>0.047957</td>\n",
       "      <td>0.272260</td>\n",
       "      <td>0.037896</td>\n",
       "      <td>1.645546</td>\n",
       "    </tr>\n",
       "    <tr>\n",
       "      <th>8</th>\n",
       "      <td>0.095307</td>\n",
       "      <td>0.188438</td>\n",
       "      <td>0.833027</td>\n",
       "      <td>9.869296</td>\n",
       "    </tr>\n",
       "    <tr>\n",
       "      <th>9</th>\n",
       "      <td>0.067176</td>\n",
       "      <td>0.024848</td>\n",
       "      <td>0.038989</td>\n",
       "      <td>0.693253</td>\n",
       "    </tr>\n",
       "  </tbody>\n",
       "</table>\n",
       "</div>"
      ],
      "text/plain": [
       "          A         B         C          D\n",
       "0  9.972234  0.004821  2.312610   7.437340\n",
       "1  0.000009  0.000282  5.170738   3.751010\n",
       "2  0.575130  0.000972  0.000528  22.137674\n",
       "3  0.430576  0.710616  0.787101   5.391187\n",
       "4  2.022726  0.309410  8.196840   0.039339\n",
       "5  0.800317  9.067306  3.823396   0.092332\n",
       "6  5.610557  0.009737  3.523946   0.000045\n",
       "7  0.047957  0.272260  0.037896   1.645546\n",
       "8  0.095307  0.188438  0.833027   9.869296\n",
       "9  0.067176  0.024848  0.038989   0.693253"
      ]
     },
     "execution_count": 21,
     "metadata": {},
     "output_type": "execute_result"
    }
   ],
   "source": [
    "df **4"
   ]
  },
  {
   "cell_type": "markdown",
   "id": "86921cd6-3315-45ce-ba29-96083acb4c02",
   "metadata": {},
   "source": [
    "#  Converting 1s and 0s into True/False Using `dtype=bool` in DataFrame\n",
    "\n",
    "- This code creates a **DataFrame with True/False values**\n",
    "- We use `dtype=bool` to convert:\n",
    "  - `1` → `True`  \n",
    "  - `0` → `False`\n",
    "  \n",
    "- It works **column-wise** for all values  \n",
    "- This is helpful for **logic operations** in pandas\n"
   ]
  },
  {
   "cell_type": "code",
   "execution_count": 22,
   "id": "ec7c5bb9-1e13-46d5-8ca2-cc567dc012c2",
   "metadata": {},
   "outputs": [
    {
     "name": "stdout",
     "output_type": "stream",
     "text": [
      "       a      b\n",
      "0  False   True\n",
      "1   True   True\n",
      "2   True  False\n"
     ]
    }
   ],
   "source": [
    "import pandas as pd\n",
    "df1 = pd.DataFrame({'a': [1, 0, 1], 'b': [0, 1, 1]}, dtype=bool)\n",
    "df2 = pd.DataFrame({'a': [0, 1, 1], 'b': [1, 1, 0]}, dtype=bool)\n",
    "df = pd.DataFrame({'a': [0, 1, 1], 'b': [1, 1, 0]}, dtype=bool)\n",
    "print(df)\n"
   ]
  },
  {
   "cell_type": "markdown",
   "id": "c3018378-f9e1-41fb-82c3-9ecf6e9c99cf",
   "metadata": {},
   "source": [
    "#  Applying AND Logical Operator Between Two Boolean DataFrames: `df1 & df2`\n",
    "\n",
    "- This code uses the **`&` (AND)** operator between two boolean DataFrames: `df1` and `df2`\n",
    "- It checks **each cell**:\n",
    "  - If **both values are True**, the result is **True**\n",
    "  - Otherwise, the result is **False**\n",
    "\n",
    "- This is called an **element-wise logical operation**\n",
    "- Both DataFrames must have:\n",
    "  - The **same shape** (same rows and columns)\n",
    "  - And **only boolean values**"
   ]
  },
  {
   "cell_type": "code",
   "execution_count": 23,
   "id": "acd394f9-ba40-42cc-b529-d8f904388896",
   "metadata": {},
   "outputs": [
    {
     "data": {
      "text/html": [
       "<div>\n",
       "<style scoped>\n",
       "    .dataframe tbody tr th:only-of-type {\n",
       "        vertical-align: middle;\n",
       "    }\n",
       "\n",
       "    .dataframe tbody tr th {\n",
       "        vertical-align: top;\n",
       "    }\n",
       "\n",
       "    .dataframe thead th {\n",
       "        text-align: right;\n",
       "    }\n",
       "</style>\n",
       "<table border=\"1\" class=\"dataframe\">\n",
       "  <thead>\n",
       "    <tr style=\"text-align: right;\">\n",
       "      <th></th>\n",
       "      <th>a</th>\n",
       "      <th>b</th>\n",
       "    </tr>\n",
       "  </thead>\n",
       "  <tbody>\n",
       "    <tr>\n",
       "      <th>0</th>\n",
       "      <td>False</td>\n",
       "      <td>False</td>\n",
       "    </tr>\n",
       "    <tr>\n",
       "      <th>1</th>\n",
       "      <td>False</td>\n",
       "      <td>True</td>\n",
       "    </tr>\n",
       "    <tr>\n",
       "      <th>2</th>\n",
       "      <td>True</td>\n",
       "      <td>False</td>\n",
       "    </tr>\n",
       "  </tbody>\n",
       "</table>\n",
       "</div>"
      ],
      "text/plain": [
       "       a      b\n",
       "0  False  False\n",
       "1  False   True\n",
       "2   True  False"
      ]
     },
     "execution_count": 23,
     "metadata": {},
     "output_type": "execute_result"
    }
   ],
   "source": [
    " df1 & df2 "
   ]
  },
  {
   "cell_type": "markdown",
   "id": "72aa3708-4e57-4c64-9135-5f358a8bdac5",
   "metadata": {},
   "source": [
    "# Applying OR Logical Operator Between Two Boolean DataFrames: `df1 | df2`\n",
    "\n",
    "- This code uses the **`|` (OR)** operator between two boolean DataFrames: `df1` and `df2`\n",
    "- It checks **each cell**:\n",
    "  - If **at least one value is True**, the result is **True**\n",
    "  - If **both are False**, then result is **False**\n"
   ]
  },
  {
   "cell_type": "code",
   "execution_count": 24,
   "id": "f62d59b3-96f4-4695-bdd3-d00e21fb5374",
   "metadata": {},
   "outputs": [
    {
     "data": {
      "text/html": [
       "<div>\n",
       "<style scoped>\n",
       "    .dataframe tbody tr th:only-of-type {\n",
       "        vertical-align: middle;\n",
       "    }\n",
       "\n",
       "    .dataframe tbody tr th {\n",
       "        vertical-align: top;\n",
       "    }\n",
       "\n",
       "    .dataframe thead th {\n",
       "        text-align: right;\n",
       "    }\n",
       "</style>\n",
       "<table border=\"1\" class=\"dataframe\">\n",
       "  <thead>\n",
       "    <tr style=\"text-align: right;\">\n",
       "      <th></th>\n",
       "      <th>a</th>\n",
       "      <th>b</th>\n",
       "    </tr>\n",
       "  </thead>\n",
       "  <tbody>\n",
       "    <tr>\n",
       "      <th>0</th>\n",
       "      <td>True</td>\n",
       "      <td>True</td>\n",
       "    </tr>\n",
       "    <tr>\n",
       "      <th>1</th>\n",
       "      <td>True</td>\n",
       "      <td>True</td>\n",
       "    </tr>\n",
       "    <tr>\n",
       "      <th>2</th>\n",
       "      <td>True</td>\n",
       "      <td>True</td>\n",
       "    </tr>\n",
       "  </tbody>\n",
       "</table>\n",
       "</div>"
      ],
      "text/plain": [
       "      a     b\n",
       "0  True  True\n",
       "1  True  True\n",
       "2  True  True"
      ]
     },
     "execution_count": 24,
     "metadata": {},
     "output_type": "execute_result"
    }
   ],
   "source": [
    "df1 | df2 "
   ]
  },
  {
   "cell_type": "markdown",
   "id": "d57dd762-bfc2-4762-a50a-e51084c1efad",
   "metadata": {},
   "source": [
    "#  Converting Boolean Values to -1 and 0 Using `-df1`\n",
    "\n",
    "- This code uses the **unary minus operator (`-`)** on a **boolean DataFrame (`df1`)**\n",
    "- In pandas, when you apply `-` to a boolean:\n",
    "  - `True` becomes `-1`\n",
    "  - `False` becomes `0`\n",
    "\n",
    "- So this operation **converts True/False into numbers**:\n",
    "  - `True` → `-1`\n",
    "  - `False` → `0`\n",
    "\n"
   ]
  },
  {
   "cell_type": "code",
   "execution_count": 25,
   "id": "4778e21a-0ded-4d76-ab9e-30e38de6e960",
   "metadata": {},
   "outputs": [
    {
     "data": {
      "text/html": [
       "<div>\n",
       "<style scoped>\n",
       "    .dataframe tbody tr th:only-of-type {\n",
       "        vertical-align: middle;\n",
       "    }\n",
       "\n",
       "    .dataframe tbody tr th {\n",
       "        vertical-align: top;\n",
       "    }\n",
       "\n",
       "    .dataframe thead th {\n",
       "        text-align: right;\n",
       "    }\n",
       "</style>\n",
       "<table border=\"1\" class=\"dataframe\">\n",
       "  <thead>\n",
       "    <tr style=\"text-align: right;\">\n",
       "      <th></th>\n",
       "      <th>a</th>\n",
       "      <th>b</th>\n",
       "    </tr>\n",
       "  </thead>\n",
       "  <tbody>\n",
       "    <tr>\n",
       "      <th>0</th>\n",
       "      <td>False</td>\n",
       "      <td>True</td>\n",
       "    </tr>\n",
       "    <tr>\n",
       "      <th>1</th>\n",
       "      <td>True</td>\n",
       "      <td>False</td>\n",
       "    </tr>\n",
       "    <tr>\n",
       "      <th>2</th>\n",
       "      <td>False</td>\n",
       "      <td>False</td>\n",
       "    </tr>\n",
       "  </tbody>\n",
       "</table>\n",
       "</div>"
      ],
      "text/plain": [
       "       a      b\n",
       "0  False   True\n",
       "1   True  False\n",
       "2  False  False"
      ]
     },
     "execution_count": 25,
     "metadata": {},
     "output_type": "execute_result"
    }
   ],
   "source": [
    "-df1"
   ]
  },
  {
   "cell_type": "markdown",
   "id": "0a65ef90-9b13-4daa-8d64-e3cb143af3f0",
   "metadata": {},
   "source": [
    "#  Transpose Only the First 5 Rows of a DataFrame Using `df[:5].T`\n",
    "\n",
    "- `df[:5]` selects the **first 5 rows** from the DataFrame\n",
    "- `.T` is used to **transpose** the DataFrame:\n",
    "  - It **flips rows into columns**\n",
    "  - And **columns into rows**\n",
    "\n",
    "- So this code shows the **first 5 rows**, but **rotated**\n",
    "- Transposing is useful for:\n",
    "  - Better readability\n",
    "  - Plotting or formatting tables\n",
    "\n"
   ]
  },
  {
   "cell_type": "code",
   "execution_count": 33,
   "id": "9c03ce1d-c719-4b4c-b4e1-1b7d855d2646",
   "metadata": {},
   "outputs": [
    {
     "name": "stdout",
     "output_type": "stream",
     "text": [
      "          0         1         2         3         4\n",
      "A -0.359914 -0.096568  0.697960  0.137381 -0.649546\n",
      "B -0.238951 -0.488984  0.159602 -0.674962 -0.966566\n",
      "C  0.325460  0.560559 -0.276472 -1.354957 -0.562389\n",
      "D -0.504582 -0.534400  1.491301 -1.349378  0.390472\n"
     ]
    }
   ],
   "source": [
    "print(df[:5].T)\n"
   ]
  },
  {
   "cell_type": "markdown",
   "id": "272ef33e-4b46-4673-83e7-898e87bb35ea",
   "metadata": {},
   "source": [
    "#  Creating a Range of Dates Using `pd.date_range()`\n",
    "\n",
    "- This code creates a sequence of **6 dates**, starting from **January 1, 2013**\n",
    "- It uses the function `pd.date_range(start_date, periods)`\n",
    "- The result is a **DatetimeIndex**, which pandas uses to handle dates\n"
   ]
  },
  {
   "cell_type": "code",
   "execution_count": 37,
   "id": "938c8a67-7b3b-4d43-bb56-30f7f62aaa1a",
   "metadata": {},
   "outputs": [
    {
     "name": "stdout",
     "output_type": "stream",
     "text": [
      "DatetimeIndex(['2013-01-01', '2013-01-02', '2013-01-03', '2013-01-04',\n",
      "               '2013-01-05', '2013-01-06'],\n",
      "              dtype='datetime64[ns]', freq='D')\n"
     ]
    }
   ],
   "source": [
    "dates = pd.date_range('20130101', periods=6)\n",
    "\n",
    "# Print the result\n",
    "print(dates)\n"
   ]
  },
  {
   "cell_type": "markdown",
   "id": "7a64efe4-1c21-4217-8eec-e8293c3165d6",
   "metadata": {},
   "source": [
    "# Creating a DataFrame with Random Numbers and Date Index\n",
    "\n",
    "\n",
    "- This code creates a DataFrame with:\n",
    "  - **6 rows** of **random numbers**\n",
    "  - **4 columns**: A, B, C, D\n",
    "  - **Date index** from **2013-01-01 to 2013-01-06**\n"
   ]
  },
  {
   "cell_type": "code",
   "execution_count": 39,
   "id": "51db0882-3228-4cae-80e8-2497758b0ecd",
   "metadata": {},
   "outputs": [
    {
     "data": {
      "text/html": [
       "<div>\n",
       "<style scoped>\n",
       "    .dataframe tbody tr th:only-of-type {\n",
       "        vertical-align: middle;\n",
       "    }\n",
       "\n",
       "    .dataframe tbody tr th {\n",
       "        vertical-align: top;\n",
       "    }\n",
       "\n",
       "    .dataframe thead th {\n",
       "        text-align: right;\n",
       "    }\n",
       "</style>\n",
       "<table border=\"1\" class=\"dataframe\">\n",
       "  <thead>\n",
       "    <tr style=\"text-align: right;\">\n",
       "      <th></th>\n",
       "      <th>A</th>\n",
       "      <th>B</th>\n",
       "      <th>C</th>\n",
       "      <th>D</th>\n",
       "    </tr>\n",
       "  </thead>\n",
       "  <tbody>\n",
       "    <tr>\n",
       "      <th>2013-01-01</th>\n",
       "      <td>-0.604275</td>\n",
       "      <td>-0.020078</td>\n",
       "      <td>-0.290458</td>\n",
       "      <td>-0.188913</td>\n",
       "    </tr>\n",
       "    <tr>\n",
       "      <th>2013-01-02</th>\n",
       "      <td>-0.176810</td>\n",
       "      <td>1.077646</td>\n",
       "      <td>0.120606</td>\n",
       "      <td>-0.302282</td>\n",
       "    </tr>\n",
       "    <tr>\n",
       "      <th>2013-01-03</th>\n",
       "      <td>1.380452</td>\n",
       "      <td>-1.326638</td>\n",
       "      <td>-2.828209</td>\n",
       "      <td>0.880114</td>\n",
       "    </tr>\n",
       "    <tr>\n",
       "      <th>2013-01-04</th>\n",
       "      <td>-0.747176</td>\n",
       "      <td>-0.037740</td>\n",
       "      <td>0.600682</td>\n",
       "      <td>-0.976261</td>\n",
       "    </tr>\n",
       "    <tr>\n",
       "      <th>2013-01-05</th>\n",
       "      <td>-0.213447</td>\n",
       "      <td>0.985358</td>\n",
       "      <td>-0.975446</td>\n",
       "      <td>-0.646724</td>\n",
       "    </tr>\n",
       "    <tr>\n",
       "      <th>2013-01-06</th>\n",
       "      <td>0.637455</td>\n",
       "      <td>0.165888</td>\n",
       "      <td>1.383143</td>\n",
       "      <td>1.559827</td>\n",
       "    </tr>\n",
       "  </tbody>\n",
       "</table>\n",
       "</div>"
      ],
      "text/plain": [
       "                   A         B         C         D\n",
       "2013-01-01 -0.604275 -0.020078 -0.290458 -0.188913\n",
       "2013-01-02 -0.176810  1.077646  0.120606 -0.302282\n",
       "2013-01-03  1.380452 -1.326638 -2.828209  0.880114\n",
       "2013-01-04 -0.747176 -0.037740  0.600682 -0.976261\n",
       "2013-01-05 -0.213447  0.985358 -0.975446 -0.646724\n",
       "2013-01-06  0.637455  0.165888  1.383143  1.559827"
      ]
     },
     "execution_count": 39,
     "metadata": {},
     "output_type": "execute_result"
    }
   ],
   "source": [
    " df = pd.DataFrame(np.random.randn(6,4), index=dates, columns=list('ABCD'))\n",
    "df"
   ]
  },
  {
   "cell_type": "markdown",
   "id": "a8ef5fe8-12cc-4ac1-a0a1-b6b196460438",
   "metadata": {},
   "source": [
    "#  Creating a Custom DataFrame `df2` With Mixed Data Types\n",
    "\n",
    "This code creates a **DataFrame** with **4 rows** and **6 columns**, where each column has a **different data type**."
   ]
  },
  {
   "cell_type": "code",
   "execution_count": 4,
   "id": "994ccb5b-277a-47b9-a7b9-7c3645dc174f",
   "metadata": {},
   "outputs": [
    {
     "name": "stdout",
     "output_type": "stream",
     "text": [
      "     A          B    C  D      E    F\n",
      "0  1.0 2013-01-02  1.0  3   test  foo\n",
      "1  1.0 2013-01-02  1.0  3  train  foo\n",
      "2  1.0 2013-01-02  1.0  3   test  foo\n",
      "3  1.0 2013-01-02  1.0  3  train  foo\n"
     ]
    }
   ],
   "source": [
    "\n",
    "df2 = pd.DataFrame({\n",
    "    'A': 1.0,  \n",
    "    'B': pd.Timestamp('2013-01-02'), \n",
    "    'C': pd.Series(1, index=list(range(4)), dtype='float32'), \n",
    "    'D': np.array([3] * 4, dtype='int32'),  \n",
    "    'E': pd.Categorical([\"test\", \"train\", \"test\", \"train\"]),  \n",
    "    'F': 'foo'\n",
    "})\n",
    "print(df2)\n"
   ]
  },
  {
   "cell_type": "markdown",
   "id": "31290a32-bb3c-41b0-9879-726f25d988f2",
   "metadata": {},
   "source": [
    "# Checking Data Types of Each Column Using `df2.dtypes`\n",
    "\n",
    "This code is used to **see what kind of data** is stored in each column of the DataFra"
   ]
  },
  {
   "cell_type": "code",
   "execution_count": 6,
   "id": "4e0810c0-21f3-4ec9-b47e-6665ac0d1a91",
   "metadata": {},
   "outputs": [
    {
     "name": "stdout",
     "output_type": "stream",
     "text": [
      "A          float64\n",
      "B    datetime64[s]\n",
      "C          float32\n",
      "D            int32\n",
      "E         category\n",
      "F           object\n",
      "dtype: object\n"
     ]
    }
   ],
   "source": [
    "\n",
    "print(df2.dtypes)\n"
   ]
  },
  {
   "cell_type": "markdown",
   "id": "09fc2981-1815-4069-9258-e4c667591e97",
   "metadata": {},
   "source": [
    "#  Displaying the First 5 Rows Using `df.head()`\n",
    "This code creates a **DataFrame named `df`** which has:\n",
    "\n",
    "- **6 rows** of random numbers\n",
    "- **4 columns**: A, B, C, D\n",
    "- A **date index** starting from **2013-01-01**\n",
    "\n",
    "This code is used to **view the first 5 records** (rows) from a DataFrame."
   ]
  },
  {
   "cell_type": "code",
   "execution_count": 11,
   "id": "f0910ac5-2373-438e-8959-9eb74530eb87",
   "metadata": {},
   "outputs": [],
   "source": [
    "import pandas as pd\n",
    "import numpy as np\n",
    "dates = pd.date_range('20130101', periods=6)\n",
    "df = pd.DataFrame(np.random.randn(6, 4), index=dates, columns=list('ABCD'))"
   ]
  },
  {
   "cell_type": "code",
   "execution_count": 12,
   "id": "50f4ed09-0be5-4b7b-b10c-2270a094acd2",
   "metadata": {},
   "outputs": [
    {
     "data": {
      "text/html": [
       "<div>\n",
       "<style scoped>\n",
       "    .dataframe tbody tr th:only-of-type {\n",
       "        vertical-align: middle;\n",
       "    }\n",
       "\n",
       "    .dataframe tbody tr th {\n",
       "        vertical-align: top;\n",
       "    }\n",
       "\n",
       "    .dataframe thead th {\n",
       "        text-align: right;\n",
       "    }\n",
       "</style>\n",
       "<table border=\"1\" class=\"dataframe\">\n",
       "  <thead>\n",
       "    <tr style=\"text-align: right;\">\n",
       "      <th></th>\n",
       "      <th>A</th>\n",
       "      <th>B</th>\n",
       "      <th>C</th>\n",
       "      <th>D</th>\n",
       "    </tr>\n",
       "  </thead>\n",
       "  <tbody>\n",
       "    <tr>\n",
       "      <th>2013-01-01</th>\n",
       "      <td>-0.920671</td>\n",
       "      <td>1.264912</td>\n",
       "      <td>0.030107</td>\n",
       "      <td>-0.664593</td>\n",
       "    </tr>\n",
       "    <tr>\n",
       "      <th>2013-01-02</th>\n",
       "      <td>0.249046</td>\n",
       "      <td>1.326292</td>\n",
       "      <td>-0.523090</td>\n",
       "      <td>-1.801563</td>\n",
       "    </tr>\n",
       "    <tr>\n",
       "      <th>2013-01-03</th>\n",
       "      <td>0.625397</td>\n",
       "      <td>-0.077841</td>\n",
       "      <td>2.096883</td>\n",
       "      <td>0.733444</td>\n",
       "    </tr>\n",
       "    <tr>\n",
       "      <th>2013-01-04</th>\n",
       "      <td>0.478941</td>\n",
       "      <td>-0.802880</td>\n",
       "      <td>-0.542591</td>\n",
       "      <td>-1.624577</td>\n",
       "    </tr>\n",
       "    <tr>\n",
       "      <th>2013-01-05</th>\n",
       "      <td>0.194924</td>\n",
       "      <td>1.197848</td>\n",
       "      <td>-1.451985</td>\n",
       "      <td>-0.043211</td>\n",
       "    </tr>\n",
       "  </tbody>\n",
       "</table>\n",
       "</div>"
      ],
      "text/plain": [
       "                   A         B         C         D\n",
       "2013-01-01 -0.920671  1.264912  0.030107 -0.664593\n",
       "2013-01-02  0.249046  1.326292 -0.523090 -1.801563\n",
       "2013-01-03  0.625397 -0.077841  2.096883  0.733444\n",
       "2013-01-04  0.478941 -0.802880 -0.542591 -1.624577\n",
       "2013-01-05  0.194924  1.197848 -1.451985 -0.043211"
      ]
     },
     "execution_count": 12,
     "metadata": {},
     "output_type": "execute_result"
    }
   ],
   "source": [
    "df.head()\n"
   ]
  },
  {
   "cell_type": "markdown",
   "id": "874d0b33-16ec-4007-bf20-3a366f73e917",
   "metadata": {},
   "source": [
    "#  Displaying the Last 3 Rows Using `df.tail(3)`\n",
    "\n",
    "This code is used to **show the bottom 3 records** (rows) from the DataFrame `df`.\n"
   ]
  },
  {
   "cell_type": "code",
   "execution_count": 13,
   "id": "414ba8bf-c44e-410e-82cc-ba902e9c7962",
   "metadata": {},
   "outputs": [
    {
     "data": {
      "text/html": [
       "<div>\n",
       "<style scoped>\n",
       "    .dataframe tbody tr th:only-of-type {\n",
       "        vertical-align: middle;\n",
       "    }\n",
       "\n",
       "    .dataframe tbody tr th {\n",
       "        vertical-align: top;\n",
       "    }\n",
       "\n",
       "    .dataframe thead th {\n",
       "        text-align: right;\n",
       "    }\n",
       "</style>\n",
       "<table border=\"1\" class=\"dataframe\">\n",
       "  <thead>\n",
       "    <tr style=\"text-align: right;\">\n",
       "      <th></th>\n",
       "      <th>A</th>\n",
       "      <th>B</th>\n",
       "      <th>C</th>\n",
       "      <th>D</th>\n",
       "    </tr>\n",
       "  </thead>\n",
       "  <tbody>\n",
       "    <tr>\n",
       "      <th>2013-01-04</th>\n",
       "      <td>0.478941</td>\n",
       "      <td>-0.802880</td>\n",
       "      <td>-0.542591</td>\n",
       "      <td>-1.624577</td>\n",
       "    </tr>\n",
       "    <tr>\n",
       "      <th>2013-01-05</th>\n",
       "      <td>0.194924</td>\n",
       "      <td>1.197848</td>\n",
       "      <td>-1.451985</td>\n",
       "      <td>-0.043211</td>\n",
       "    </tr>\n",
       "    <tr>\n",
       "      <th>2013-01-06</th>\n",
       "      <td>-0.765314</td>\n",
       "      <td>1.787213</td>\n",
       "      <td>-0.759633</td>\n",
       "      <td>0.239078</td>\n",
       "    </tr>\n",
       "  </tbody>\n",
       "</table>\n",
       "</div>"
      ],
      "text/plain": [
       "                   A         B         C         D\n",
       "2013-01-04  0.478941 -0.802880 -0.542591 -1.624577\n",
       "2013-01-05  0.194924  1.197848 -1.451985 -0.043211\n",
       "2013-01-06 -0.765314  1.787213 -0.759633  0.239078"
      ]
     },
     "execution_count": 13,
     "metadata": {},
     "output_type": "execute_result"
    }
   ],
   "source": [
    "df.tail(3) "
   ]
  },
  {
   "cell_type": "markdown",
   "id": "35d1ba66-3869-4c5a-baa9-6a87c7918a51",
   "metadata": {},
   "source": [
    "#  Displaying the Index Labels of the DataFrame Using `df.index`\n",
    "\n",
    "This code is used to **show the index (row labels)** of the DataFrame `df`."
   ]
  },
  {
   "cell_type": "markdown",
   "id": "706e8b6e-90ce-4e45-ba4f-6ad5f4d5a364",
   "metadata": {},
   "source": [
    "df.index"
   ]
  },
  {
   "cell_type": "markdown",
   "id": "6a9f1920-2ff5-4108-b7eb-28178adde9be",
   "metadata": {},
   "source": [
    "#  Displaying Column Names of the DataFrame Using `df.columns`\n",
    "\n",
    "This code is used to **see the names of all columns** in the DataFrame `df`."
   ]
  },
  {
   "cell_type": "code",
   "execution_count": 16,
   "id": "964a2409-b522-4f22-9c2d-b26d1b4bdd6b",
   "metadata": {},
   "outputs": [
    {
     "data": {
      "text/plain": [
       "Index(['A', 'B', 'C', 'D'], dtype='object')"
      ]
     },
     "execution_count": 16,
     "metadata": {},
     "output_type": "execute_result"
    }
   ],
   "source": [
    "df.columns "
   ]
  },
  {
   "cell_type": "markdown",
   "id": "39710481-217b-4f53-b97f-f51aa3358f01",
   "metadata": {},
   "source": [
    "#  Displaying Only the Data Values Using `df.values`\n",
    "\n",
    "This code is used to **see only the raw data** (values) from the DataFrame —  \n",
    "**without column names or row labels**.\n"
   ]
  },
  {
   "cell_type": "code",
   "execution_count": 19,
   "id": "1420014a-8d32-4f49-9561-c8a8c69d9a70",
   "metadata": {},
   "outputs": [
    {
     "data": {
      "text/plain": [
       "array([[-0.92067103,  1.26491216,  0.03010723, -0.66459319],\n",
       "       [ 0.24904553,  1.32629235, -0.52308995, -1.80156262],\n",
       "       [ 0.62539681, -0.07784119,  2.09688347,  0.73344392],\n",
       "       [ 0.47894108, -0.80287997, -0.54259077, -1.62457663],\n",
       "       [ 0.19492448,  1.19784807, -1.45198484, -0.04321083],\n",
       "       [-0.76531388,  1.78721323, -0.75963308,  0.23907779]])"
      ]
     },
     "execution_count": 19,
     "metadata": {},
     "output_type": "execute_result"
    }
   ],
   "source": [
    "df.values "
   ]
  },
  {
   "cell_type": "markdown",
   "id": "598967e3-7642-4aad-b8ea-a3669927d99c",
   "metadata": {},
   "source": [
    "# Transposing Your DataFrame Using `df.T`\n",
    "\n",
    "This code is used to **transpose the DataFrame**, which means it:\n",
    "\n",
    "- **Flips the rows and columns**\n",
    "- **Rows become columns**, and **columns become rows**\n"
   ]
  },
  {
   "cell_type": "code",
   "execution_count": 21,
   "id": "38171bde-b4a1-4c99-81cc-a136d759d574",
   "metadata": {},
   "outputs": [
    {
     "data": {
      "text/html": [
       "<div>\n",
       "<style scoped>\n",
       "    .dataframe tbody tr th:only-of-type {\n",
       "        vertical-align: middle;\n",
       "    }\n",
       "\n",
       "    .dataframe tbody tr th {\n",
       "        vertical-align: top;\n",
       "    }\n",
       "\n",
       "    .dataframe thead th {\n",
       "        text-align: right;\n",
       "    }\n",
       "</style>\n",
       "<table border=\"1\" class=\"dataframe\">\n",
       "  <thead>\n",
       "    <tr style=\"text-align: right;\">\n",
       "      <th></th>\n",
       "      <th>2013-01-01</th>\n",
       "      <th>2013-01-02</th>\n",
       "      <th>2013-01-03</th>\n",
       "      <th>2013-01-04</th>\n",
       "      <th>2013-01-05</th>\n",
       "      <th>2013-01-06</th>\n",
       "    </tr>\n",
       "  </thead>\n",
       "  <tbody>\n",
       "    <tr>\n",
       "      <th>A</th>\n",
       "      <td>-0.920671</td>\n",
       "      <td>0.249046</td>\n",
       "      <td>0.625397</td>\n",
       "      <td>0.478941</td>\n",
       "      <td>0.194924</td>\n",
       "      <td>-0.765314</td>\n",
       "    </tr>\n",
       "    <tr>\n",
       "      <th>B</th>\n",
       "      <td>1.264912</td>\n",
       "      <td>1.326292</td>\n",
       "      <td>-0.077841</td>\n",
       "      <td>-0.802880</td>\n",
       "      <td>1.197848</td>\n",
       "      <td>1.787213</td>\n",
       "    </tr>\n",
       "    <tr>\n",
       "      <th>C</th>\n",
       "      <td>0.030107</td>\n",
       "      <td>-0.523090</td>\n",
       "      <td>2.096883</td>\n",
       "      <td>-0.542591</td>\n",
       "      <td>-1.451985</td>\n",
       "      <td>-0.759633</td>\n",
       "    </tr>\n",
       "    <tr>\n",
       "      <th>D</th>\n",
       "      <td>-0.664593</td>\n",
       "      <td>-1.801563</td>\n",
       "      <td>0.733444</td>\n",
       "      <td>-1.624577</td>\n",
       "      <td>-0.043211</td>\n",
       "      <td>0.239078</td>\n",
       "    </tr>\n",
       "  </tbody>\n",
       "</table>\n",
       "</div>"
      ],
      "text/plain": [
       "   2013-01-01  2013-01-02  2013-01-03  2013-01-04  2013-01-05  2013-01-06\n",
       "A   -0.920671    0.249046    0.625397    0.478941    0.194924   -0.765314\n",
       "B    1.264912    1.326292   -0.077841   -0.802880    1.197848    1.787213\n",
       "C    0.030107   -0.523090    2.096883   -0.542591   -1.451985   -0.759633\n",
       "D   -0.664593   -1.801563    0.733444   -1.624577   -0.043211    0.239078"
      ]
     },
     "execution_count": 21,
     "metadata": {},
     "output_type": "execute_result"
    }
   ],
   "source": [
    " \n",
    "df.T "
   ]
  },
  {
   "cell_type": "markdown",
   "id": "ee796228-0139-492a-913b-adbdea407ab7",
   "metadata": {},
   "source": [
    "# Sorting Columns by Axis Using`\n",
    "\n",
    "This code is used to **sort the DataFrame's columns** (not rows).\n"
   ]
  },
  {
   "cell_type": "code",
   "execution_count": 22,
   "id": "8da8e215-2df1-4a62-8368-65989ecb8095",
   "metadata": {},
   "outputs": [
    {
     "data": {
      "text/html": [
       "<div>\n",
       "<style scoped>\n",
       "    .dataframe tbody tr th:only-of-type {\n",
       "        vertical-align: middle;\n",
       "    }\n",
       "\n",
       "    .dataframe tbody tr th {\n",
       "        vertical-align: top;\n",
       "    }\n",
       "\n",
       "    .dataframe thead th {\n",
       "        text-align: right;\n",
       "    }\n",
       "</style>\n",
       "<table border=\"1\" class=\"dataframe\">\n",
       "  <thead>\n",
       "    <tr style=\"text-align: right;\">\n",
       "      <th></th>\n",
       "      <th>D</th>\n",
       "      <th>C</th>\n",
       "      <th>B</th>\n",
       "      <th>A</th>\n",
       "    </tr>\n",
       "  </thead>\n",
       "  <tbody>\n",
       "    <tr>\n",
       "      <th>2013-01-01</th>\n",
       "      <td>-0.664593</td>\n",
       "      <td>0.030107</td>\n",
       "      <td>1.264912</td>\n",
       "      <td>-0.920671</td>\n",
       "    </tr>\n",
       "    <tr>\n",
       "      <th>2013-01-02</th>\n",
       "      <td>-1.801563</td>\n",
       "      <td>-0.523090</td>\n",
       "      <td>1.326292</td>\n",
       "      <td>0.249046</td>\n",
       "    </tr>\n",
       "    <tr>\n",
       "      <th>2013-01-03</th>\n",
       "      <td>0.733444</td>\n",
       "      <td>2.096883</td>\n",
       "      <td>-0.077841</td>\n",
       "      <td>0.625397</td>\n",
       "    </tr>\n",
       "    <tr>\n",
       "      <th>2013-01-04</th>\n",
       "      <td>-1.624577</td>\n",
       "      <td>-0.542591</td>\n",
       "      <td>-0.802880</td>\n",
       "      <td>0.478941</td>\n",
       "    </tr>\n",
       "    <tr>\n",
       "      <th>2013-01-05</th>\n",
       "      <td>-0.043211</td>\n",
       "      <td>-1.451985</td>\n",
       "      <td>1.197848</td>\n",
       "      <td>0.194924</td>\n",
       "    </tr>\n",
       "    <tr>\n",
       "      <th>2013-01-06</th>\n",
       "      <td>0.239078</td>\n",
       "      <td>-0.759633</td>\n",
       "      <td>1.787213</td>\n",
       "      <td>-0.765314</td>\n",
       "    </tr>\n",
       "  </tbody>\n",
       "</table>\n",
       "</div>"
      ],
      "text/plain": [
       "                   D         C         B         A\n",
       "2013-01-01 -0.664593  0.030107  1.264912 -0.920671\n",
       "2013-01-02 -1.801563 -0.523090  1.326292  0.249046\n",
       "2013-01-03  0.733444  2.096883 -0.077841  0.625397\n",
       "2013-01-04 -1.624577 -0.542591 -0.802880  0.478941\n",
       "2013-01-05 -0.043211 -1.451985  1.197848  0.194924\n",
       "2013-01-06  0.239078 -0.759633  1.787213 -0.765314"
      ]
     },
     "execution_count": 22,
     "metadata": {},
     "output_type": "execute_result"
    }
   ],
   "source": [
    "\n",
    " df.sort_index(axis=1, ascending=False)"
   ]
  },
  {
   "cell_type": "markdown",
   "id": "927f64f4-0be1-4da3-b909-48d7d516fe53",
   "metadata": {},
   "source": [
    "## Sorting Rows by Column \n",
    "\n",
    "This code is used to **sort the rows of the DataFrame** based on the values in **column 'B'**."
   ]
  },
  {
   "cell_type": "code",
   "execution_count": 24,
   "id": "396434d4-4b42-45f5-bb60-b5a271f8367d",
   "metadata": {},
   "outputs": [
    {
     "data": {
      "text/html": [
       "<div>\n",
       "<style scoped>\n",
       "    .dataframe tbody tr th:only-of-type {\n",
       "        vertical-align: middle;\n",
       "    }\n",
       "\n",
       "    .dataframe tbody tr th {\n",
       "        vertical-align: top;\n",
       "    }\n",
       "\n",
       "    .dataframe thead th {\n",
       "        text-align: right;\n",
       "    }\n",
       "</style>\n",
       "<table border=\"1\" class=\"dataframe\">\n",
       "  <thead>\n",
       "    <tr style=\"text-align: right;\">\n",
       "      <th></th>\n",
       "      <th>A</th>\n",
       "      <th>B</th>\n",
       "      <th>C</th>\n",
       "      <th>D</th>\n",
       "    </tr>\n",
       "  </thead>\n",
       "  <tbody>\n",
       "    <tr>\n",
       "      <th>2013-01-04</th>\n",
       "      <td>0.478941</td>\n",
       "      <td>-0.802880</td>\n",
       "      <td>-0.542591</td>\n",
       "      <td>-1.624577</td>\n",
       "    </tr>\n",
       "    <tr>\n",
       "      <th>2013-01-03</th>\n",
       "      <td>0.625397</td>\n",
       "      <td>-0.077841</td>\n",
       "      <td>2.096883</td>\n",
       "      <td>0.733444</td>\n",
       "    </tr>\n",
       "    <tr>\n",
       "      <th>2013-01-05</th>\n",
       "      <td>0.194924</td>\n",
       "      <td>1.197848</td>\n",
       "      <td>-1.451985</td>\n",
       "      <td>-0.043211</td>\n",
       "    </tr>\n",
       "    <tr>\n",
       "      <th>2013-01-01</th>\n",
       "      <td>-0.920671</td>\n",
       "      <td>1.264912</td>\n",
       "      <td>0.030107</td>\n",
       "      <td>-0.664593</td>\n",
       "    </tr>\n",
       "    <tr>\n",
       "      <th>2013-01-02</th>\n",
       "      <td>0.249046</td>\n",
       "      <td>1.326292</td>\n",
       "      <td>-0.523090</td>\n",
       "      <td>-1.801563</td>\n",
       "    </tr>\n",
       "    <tr>\n",
       "      <th>2013-01-06</th>\n",
       "      <td>-0.765314</td>\n",
       "      <td>1.787213</td>\n",
       "      <td>-0.759633</td>\n",
       "      <td>0.239078</td>\n",
       "    </tr>\n",
       "  </tbody>\n",
       "</table>\n",
       "</div>"
      ],
      "text/plain": [
       "                   A         B         C         D\n",
       "2013-01-04  0.478941 -0.802880 -0.542591 -1.624577\n",
       "2013-01-03  0.625397 -0.077841  2.096883  0.733444\n",
       "2013-01-05  0.194924  1.197848 -1.451985 -0.043211\n",
       "2013-01-01 -0.920671  1.264912  0.030107 -0.664593\n",
       "2013-01-02  0.249046  1.326292 -0.523090 -1.801563\n",
       "2013-01-06 -0.765314  1.787213 -0.759633  0.239078"
      ]
     },
     "execution_count": 24,
     "metadata": {},
     "output_type": "execute_result"
    }
   ],
   "source": [
    "df.sort_values(by='B')\n"
   ]
  },
  {
   "cell_type": "markdown",
   "id": "9568a047-a3aa-4405-ab99-4e47d07ffac9",
   "metadata": {},
   "source": [
    "# Quick Statistical Summary \n",
    "\n",
    "This code is used to get a **quick summary of statistics** for your numerical data."
   ]
  },
  {
   "cell_type": "code",
   "execution_count": 26,
   "id": "810b7e75-add0-4c49-af70-498978770be2",
   "metadata": {},
   "outputs": [
    {
     "data": {
      "text/html": [
       "<div>\n",
       "<style scoped>\n",
       "    .dataframe tbody tr th:only-of-type {\n",
       "        vertical-align: middle;\n",
       "    }\n",
       "\n",
       "    .dataframe tbody tr th {\n",
       "        vertical-align: top;\n",
       "    }\n",
       "\n",
       "    .dataframe thead th {\n",
       "        text-align: right;\n",
       "    }\n",
       "</style>\n",
       "<table border=\"1\" class=\"dataframe\">\n",
       "  <thead>\n",
       "    <tr style=\"text-align: right;\">\n",
       "      <th></th>\n",
       "      <th>A</th>\n",
       "      <th>B</th>\n",
       "      <th>C</th>\n",
       "      <th>D</th>\n",
       "    </tr>\n",
       "  </thead>\n",
       "  <tbody>\n",
       "    <tr>\n",
       "      <th>count</th>\n",
       "      <td>6.000000</td>\n",
       "      <td>6.000000</td>\n",
       "      <td>6.000000</td>\n",
       "      <td>6.000000</td>\n",
       "    </tr>\n",
       "    <tr>\n",
       "      <th>mean</th>\n",
       "      <td>-0.022946</td>\n",
       "      <td>0.782591</td>\n",
       "      <td>-0.191718</td>\n",
       "      <td>-0.526904</td>\n",
       "    </tr>\n",
       "    <tr>\n",
       "      <th>std</th>\n",
       "      <td>0.655852</td>\n",
       "      <td>0.996395</td>\n",
       "      <td>1.219067</td>\n",
       "      <td>1.025452</td>\n",
       "    </tr>\n",
       "    <tr>\n",
       "      <th>min</th>\n",
       "      <td>-0.920671</td>\n",
       "      <td>-0.802880</td>\n",
       "      <td>-1.451985</td>\n",
       "      <td>-1.801563</td>\n",
       "    </tr>\n",
       "    <tr>\n",
       "      <th>25%</th>\n",
       "      <td>-0.525254</td>\n",
       "      <td>0.241081</td>\n",
       "      <td>-0.705373</td>\n",
       "      <td>-1.384581</td>\n",
       "    </tr>\n",
       "    <tr>\n",
       "      <th>50%</th>\n",
       "      <td>0.221985</td>\n",
       "      <td>1.231380</td>\n",
       "      <td>-0.532840</td>\n",
       "      <td>-0.353902</td>\n",
       "    </tr>\n",
       "    <tr>\n",
       "      <th>75%</th>\n",
       "      <td>0.421467</td>\n",
       "      <td>1.310947</td>\n",
       "      <td>-0.108192</td>\n",
       "      <td>0.168506</td>\n",
       "    </tr>\n",
       "    <tr>\n",
       "      <th>max</th>\n",
       "      <td>0.625397</td>\n",
       "      <td>1.787213</td>\n",
       "      <td>2.096883</td>\n",
       "      <td>0.733444</td>\n",
       "    </tr>\n",
       "  </tbody>\n",
       "</table>\n",
       "</div>"
      ],
      "text/plain": [
       "              A         B         C         D\n",
       "count  6.000000  6.000000  6.000000  6.000000\n",
       "mean  -0.022946  0.782591 -0.191718 -0.526904\n",
       "std    0.655852  0.996395  1.219067  1.025452\n",
       "min   -0.920671 -0.802880 -1.451985 -1.801563\n",
       "25%   -0.525254  0.241081 -0.705373 -1.384581\n",
       "50%    0.221985  1.231380 -0.532840 -0.353902\n",
       "75%    0.421467  1.310947 -0.108192  0.168506\n",
       "max    0.625397  1.787213  2.096883  0.733444"
      ]
     },
     "execution_count": 26,
     "metadata": {},
     "output_type": "execute_result"
    }
   ],
   "source": [
    "\n",
    " df.describe() "
   ]
  },
  {
   "cell_type": "markdown",
   "id": "254363c9-f0cf-47c4-a716-5b3d8bd3e8fc",
   "metadata": {},
   "source": [
    "# Selecting a Single Column from a DataFrame\n",
    "\n",
    "This code is used to **select only one column** from the DataFrame — and it gives the result as a **Series**.\n"
   ]
  },
  {
   "cell_type": "code",
   "execution_count": 28,
   "id": "b38f796b-7c50-48b7-8ed9-fc42238f1cbe",
   "metadata": {},
   "outputs": [
    {
     "data": {
      "text/plain": [
       "2013-01-01   -0.920671\n",
       "2013-01-02    0.249046\n",
       "2013-01-03    0.625397\n",
       "2013-01-04    0.478941\n",
       "2013-01-05    0.194924\n",
       "2013-01-06   -0.765314\n",
       "Freq: D, Name: A, dtype: float64"
      ]
     },
     "execution_count": 28,
     "metadata": {},
     "output_type": "execute_result"
    }
   ],
   "source": [
    "df['A'] "
   ]
  },
  {
   "cell_type": "markdown",
   "id": "2a71c0ea-5c7d-4231-8292-b7f1c9eeb414",
   "metadata": {},
   "source": [
    "# Selecting Rows by Slicing \n",
    "\n",
    "This code is used to **select a range of rows** from the DataFrame — based on their **position (index number)**."
   ]
  },
  {
   "cell_type": "code",
   "execution_count": 30,
   "id": "abcee719-62de-4486-b3db-350a201ae489",
   "metadata": {},
   "outputs": [
    {
     "data": {
      "text/html": [
       "<div>\n",
       "<style scoped>\n",
       "    .dataframe tbody tr th:only-of-type {\n",
       "        vertical-align: middle;\n",
       "    }\n",
       "\n",
       "    .dataframe tbody tr th {\n",
       "        vertical-align: top;\n",
       "    }\n",
       "\n",
       "    .dataframe thead th {\n",
       "        text-align: right;\n",
       "    }\n",
       "</style>\n",
       "<table border=\"1\" class=\"dataframe\">\n",
       "  <thead>\n",
       "    <tr style=\"text-align: right;\">\n",
       "      <th></th>\n",
       "      <th>A</th>\n",
       "      <th>B</th>\n",
       "      <th>C</th>\n",
       "      <th>D</th>\n",
       "    </tr>\n",
       "  </thead>\n",
       "  <tbody>\n",
       "    <tr>\n",
       "      <th>2013-01-01</th>\n",
       "      <td>-0.920671</td>\n",
       "      <td>1.264912</td>\n",
       "      <td>0.030107</td>\n",
       "      <td>-0.664593</td>\n",
       "    </tr>\n",
       "    <tr>\n",
       "      <th>2013-01-02</th>\n",
       "      <td>0.249046</td>\n",
       "      <td>1.326292</td>\n",
       "      <td>-0.523090</td>\n",
       "      <td>-1.801563</td>\n",
       "    </tr>\n",
       "    <tr>\n",
       "      <th>2013-01-03</th>\n",
       "      <td>0.625397</td>\n",
       "      <td>-0.077841</td>\n",
       "      <td>2.096883</td>\n",
       "      <td>0.733444</td>\n",
       "    </tr>\n",
       "  </tbody>\n",
       "</table>\n",
       "</div>"
      ],
      "text/plain": [
       "                   A         B         C         D\n",
       "2013-01-01 -0.920671  1.264912  0.030107 -0.664593\n",
       "2013-01-02  0.249046  1.326292 -0.523090 -1.801563\n",
       "2013-01-03  0.625397 -0.077841  2.096883  0.733444"
      ]
     },
     "execution_count": 30,
     "metadata": {},
     "output_type": "execute_result"
    }
   ],
   "source": [
    "df[0:3] "
   ]
  },
  {
   "cell_type": "markdown",
   "id": "76303d81-f31e-4ab8-916e-5fea13c6acdc",
   "metadata": {},
   "source": [
    "#  Selecting Rows by Date Range\n",
    "\n",
    "This code is used to **select rows by date labels**, not by position."
   ]
  },
  {
   "cell_type": "code",
   "execution_count": 31,
   "id": "9be05281-02a4-42ff-a368-bf1c3e62d87a",
   "metadata": {},
   "outputs": [
    {
     "data": {
      "text/html": [
       "<div>\n",
       "<style scoped>\n",
       "    .dataframe tbody tr th:only-of-type {\n",
       "        vertical-align: middle;\n",
       "    }\n",
       "\n",
       "    .dataframe tbody tr th {\n",
       "        vertical-align: top;\n",
       "    }\n",
       "\n",
       "    .dataframe thead th {\n",
       "        text-align: right;\n",
       "    }\n",
       "</style>\n",
       "<table border=\"1\" class=\"dataframe\">\n",
       "  <thead>\n",
       "    <tr style=\"text-align: right;\">\n",
       "      <th></th>\n",
       "      <th>A</th>\n",
       "      <th>B</th>\n",
       "      <th>C</th>\n",
       "      <th>D</th>\n",
       "    </tr>\n",
       "  </thead>\n",
       "  <tbody>\n",
       "    <tr>\n",
       "      <th>2013-01-02</th>\n",
       "      <td>0.249046</td>\n",
       "      <td>1.326292</td>\n",
       "      <td>-0.523090</td>\n",
       "      <td>-1.801563</td>\n",
       "    </tr>\n",
       "    <tr>\n",
       "      <th>2013-01-03</th>\n",
       "      <td>0.625397</td>\n",
       "      <td>-0.077841</td>\n",
       "      <td>2.096883</td>\n",
       "      <td>0.733444</td>\n",
       "    </tr>\n",
       "    <tr>\n",
       "      <th>2013-01-04</th>\n",
       "      <td>0.478941</td>\n",
       "      <td>-0.802880</td>\n",
       "      <td>-0.542591</td>\n",
       "      <td>-1.624577</td>\n",
       "    </tr>\n",
       "  </tbody>\n",
       "</table>\n",
       "</div>"
      ],
      "text/plain": [
       "                   A         B         C         D\n",
       "2013-01-02  0.249046  1.326292 -0.523090 -1.801563\n",
       "2013-01-03  0.625397 -0.077841  2.096883  0.733444\n",
       "2013-01-04  0.478941 -0.802880 -0.542591 -1.624577"
      ]
     },
     "execution_count": 31,
     "metadata": {},
     "output_type": "execute_result"
    }
   ],
   "source": [
    "df['20130102':'20130104']"
   ]
  },
  {
   "cell_type": "markdown",
   "id": "ad25657a-4e20-4ae5-839e-e3045fc17d24",
   "metadata": {},
   "source": [
    " ## Selecting on Multiple Axes by Label\n",
    "\n",
    "This code is used to **select specific columns** using their **labels**, across **all rows**."
   ]
  },
  {
   "cell_type": "code",
   "execution_count": 34,
   "id": "787970b0-755f-4723-ae68-118b8cf86fe5",
   "metadata": {},
   "outputs": [
    {
     "data": {
      "text/html": [
       "<div>\n",
       "<style scoped>\n",
       "    .dataframe tbody tr th:only-of-type {\n",
       "        vertical-align: middle;\n",
       "    }\n",
       "\n",
       "    .dataframe tbody tr th {\n",
       "        vertical-align: top;\n",
       "    }\n",
       "\n",
       "    .dataframe thead th {\n",
       "        text-align: right;\n",
       "    }\n",
       "</style>\n",
       "<table border=\"1\" class=\"dataframe\">\n",
       "  <thead>\n",
       "    <tr style=\"text-align: right;\">\n",
       "      <th></th>\n",
       "      <th>A</th>\n",
       "      <th>B</th>\n",
       "    </tr>\n",
       "  </thead>\n",
       "  <tbody>\n",
       "    <tr>\n",
       "      <th>2013-01-01</th>\n",
       "      <td>-0.920671</td>\n",
       "      <td>1.264912</td>\n",
       "    </tr>\n",
       "    <tr>\n",
       "      <th>2013-01-02</th>\n",
       "      <td>0.249046</td>\n",
       "      <td>1.326292</td>\n",
       "    </tr>\n",
       "    <tr>\n",
       "      <th>2013-01-03</th>\n",
       "      <td>0.625397</td>\n",
       "      <td>-0.077841</td>\n",
       "    </tr>\n",
       "    <tr>\n",
       "      <th>2013-01-04</th>\n",
       "      <td>0.478941</td>\n",
       "      <td>-0.802880</td>\n",
       "    </tr>\n",
       "    <tr>\n",
       "      <th>2013-01-05</th>\n",
       "      <td>0.194924</td>\n",
       "      <td>1.197848</td>\n",
       "    </tr>\n",
       "    <tr>\n",
       "      <th>2013-01-06</th>\n",
       "      <td>-0.765314</td>\n",
       "      <td>1.787213</td>\n",
       "    </tr>\n",
       "  </tbody>\n",
       "</table>\n",
       "</div>"
      ],
      "text/plain": [
       "                   A         B\n",
       "2013-01-01 -0.920671  1.264912\n",
       "2013-01-02  0.249046  1.326292\n",
       "2013-01-03  0.625397 -0.077841\n",
       "2013-01-04  0.478941 -0.802880\n",
       "2013-01-05  0.194924  1.197848\n",
       "2013-01-06 -0.765314  1.787213"
      ]
     },
     "execution_count": 34,
     "metadata": {},
     "output_type": "execute_result"
    }
   ],
   "source": [
    "df.loc[:, ['A', 'B']]\n"
   ]
  },
  {
   "cell_type": "markdown",
   "id": "c1991237-f373-4f9a-bf32-06d5053ba896",
   "metadata": {},
   "source": [
    "# Label Slicing with Included Endpoints \n",
    "\n",
    "This code is used to **select a specific range of rows and specific columns** using **labels (not positions)**."
   ]
  },
  {
   "cell_type": "code",
   "execution_count": 37,
   "id": "173206f2-3a59-455d-83c2-b7e45b79537e",
   "metadata": {},
   "outputs": [
    {
     "data": {
      "text/html": [
       "<div>\n",
       "<style scoped>\n",
       "    .dataframe tbody tr th:only-of-type {\n",
       "        vertical-align: middle;\n",
       "    }\n",
       "\n",
       "    .dataframe tbody tr th {\n",
       "        vertical-align: top;\n",
       "    }\n",
       "\n",
       "    .dataframe thead th {\n",
       "        text-align: right;\n",
       "    }\n",
       "</style>\n",
       "<table border=\"1\" class=\"dataframe\">\n",
       "  <thead>\n",
       "    <tr style=\"text-align: right;\">\n",
       "      <th></th>\n",
       "      <th>A</th>\n",
       "      <th>B</th>\n",
       "    </tr>\n",
       "  </thead>\n",
       "  <tbody>\n",
       "    <tr>\n",
       "      <th>2013-01-02</th>\n",
       "      <td>0.249046</td>\n",
       "      <td>1.326292</td>\n",
       "    </tr>\n",
       "    <tr>\n",
       "      <th>2013-01-03</th>\n",
       "      <td>0.625397</td>\n",
       "      <td>-0.077841</td>\n",
       "    </tr>\n",
       "    <tr>\n",
       "      <th>2013-01-04</th>\n",
       "      <td>0.478941</td>\n",
       "      <td>-0.802880</td>\n",
       "    </tr>\n",
       "  </tbody>\n",
       "</table>\n",
       "</div>"
      ],
      "text/plain": [
       "                   A         B\n",
       "2013-01-02  0.249046  1.326292\n",
       "2013-01-03  0.625397 -0.077841\n",
       "2013-01-04  0.478941 -0.802880"
      ]
     },
     "execution_count": 37,
     "metadata": {},
     "output_type": "execute_result"
    }
   ],
   "source": [
    "df.loc['20130102':'20130104', ['A', 'B']]\n"
   ]
  },
  {
   "cell_type": "markdown",
   "id": "b3164603-6012-46c9-a7ed-704ae4c4623d",
   "metadata": {},
   "source": [
    "# Reduction in Dimensions\n",
    "\n",
    "This code selects a **single row** and **some specific columns** — and returns a **Series** instead of a DataFrame."
   ]
  },
  {
   "cell_type": "code",
   "execution_count": 39,
   "id": "a3513740-fbbf-4a91-b854-f8168b368a48",
   "metadata": {},
   "outputs": [
    {
     "data": {
      "text/plain": [
       "A    0.249046\n",
       "B    1.326292\n",
       "Name: 2013-01-02 00:00:00, dtype: float64"
      ]
     },
     "execution_count": 39,
     "metadata": {},
     "output_type": "execute_result"
    }
   ],
   "source": [
    "df.loc['20130102',['A','B']] "
   ]
  },
  {
   "cell_type": "markdown",
   "id": "5288e9a2-9ad1-4b54-a15d-27dfb1857661",
   "metadata": {},
   "source": [
    "# Accessing a Scalar Value\n",
    "\n",
    "This code is used to **get a single value (scalar)** from the DataFrame — from a specific **row and column**."
   ]
  },
  {
   "cell_type": "code",
   "execution_count": 43,
   "id": "25054752-1ab2-42c1-8d1a-753c0ec12570",
   "metadata": {},
   "outputs": [
    {
     "data": {
      "text/plain": [
       "np.float64(-0.9206710257816915)"
      ]
     },
     "execution_count": 43,
     "metadata": {},
     "output_type": "execute_result"
    }
   ],
   "source": [
    "df.loc[dates[0],'A'] "
   ]
  },
  {
   "cell_type": "markdown",
   "id": "437b28c1-19bb-474d-a557-d9ded0e87040",
   "metadata": {},
   "source": [
    "#  Fast Access to a Scalar Value \n",
    "\n",
    "This code is used to get a **single cell value** from the DataFrame, and it works **faster than `loc[]`** when you're only accessing **one scalar**."
   ]
  },
  {
   "cell_type": "code",
   "execution_count": 42,
   "id": "26b4e616-5a48-4496-942d-5b4faabf501f",
   "metadata": {},
   "outputs": [
    {
     "data": {
      "text/plain": [
       "np.float64(-0.9206710257816915)"
      ]
     },
     "execution_count": 42,
     "metadata": {},
     "output_type": "execute_result"
    }
   ],
   "source": [
    "df.at[dates[0],'A'] "
   ]
  },
  {
   "cell_type": "markdown",
   "id": "03b14472-4b48-43e1-8c1c-c5cc8ce14021",
   "metadata": {},
   "source": [
    "#  Selecting a Single Row by Position \n",
    "\n",
    "This code is used to **select one row** from a DataFrame using its **integer position** (not label name).\n"
   ]
  },
  {
   "cell_type": "code",
   "execution_count": 6,
   "id": "6af4f62a-c512-45f6-ab4f-38a5793c5230",
   "metadata": {},
   "outputs": [
    {
     "data": {
      "text/plain": [
       "A    0.388668\n",
       "B   -1.613518\n",
       "C   -1.713179\n",
       "D    0.035402\n",
       "Name: 2013-01-04 00:00:00, dtype: float64"
      ]
     },
     "execution_count": 6,
     "metadata": {},
     "output_type": "execute_result"
    }
   ],
   "source": [
    "df.iloc[3]\n"
   ]
  },
  {
   "cell_type": "markdown",
   "id": "d57b9080-cae7-4646-916b-76a4da8e49dc",
   "metadata": {},
   "source": [
    "#  Selecting Rows and Columns by Integer Slices \n",
    "\n",
    "This code selects a **specific set of rows and columns** using **integer-based slicing**, just like in Python lists or NumPy arrays.\n"
   ]
  },
  {
   "cell_type": "code",
   "execution_count": 8,
   "id": "7f73fac8-ed52-4b1b-90fa-26615fb219e8",
   "metadata": {},
   "outputs": [
    {
     "data": {
      "text/html": [
       "<div>\n",
       "<style scoped>\n",
       "    .dataframe tbody tr th:only-of-type {\n",
       "        vertical-align: middle;\n",
       "    }\n",
       "\n",
       "    .dataframe tbody tr th {\n",
       "        vertical-align: top;\n",
       "    }\n",
       "\n",
       "    .dataframe thead th {\n",
       "        text-align: right;\n",
       "    }\n",
       "</style>\n",
       "<table border=\"1\" class=\"dataframe\">\n",
       "  <thead>\n",
       "    <tr style=\"text-align: right;\">\n",
       "      <th></th>\n",
       "      <th>A</th>\n",
       "      <th>B</th>\n",
       "    </tr>\n",
       "  </thead>\n",
       "  <tbody>\n",
       "    <tr>\n",
       "      <th>2013-01-04</th>\n",
       "      <td>0.388668</td>\n",
       "      <td>-1.613518</td>\n",
       "    </tr>\n",
       "    <tr>\n",
       "      <th>2013-01-05</th>\n",
       "      <td>1.988020</td>\n",
       "      <td>-0.068843</td>\n",
       "    </tr>\n",
       "  </tbody>\n",
       "</table>\n",
       "</div>"
      ],
      "text/plain": [
       "                   A         B\n",
       "2013-01-04  0.388668 -1.613518\n",
       "2013-01-05  1.988020 -0.068843"
      ]
     },
     "execution_count": 8,
     "metadata": {},
     "output_type": "execute_result"
    }
   ],
   "source": [
    "\n",
    "df.iloc[3:5,0:2]"
   ]
  },
  {
   "cell_type": "markdown",
   "id": "74b8bd58-fdaf-43a4-9658-9eea2bd39052",
   "metadata": {},
   "source": [
    "#  Selecting Specific Rows and Columns \n",
    "\n",
    "This line selects **specific rows and columns** from the DataFrame by using **lists of integer positions** — just like in NumPy.\n"
   ]
  },
  {
   "cell_type": "code",
   "execution_count": 13,
   "id": "e9fc521b-73cc-48ee-8245-312c1244e126",
   "metadata": {},
   "outputs": [
    {
     "data": {
      "text/html": [
       "<div>\n",
       "<style scoped>\n",
       "    .dataframe tbody tr th:only-of-type {\n",
       "        vertical-align: middle;\n",
       "    }\n",
       "\n",
       "    .dataframe tbody tr th {\n",
       "        vertical-align: top;\n",
       "    }\n",
       "\n",
       "    .dataframe thead th {\n",
       "        text-align: right;\n",
       "    }\n",
       "</style>\n",
       "<table border=\"1\" class=\"dataframe\">\n",
       "  <thead>\n",
       "    <tr style=\"text-align: right;\">\n",
       "      <th></th>\n",
       "      <th>A</th>\n",
       "      <th>C</th>\n",
       "    </tr>\n",
       "  </thead>\n",
       "  <tbody>\n",
       "    <tr>\n",
       "      <th>2013-01-02</th>\n",
       "      <td>0.793731</td>\n",
       "      <td>1.116814</td>\n",
       "    </tr>\n",
       "    <tr>\n",
       "      <th>2013-01-03</th>\n",
       "      <td>2.527459</td>\n",
       "      <td>-0.043718</td>\n",
       "    </tr>\n",
       "    <tr>\n",
       "      <th>2013-01-05</th>\n",
       "      <td>1.988020</td>\n",
       "      <td>0.948234</td>\n",
       "    </tr>\n",
       "  </tbody>\n",
       "</table>\n",
       "</div>"
      ],
      "text/plain": [
       "                   A         C\n",
       "2013-01-02  0.793731  1.116814\n",
       "2013-01-03  2.527459 -0.043718\n",
       "2013-01-05  1.988020  0.948234"
      ]
     },
     "execution_count": 13,
     "metadata": {},
     "output_type": "execute_result"
    }
   ],
   "source": [
    "df.iloc[[1, 2, 4], [0, 2]]\n"
   ]
  },
  {
   "cell_type": "markdown",
   "id": "0d2f26cc-f488-45b4-97dc-9cf31cc71303",
   "metadata": {},
   "source": [
    " ## Selecting a Range of Columns \n",
    "\n",
    "This code is used to **select specific columns** from the DataFrame using **position-based slicing**, and it includes **all rows**."
   ]
  },
  {
   "cell_type": "code",
   "execution_count": 16,
   "id": "f9683e2a-e55a-4ff4-ba6b-639a9d65a131",
   "metadata": {},
   "outputs": [
    {
     "data": {
      "text/html": [
       "<div>\n",
       "<style scoped>\n",
       "    .dataframe tbody tr th:only-of-type {\n",
       "        vertical-align: middle;\n",
       "    }\n",
       "\n",
       "    .dataframe tbody tr th {\n",
       "        vertical-align: top;\n",
       "    }\n",
       "\n",
       "    .dataframe thead th {\n",
       "        text-align: right;\n",
       "    }\n",
       "</style>\n",
       "<table border=\"1\" class=\"dataframe\">\n",
       "  <thead>\n",
       "    <tr style=\"text-align: right;\">\n",
       "      <th></th>\n",
       "      <th>B</th>\n",
       "      <th>C</th>\n",
       "    </tr>\n",
       "  </thead>\n",
       "  <tbody>\n",
       "    <tr>\n",
       "      <th>2013-01-01</th>\n",
       "      <td>-1.220438</td>\n",
       "      <td>-1.533635</td>\n",
       "    </tr>\n",
       "    <tr>\n",
       "      <th>2013-01-02</th>\n",
       "      <td>-0.469725</td>\n",
       "      <td>1.116814</td>\n",
       "    </tr>\n",
       "    <tr>\n",
       "      <th>2013-01-03</th>\n",
       "      <td>-1.344347</td>\n",
       "      <td>-0.043718</td>\n",
       "    </tr>\n",
       "    <tr>\n",
       "      <th>2013-01-04</th>\n",
       "      <td>-1.613518</td>\n",
       "      <td>-1.713179</td>\n",
       "    </tr>\n",
       "    <tr>\n",
       "      <th>2013-01-05</th>\n",
       "      <td>-0.068843</td>\n",
       "      <td>0.948234</td>\n",
       "    </tr>\n",
       "    <tr>\n",
       "      <th>2013-01-06</th>\n",
       "      <td>-0.356748</td>\n",
       "      <td>-0.178683</td>\n",
       "    </tr>\n",
       "  </tbody>\n",
       "</table>\n",
       "</div>"
      ],
      "text/plain": [
       "                   B         C\n",
       "2013-01-01 -1.220438 -1.533635\n",
       "2013-01-02 -0.469725  1.116814\n",
       "2013-01-03 -1.344347 -0.043718\n",
       "2013-01-04 -1.613518 -1.713179\n",
       "2013-01-05 -0.068843  0.948234\n",
       "2013-01-06 -0.356748 -0.178683"
      ]
     },
     "execution_count": 16,
     "metadata": {},
     "output_type": "execute_result"
    }
   ],
   "source": [
    "df.iloc[:, 1:3]\n"
   ]
  },
  {
   "cell_type": "markdown",
   "id": "e9d9fde6-f151-413e-a67e-6421e52f4fb6",
   "metadata": {},
   "source": [
    "# Getting a Specific Cell Value \n",
    "This code is used to get **one specific value** from the DataFrame using **row and column positions**.\n"
   ]
  },
  {
   "cell_type": "code",
   "execution_count": 18,
   "id": "7e191afa-df55-4402-b94f-02cadf81b37a",
   "metadata": {},
   "outputs": [
    {
     "data": {
      "text/plain": [
       "np.float64(-0.469725)"
      ]
     },
     "execution_count": 18,
     "metadata": {},
     "output_type": "execute_result"
    }
   ],
   "source": [
    "df.iloc[1,1] "
   ]
  },
  {
   "cell_type": "markdown",
   "id": "13b4077b-5345-4015-859b-34701deda954",
   "metadata": {},
   "source": [
    "# Filtering Rows Based on Column Values\n",
    "\n",
    "This code is used to **filter rows** from the DataFrame where the value in column **'A'** is **greater than 0**."
   ]
  },
  {
   "cell_type": "code",
   "execution_count": 20,
   "id": "76e73c6f-2d50-4209-8ef2-c48134f60299",
   "metadata": {},
   "outputs": [
    {
     "data": {
      "text/html": [
       "<div>\n",
       "<style scoped>\n",
       "    .dataframe tbody tr th:only-of-type {\n",
       "        vertical-align: middle;\n",
       "    }\n",
       "\n",
       "    .dataframe tbody tr th {\n",
       "        vertical-align: top;\n",
       "    }\n",
       "\n",
       "    .dataframe thead th {\n",
       "        text-align: right;\n",
       "    }\n",
       "</style>\n",
       "<table border=\"1\" class=\"dataframe\">\n",
       "  <thead>\n",
       "    <tr style=\"text-align: right;\">\n",
       "      <th></th>\n",
       "      <th>A</th>\n",
       "      <th>B</th>\n",
       "      <th>C</th>\n",
       "      <th>D</th>\n",
       "    </tr>\n",
       "  </thead>\n",
       "  <tbody>\n",
       "    <tr>\n",
       "      <th>2013-01-02</th>\n",
       "      <td>0.793731</td>\n",
       "      <td>-0.469725</td>\n",
       "      <td>1.116814</td>\n",
       "      <td>-0.235097</td>\n",
       "    </tr>\n",
       "    <tr>\n",
       "      <th>2013-01-03</th>\n",
       "      <td>2.527459</td>\n",
       "      <td>-1.344347</td>\n",
       "      <td>-0.043718</td>\n",
       "      <td>0.136468</td>\n",
       "    </tr>\n",
       "    <tr>\n",
       "      <th>2013-01-04</th>\n",
       "      <td>0.388668</td>\n",
       "      <td>-1.613518</td>\n",
       "      <td>-1.713179</td>\n",
       "      <td>0.035402</td>\n",
       "    </tr>\n",
       "    <tr>\n",
       "      <th>2013-01-05</th>\n",
       "      <td>1.988020</td>\n",
       "      <td>-0.068843</td>\n",
       "      <td>0.948234</td>\n",
       "      <td>0.136082</td>\n",
       "    </tr>\n",
       "    <tr>\n",
       "      <th>2013-01-06</th>\n",
       "      <td>1.724599</td>\n",
       "      <td>-0.356748</td>\n",
       "      <td>-0.178683</td>\n",
       "      <td>0.779853</td>\n",
       "    </tr>\n",
       "  </tbody>\n",
       "</table>\n",
       "</div>"
      ],
      "text/plain": [
       "                   A         B         C         D\n",
       "2013-01-02  0.793731 -0.469725  1.116814 -0.235097\n",
       "2013-01-03  2.527459 -1.344347 -0.043718  0.136468\n",
       "2013-01-04  0.388668 -1.613518 -1.713179  0.035402\n",
       "2013-01-05  1.988020 -0.068843  0.948234  0.136082\n",
       "2013-01-06  1.724599 -0.356748 -0.178683  0.779853"
      ]
     },
     "execution_count": 20,
     "metadata": {},
     "output_type": "execute_result"
    }
   ],
   "source": [
    "df[df.A > 0]"
   ]
  },
  {
   "cell_type": "markdown",
   "id": "8b16e45e-aa68-4d48-a131-a91c4084e1d7",
   "metadata": {},
   "source": [
    "#  Selecting Only Positive Values in the DataFrame \n",
    "\n",
    "This code filters the **entire DataFrame**, and only keeps the **values greater than 0**.  \n",
    "All other values (which don't meet the condition) are replaced with **NaN**."
   ]
  },
  {
   "cell_type": "code",
   "execution_count": 23,
   "id": "c737e989-541c-4a7a-b318-597743770957",
   "metadata": {},
   "outputs": [
    {
     "data": {
      "text/html": [
       "<div>\n",
       "<style scoped>\n",
       "    .dataframe tbody tr th:only-of-type {\n",
       "        vertical-align: middle;\n",
       "    }\n",
       "\n",
       "    .dataframe tbody tr th {\n",
       "        vertical-align: top;\n",
       "    }\n",
       "\n",
       "    .dataframe thead th {\n",
       "        text-align: right;\n",
       "    }\n",
       "</style>\n",
       "<table border=\"1\" class=\"dataframe\">\n",
       "  <thead>\n",
       "    <tr style=\"text-align: right;\">\n",
       "      <th></th>\n",
       "      <th>A</th>\n",
       "      <th>B</th>\n",
       "      <th>C</th>\n",
       "      <th>D</th>\n",
       "    </tr>\n",
       "  </thead>\n",
       "  <tbody>\n",
       "    <tr>\n",
       "      <th>2013-01-01</th>\n",
       "      <td>NaN</td>\n",
       "      <td>NaN</td>\n",
       "      <td>NaN</td>\n",
       "      <td>NaN</td>\n",
       "    </tr>\n",
       "    <tr>\n",
       "      <th>2013-01-02</th>\n",
       "      <td>0.793731</td>\n",
       "      <td>NaN</td>\n",
       "      <td>1.116814</td>\n",
       "      <td>NaN</td>\n",
       "    </tr>\n",
       "    <tr>\n",
       "      <th>2013-01-03</th>\n",
       "      <td>2.527459</td>\n",
       "      <td>NaN</td>\n",
       "      <td>NaN</td>\n",
       "      <td>0.136468</td>\n",
       "    </tr>\n",
       "    <tr>\n",
       "      <th>2013-01-04</th>\n",
       "      <td>0.388668</td>\n",
       "      <td>NaN</td>\n",
       "      <td>NaN</td>\n",
       "      <td>0.035402</td>\n",
       "    </tr>\n",
       "    <tr>\n",
       "      <th>2013-01-05</th>\n",
       "      <td>1.988020</td>\n",
       "      <td>NaN</td>\n",
       "      <td>0.948234</td>\n",
       "      <td>0.136082</td>\n",
       "    </tr>\n",
       "    <tr>\n",
       "      <th>2013-01-06</th>\n",
       "      <td>1.724599</td>\n",
       "      <td>NaN</td>\n",
       "      <td>NaN</td>\n",
       "      <td>0.779853</td>\n",
       "    </tr>\n",
       "  </tbody>\n",
       "</table>\n",
       "</div>"
      ],
      "text/plain": [
       "                   A   B         C         D\n",
       "2013-01-01       NaN NaN       NaN       NaN\n",
       "2013-01-02  0.793731 NaN  1.116814       NaN\n",
       "2013-01-03  2.527459 NaN       NaN  0.136468\n",
       "2013-01-04  0.388668 NaN       NaN  0.035402\n",
       "2013-01-05  1.988020 NaN  0.948234  0.136082\n",
       "2013-01-06  1.724599 NaN       NaN  0.779853"
      ]
     },
     "execution_count": 23,
     "metadata": {},
     "output_type": "execute_result"
    }
   ],
   "source": [
    "df[df > 0]\n"
   ]
  },
  {
   "cell_type": "markdown",
   "id": "de6d1627-3fa4-4eeb-bf8c-c83e5f870628",
   "metadata": {},
   "source": [
    "# Creating a Copy of a DataFrame and Adding a New Column for Filtering with `isin()`\n",
    "\n",
    "This code makes a **copy** of the original DataFrame, adds a new column `'E'`, and prepares it for **filtering using the `isin()` method**."
   ]
  },
  {
   "cell_type": "code",
   "execution_count": 25,
   "id": "3e531178-0820-44f7-80ab-982e84551b1c",
   "metadata": {},
   "outputs": [
    {
     "data": {
      "text/html": [
       "<div>\n",
       "<style scoped>\n",
       "    .dataframe tbody tr th:only-of-type {\n",
       "        vertical-align: middle;\n",
       "    }\n",
       "\n",
       "    .dataframe tbody tr th {\n",
       "        vertical-align: top;\n",
       "    }\n",
       "\n",
       "    .dataframe thead th {\n",
       "        text-align: right;\n",
       "    }\n",
       "</style>\n",
       "<table border=\"1\" class=\"dataframe\">\n",
       "  <thead>\n",
       "    <tr style=\"text-align: right;\">\n",
       "      <th></th>\n",
       "      <th>A</th>\n",
       "      <th>B</th>\n",
       "      <th>C</th>\n",
       "      <th>D</th>\n",
       "      <th>E</th>\n",
       "    </tr>\n",
       "  </thead>\n",
       "  <tbody>\n",
       "    <tr>\n",
       "      <th>2013-01-01</th>\n",
       "      <td>-0.119099</td>\n",
       "      <td>-1.220438</td>\n",
       "      <td>-1.533635</td>\n",
       "      <td>-1.024571</td>\n",
       "      <td>one</td>\n",
       "    </tr>\n",
       "    <tr>\n",
       "      <th>2013-01-02</th>\n",
       "      <td>0.793731</td>\n",
       "      <td>-0.469725</td>\n",
       "      <td>1.116814</td>\n",
       "      <td>-0.235097</td>\n",
       "      <td>one</td>\n",
       "    </tr>\n",
       "    <tr>\n",
       "      <th>2013-01-03</th>\n",
       "      <td>2.527459</td>\n",
       "      <td>-1.344347</td>\n",
       "      <td>-0.043718</td>\n",
       "      <td>0.136468</td>\n",
       "      <td>two</td>\n",
       "    </tr>\n",
       "    <tr>\n",
       "      <th>2013-01-04</th>\n",
       "      <td>0.388668</td>\n",
       "      <td>-1.613518</td>\n",
       "      <td>-1.713179</td>\n",
       "      <td>0.035402</td>\n",
       "      <td>three</td>\n",
       "    </tr>\n",
       "    <tr>\n",
       "      <th>2013-01-05</th>\n",
       "      <td>1.988020</td>\n",
       "      <td>-0.068843</td>\n",
       "      <td>0.948234</td>\n",
       "      <td>0.136082</td>\n",
       "      <td>four</td>\n",
       "    </tr>\n",
       "    <tr>\n",
       "      <th>2013-01-06</th>\n",
       "      <td>1.724599</td>\n",
       "      <td>-0.356748</td>\n",
       "      <td>-0.178683</td>\n",
       "      <td>0.779853</td>\n",
       "      <td>three</td>\n",
       "    </tr>\n",
       "  </tbody>\n",
       "</table>\n",
       "</div>"
      ],
      "text/plain": [
       "                   A         B         C         D      E\n",
       "2013-01-01 -0.119099 -1.220438 -1.533635 -1.024571    one\n",
       "2013-01-02  0.793731 -0.469725  1.116814 -0.235097    one\n",
       "2013-01-03  2.527459 -1.344347 -0.043718  0.136468    two\n",
       "2013-01-04  0.388668 -1.613518 -1.713179  0.035402  three\n",
       "2013-01-05  1.988020 -0.068843  0.948234  0.136082   four\n",
       "2013-01-06  1.724599 -0.356748 -0.178683  0.779853  three"
      ]
     },
     "execution_count": 25,
     "metadata": {},
     "output_type": "execute_result"
    }
   ],
   "source": [
    "df2 = df.copy()\n",
    "df2['E'] = ['one', 'one', 'two', 'three', 'four', 'three']\n",
    "df2\n"
   ]
  },
  {
   "cell_type": "markdown",
   "id": "d816f541-47a9-40c9-b6fb-5f7cc6be8e7a",
   "metadata": {},
   "source": [
    "#  Filtering Rows Where Column `'E'` Matches Specific Values\n",
    "\n",
    "This code is used to **filter** rows based on specific **category values** in a column.  \n",
    "It shows only those rows where the **value in column `'E'` is either `'two'` or `'four'`**.\n"
   ]
  },
  {
   "cell_type": "code",
   "execution_count": 26,
   "id": "1d6991db-2cc6-4162-bf0c-42c6da44e784",
   "metadata": {},
   "outputs": [
    {
     "data": {
      "text/html": [
       "<div>\n",
       "<style scoped>\n",
       "    .dataframe tbody tr th:only-of-type {\n",
       "        vertical-align: middle;\n",
       "    }\n",
       "\n",
       "    .dataframe tbody tr th {\n",
       "        vertical-align: top;\n",
       "    }\n",
       "\n",
       "    .dataframe thead th {\n",
       "        text-align: right;\n",
       "    }\n",
       "</style>\n",
       "<table border=\"1\" class=\"dataframe\">\n",
       "  <thead>\n",
       "    <tr style=\"text-align: right;\">\n",
       "      <th></th>\n",
       "      <th>A</th>\n",
       "      <th>B</th>\n",
       "      <th>C</th>\n",
       "      <th>D</th>\n",
       "      <th>E</th>\n",
       "    </tr>\n",
       "  </thead>\n",
       "  <tbody>\n",
       "    <tr>\n",
       "      <th>2013-01-03</th>\n",
       "      <td>2.527459</td>\n",
       "      <td>-1.344347</td>\n",
       "      <td>-0.043718</td>\n",
       "      <td>0.136468</td>\n",
       "      <td>two</td>\n",
       "    </tr>\n",
       "    <tr>\n",
       "      <th>2013-01-05</th>\n",
       "      <td>1.988020</td>\n",
       "      <td>-0.068843</td>\n",
       "      <td>0.948234</td>\n",
       "      <td>0.136082</td>\n",
       "      <td>four</td>\n",
       "    </tr>\n",
       "  </tbody>\n",
       "</table>\n",
       "</div>"
      ],
      "text/plain": [
       "                   A         B         C         D     E\n",
       "2013-01-03  2.527459 -1.344347 -0.043718  0.136468   two\n",
       "2013-01-05  1.988020 -0.068843  0.948234  0.136082  four"
      ]
     },
     "execution_count": 26,
     "metadata": {},
     "output_type": "execute_result"
    }
   ],
   "source": [
    "df2[df2['E'].isin(['two','four'])]"
   ]
  }
 ],
 "metadata": {
  "kernelspec": {
   "display_name": "Python [conda env:base] *",
   "language": "python",
   "name": "conda-base-py"
  },
  "language_info": {
   "codemirror_mode": {
    "name": "ipython",
    "version": 3
   },
   "file_extension": ".py",
   "mimetype": "text/x-python",
   "name": "python",
   "nbconvert_exporter": "python",
   "pygments_lexer": "ipython3",
   "version": "3.13.5"
  }
 },
 "nbformat": 4,
 "nbformat_minor": 5
}
